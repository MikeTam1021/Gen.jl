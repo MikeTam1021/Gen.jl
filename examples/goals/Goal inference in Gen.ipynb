{
 "cells": [
  {
   "cell_type": "markdown",
   "metadata": {},
   "source": [
    "# Inferring the goals of autonomous agents in Gen.jl\n",
    "\n",
    "what is Gen.jl (2 sentences)"
   ]
  },
  {
   "cell_type": "code",
   "execution_count": 1,
   "metadata": {
    "scrolled": true
   },
   "outputs": [],
   "source": [
    "using Gen"
   ]
  },
  {
   "cell_type": "code",
   "execution_count": 13,
   "metadata": {},
   "outputs": [
    {
     "data": {
      "text/html": [
       "<script>\n",
       "\tGen = {\n",
       "\n",
       "    find_choice: function(trace, name) {\n",
       "        if (name in trace.recorded) {\n",
       "            //console.log(name + \" found in interventions\");\n",
       "            return { value: trace.recorded[name], where: \"recorded\" }\n",
       "        } else if (name in trace.interventions) {\n",
       "            //console.log(name + \" found in interventions\");\n",
       "            return { value: trace.interventions[name], where: \"interventions\"}\n",
       "        } else if (name in trace.constraints) {\n",
       "            //console.log(name + \" found in constraints\");\n",
       "            return { value: trace.constraints[name], where: \"constraints\"}\n",
       "        } else {\n",
       "            return null\n",
       "        }\n",
       "    },\n",
       "\n",
       "    register_jupyter_renderer: function(name, render_function) {\n",
       "        \n",
       "        Jupyter.notebook.kernel.comm_manager.unregister_target(name);\n",
       "        Jupyter.notebook.kernel.comm_manager.register_target(name, function(comm, msg) {\n",
       "            comm.on_msg(function(msg) {\n",
       "                var id = msg.content.data.dom_element_id;\n",
       "                var trace = msg.content.data.trace;\n",
       "                render_function(id, trace);\n",
       "            })\n",
       "        });\n",
       "        \n",
       "    }\n",
       "};\n",
       "\n",
       "</script>"
      ],
      "text/plain": [
       "HTML{String}(\"<script>\\n\\tGen = {\\n\\n    find_choice: function(trace, name) {\\n        if (name in trace.recorded) {\\n            //console.log(name + \\\" found in interventions\\\");\\n            return { value: trace.recorded[name], where: \\\"recorded\\\" }\\n        } else if (name in trace.interventions) {\\n            //console.log(name + \\\" found in interventions\\\");\\n            return { value: trace.interventions[name], where: \\\"interventions\\\"}\\n        } else if (name in trace.constraints) {\\n            //console.log(name + \\\" found in constraints\\\");\\n            return { value: trace.constraints[name], where: \\\"constraints\\\"}\\n        } else {\\n            return null\\n        }\\n    },\\n\\n    register_jupyter_renderer: function(name, render_function) {\\n        \\n        Jupyter.notebook.kernel.comm_manager.unregister_target(name);\\n        Jupyter.notebook.kernel.comm_manager.register_target(name, function(comm, msg) {\\n            comm.on_msg(function(msg) {\\n                var id = msg.content.data.dom_element_id;\\n                var trace = msg.content.data.trace;\\n                render_function(id, trace);\\n            })\\n        });\\n        \\n    }\\n};\\n\\n</script>\")"
      ]
     },
     "execution_count": 13,
     "metadata": {},
     "output_type": "execute_result"
    }
   ],
   "source": [
    "enable_inline()"
   ]
  },
  {
   "cell_type": "markdown",
   "metadata": {},
   "source": [
    "## 1. Modeling an autonomous agent\n",
    "\n",
    "Explain ( 2 sentence). Explain that a model is a probabilisttic program, and that @program is used to define a probabilistic program in Gen.jl"
   ]
  },
  {
   "cell_type": "code",
   "execution_count": 3,
   "metadata": {},
   "outputs": [
    {
     "data": {
      "text/plain": [
       "walk_path (generic function with 1 method)"
      ]
     },
     "execution_count": 3,
     "metadata": {},
     "output_type": "execute_result"
    }
   ],
   "source": [
    "include(\"scene.jl\")\n",
    "include(\"path_planner.jl\")"
   ]
  },
  {
   "cell_type": "code",
   "execution_count": 7,
   "metadata": {},
   "outputs": [
    {
     "name": "stderr",
     "output_type": "stream",
     "text": [
      "WARNING: Method definition model(Gen.AbstractTrace) in module Main at In[4]:4 overwritten at In[7]:4.\n"
     ]
    }
   ],
   "source": [
    "@program model() begin\n",
    "    \n",
    "    # assumed scene\n",
    "    scene = Scene(0, 100, 0, 100) # the scene spans the square [0, 100] x [0, 100]\n",
    "    add!(scene, Tree(Point(30, 20))) # place a tree at x=30, y=20\n",
    "    add!(scene, Tree(Point(83, 80)))\n",
    "    add!(scene, Tree(Point(80, 40)))\n",
    "    wall_height = 30.\n",
    "    add!(scene, Wall(Point(20., 40.), 1, 40., 2., wall_height))\n",
    "    add!(scene, Wall(Point(60., 40.), 2, 40., 2., wall_height))\n",
    "    add!(scene, Wall(Point(60.-15., 80.), 1, 15. + 2., 2., wall_height))\n",
    "    add!(scene, Wall(Point(20., 80.), 1, 15., 2., wall_height))\n",
    "    add!(scene, Wall(Point(20., 40.), 2, 40., 2., wall_height))    \n",
    "    \n",
    "    # time points at which we observe the agent's location\n",
    "    observation_times = collect(linspace(0.0, 200.0, 20)) ~ \"times\"\n",
    "    \n",
    "    # assumed speed of the agent\n",
    "    speed = 1.0\n",
    "    \n",
    "    # the starting location of the agent is a random point in the scene\n",
    "    start = Point(uniform(0, 100), uniform(0, 100)) ~ \"start\"\n",
    "    \n",
    "    # the destination of the agent is a random point in the scene\n",
    "    destination = Point(uniform(0, 100), uniform(0, 100)) ~ \"destination\"\n",
    "    \n",
    "    # the path of the agent from its start location to its destination\n",
    "    # uses a simple 2D holonomic path planner based on RRT (path_planner.jl)\n",
    "    (tree, rough_path, final_path) = plan_path(start, destination, scene)\n",
    "    \n",
    "    if isnull(final_path)\n",
    "        \n",
    "        # the agent could not find a path to its destination\n",
    "        # assume it stays at the start location indefinitely\n",
    "        locations = [start for _ in observation_times]\n",
    "    else\n",
    "        \n",
    "        # the agent found a path to its destination\n",
    "        # assume it moves from the start to the destinatoin along the path at constnat speed\n",
    "        # sample its location along this path for each time in observation times\n",
    "        locations = walk_path(get(final_path), speed, observation_times)\n",
    "    end\n",
    "    \n",
    "    # assume that the observed locations are noisy measurements of the true locations\n",
    "    # assume the noise is normally distributed with standard deviation 'noise'\n",
    "    noise = 1.0\n",
    "    for (i, t) in enumerate(observation_times)\n",
    "        measured_x = normal(locations[i].x, noise) ~ \"x$i\"\n",
    "        measured_y = normal(locations[i].y, noise) ~ \"y$i\"\n",
    "    end\n",
    "    \n",
    "    # record other program state for rendering\n",
    "    scene ~ \"scene\"\n",
    "end;"
   ]
  },
  {
   "cell_type": "markdown",
   "metadata": {},
   "source": [
    "We can run the model to generate probable scenarios:. We run a model using `@generate`, which executes a program and populates a trace with the values of the named expressions in the program."
   ]
  },
  {
   "cell_type": "code",
   "execution_count": 8,
   "metadata": {},
   "outputs": [
    {
     "name": "stdout",
     "output_type": "stream",
     "text": [
      "start: Point(93.7386500434755,37.79116438370564)\n",
      "destination: Point(88.48257792235299,61.36929086229739)\n",
      "xs: [93.5184,91.9235,90.5453,89.3539]\n",
      "ys: [39.0563,47.005,56.8321,62.0805]\n"
     ]
    }
   ],
   "source": [
    "trace = Trace()\n",
    "@generate(trace, model())\n",
    "start = value(trace, \"start\")\n",
    "destination = value(trace, \"destination\")\n",
    "xs = map((i) -> value(trace, \"x$i\"), 1:4)\n",
    "ys = map((i) -> value(trace, \"y$i\"), 1:4)\n",
    "println(\"start: \", start)\n",
    "println(\"destination: \", destination)\n",
    "println(\"xs: \", xs)\n",
    "println(\"ys: \", ys)"
   ]
  },
  {
   "cell_type": "markdown",
   "metadata": {},
   "source": [
    "If we run it again, we get a different result:"
   ]
  },
  {
   "cell_type": "code",
   "execution_count": 9,
   "metadata": {},
   "outputs": [
    {
     "name": "stdout",
     "output_type": "stream",
     "text": [
      "start: Point(2.307179374751911,68.9543039113342)\n",
      "destination: Point(43.940174483397264,45.900743483373255)\n",
      "xs: [1.69084,11.7197,19.1814,32.1906]\n",
      "ys: [69.4731,73.8802,79.9306,82.2144]\n"
     ]
    }
   ],
   "source": [
    "trace = Trace()\n",
    "@generate(trace, model())\n",
    "start = value(trace, \"start\")\n",
    "destination = value(trace, \"destination\")\n",
    "xs = map((i) -> value(trace, \"x$i\"), 1:4)\n",
    "ys = map((i) -> value(trace, \"y$i\"), 1:4)\n",
    "println(\"start: \", start)\n",
    "println(\"destination: \", destination)\n",
    "println(\"xs: \", xs)\n",
    "println(\"ys: \", ys)"
   ]
  },
  {
   "cell_type": "markdown",
   "metadata": {},
   "source": [
    "# 2. Visualizing the probabilistic behavior of a model using a trace rendering"
   ]
  },
  {
   "cell_type": "markdown",
   "metadata": {},
   "source": [
    "Printing out the values of variables is not a very good way to understand the probabilistic behavior of a program. Instead, we use a **trace rendering** to produce a visual representation of the trace. The trace rendering encodes the trace into a representation that the human visual system can quickly interpret. Here is an example trace rendering for our model that uses matplotlib:"
   ]
  },
  {
   "cell_type": "code",
   "execution_count": 111,
   "metadata": {},
   "outputs": [
    {
     "data": {
      "application/javascript": [
       "\n",
       "function add_wall(paper, scene_group, wall) {\n",
       "    var rectangle;\n",
       "    if (wall.orientation == 1) {\n",
       "        // horizontal wall segment\n",
       "        rectangle = paper.rect(wall.start.x, wall.start.y, wall.length, wall.thickness);\n",
       "    } else if (wall.orientation == 2) {\n",
       "        // vertical wall segment\n",
       "        rectangle = paper.rect(wall.start.x, wall.start.y, wall.thickness, wall.length);\n",
       "    }\n",
       "    scene_group.add(rectangle);\n",
       "}\n",
       "\n",
       "function add_tree(paper, scene_group, tree) {\n",
       "    var side = tree.size;\n",
       "    var rectangle = paper.rect(tree.center.x - side/2.0, tree.center.y - side/2.0, side, side);\n",
       "    rectangle.attr({fill: \"#3bad29\"});\n",
       "    scene_group.add(rectangle);\n",
       "}\n",
       "\n",
       "function render_scene(paper, scene) {\n",
       "    var group = paper.select(\"#scene\");\n",
       "    if (group) {\n",
       "        group.remove();\n",
       "    }\n",
       "    group = paper.group();\n",
       "    group.attr({id: \"scene\"});\n",
       "    var obstacles = scene.value.obstacles;\n",
       "    for (var i=0; i<obstacles.length; i++) {\n",
       "        var obstacle = obstacles[i];\n",
       "        switch (obstacle.name) {\n",
       "            case \"Wall\":\n",
       "                add_wall(paper, group, obstacle);\n",
       "                break;\n",
       "            case \"Tree\":\n",
       "                add_tree(paper, group, obstacle);\n",
       "                break;\n",
       "            default:\n",
       "                break;\n",
       "        }\n",
       "    }\n",
       "}\n",
       "\n",
       "function render_start(paper, point) {\n",
       "    var circle = paper.select(\"#start\");\n",
       "    if (!circle) {\n",
       "        circle = paper.circle(point.value.x, point.value.y, 3);\n",
       "        circle.attr({id: \"start\", fill: \"#BE6698\", stroke: \"#000\",\n",
       "                     \"fill-opacity\": 1});\n",
       "    }\n",
       "    circle.attr({cx: point.value.x, cy: point.value.y, \n",
       "                 strokeWidth: point.where == \"interventions\" ? 4 : 1});\n",
       "}\n",
       "\n",
       "function render_destination(paper, point) {\n",
       "    var circle = paper.select(\"#destination\");\n",
       "    if (!circle) {\n",
       "        circle = paper.circle(point.value.x, point.value.y, 3);\n",
       "        circle.attr({id: \"start\", fill: \"#547F96\", stroke: \"#000\",\n",
       "                     \"fill-opacity\": 1});\n",
       "    }\n",
       "    circle.attr({cx: point.value.x, cy: point.value.y, \n",
       "                 strokeWidth: start.where == \"interventions\" ? 4 : 1});\n",
       "}\n",
       "\n",
       "function render_path(paper, trace) {\n",
       "    var times = Gen.find_choice(trace, \"times\");\n",
       "    var num_path_points = times.value.length;\n",
       "    for (var i=1; i<=num_path_points; i++) {\n",
       "        var id = \"path-\" + i;\n",
       "        var circle = paper.select(\"#\" + id);\n",
       "        var x = Gen.find_choice(trace, \"x\" + i);\n",
       "        var y = Gen.find_choice(trace, \"y\" + i);\n",
       "        if (!circle) {\n",
       "            circle = paper.circle(x.value, y.value, 3);\n",
       "            circle.attr({id: id, fill: \"#EDD37F\", stroke: \"#000\", \"fill-opacity\": 0.5});\n",
       "        }\n",
       "        circle.attr({cx: x.value, cy: y.value,\n",
       "                     strokeWidth: (x.where == \"interventions\" || y.where == \"interventions\") ? 4 : 1});\n",
       "    }\n",
       "}\n",
       "\n",
       "Gen.register_jupyter_renderer(\"agent_model_renderer\", function(id, trace) {\n",
       "\n",
       "    var paper = Snap(\"#\" + id);\n",
       "    console.log(\"trace: \");\n",
       "    console.log(trace);\n",
       "\n",
       "    \n",
       "    // render the scene elements\n",
       "    var scene = Gen.find_choice(trace, \"scene\");\n",
       "    if (scene) { render_scene(paper, scene); }\n",
       "\n",
       "    // render start\n",
       "    var start = Gen.find_choice(trace, \"start\");\n",
       "    if (start) { render_start(paper, start); }\n",
       "\n",
       "    // render destination\n",
       "    var destination = Gen.find_choice(trace, \"destination\");\n",
       "    if (destination) { render_destination(paper, destination); }\n",
       "\n",
       "    // render points along the path\n",
       "    render_path(paper, trace);\n",
       "})\n"
      ]
     },
     "metadata": {},
     "output_type": "display_data"
    }
   ],
   "source": [
    "javascript\"\"\"\n",
    "\n",
    "function add_wall(paper, scene_group, wall) {\n",
    "    var rectangle;\n",
    "    if (wall.orientation == 1) {\n",
    "        // horizontal wall segment\n",
    "        rectangle = paper.rect(wall.start.x, wall.start.y, wall.length, wall.thickness);\n",
    "    } else if (wall.orientation == 2) {\n",
    "        // vertical wall segment\n",
    "        rectangle = paper.rect(wall.start.x, wall.start.y, wall.thickness, wall.length);\n",
    "    }\n",
    "    scene_group.add(rectangle);\n",
    "}\n",
    "\n",
    "function add_tree(paper, scene_group, tree) {\n",
    "    var side = tree.size;\n",
    "    var rectangle = paper.rect(tree.center.x - side/2.0, tree.center.y - side/2.0, side, side);\n",
    "    rectangle.attr({fill: \"#3bad29\"});\n",
    "    scene_group.add(rectangle);\n",
    "}\n",
    "\n",
    "function render_scene(paper, scene) {\n",
    "    var group = paper.select(\"#scene\");\n",
    "    if (group) {\n",
    "        group.remove();\n",
    "    }\n",
    "    group = paper.group();\n",
    "    group.attr({id: \"scene\"});\n",
    "    var obstacles = scene.value.obstacles;\n",
    "    for (var i=0; i<obstacles.length; i++) {\n",
    "        var obstacle = obstacles[i];\n",
    "        switch (obstacle.name) {\n",
    "            case \"Wall\":\n",
    "                add_wall(paper, group, obstacle);\n",
    "                break;\n",
    "            case \"Tree\":\n",
    "                add_tree(paper, group, obstacle);\n",
    "                break;\n",
    "            default:\n",
    "                break;\n",
    "        }\n",
    "    }\n",
    "}\n",
    "\n",
    "function render_start(paper, point) {\n",
    "    var circle = paper.select(\"#start\");\n",
    "    if (!circle) {\n",
    "        circle = paper.circle(point.value.x, point.value.y, 3);\n",
    "        circle.attr({id: \"start\", fill: \"#BE6698\", stroke: \"#000\",\n",
    "                     \"fill-opacity\": 1});\n",
    "    }\n",
    "    circle.attr({cx: point.value.x, cy: point.value.y, \n",
    "                 strokeWidth: point.where == \"interventions\" ? 4 : 1});\n",
    "}\n",
    "\n",
    "function render_destination(paper, point) {\n",
    "    var circle = paper.select(\"#destination\");\n",
    "    if (!circle) {\n",
    "        circle = paper.circle(point.value.x, point.value.y, 3);\n",
    "        circle.attr({id: \"start\", fill: \"#547F96\", stroke: \"#000\",\n",
    "                     \"fill-opacity\": 1});\n",
    "    }\n",
    "    circle.attr({cx: point.value.x, cy: point.value.y, \n",
    "                 strokeWidth: start.where == \"interventions\" ? 4 : 1});\n",
    "}\n",
    "\n",
    "function render_path(paper, trace) {\n",
    "    var times = Gen.find_choice(trace, \"times\");\n",
    "    var num_path_points = times.value.length;\n",
    "    for (var i=1; i<=num_path_points; i++) {\n",
    "        var id = \"path-\" + i;\n",
    "        var circle = paper.select(\"#\" + id);\n",
    "        var x = Gen.find_choice(trace, \"x\" + i);\n",
    "        var y = Gen.find_choice(trace, \"y\" + i);\n",
    "        if (!circle) {\n",
    "            circle = paper.circle(x.value, y.value, 3);\n",
    "            circle.attr({id: id, fill: \"#EDD37F\", stroke: \"#000\", \"fill-opacity\": 0.5});\n",
    "        }\n",
    "        circle.attr({cx: x.value, cy: y.value,\n",
    "                     strokeWidth: (x.where == \"interventions\" || y.where == \"interventions\") ? 4 : 1});\n",
    "    }\n",
    "}\n",
    "\n",
    "Gen.register_jupyter_renderer(\"agent_model_renderer\", function(id, trace) {\n",
    "\n",
    "    var paper = Snap(\"#\" + id);\n",
    "    console.log(\"trace: \");\n",
    "    console.log(trace);\n",
    "\n",
    "    \n",
    "    // render the scene elements\n",
    "    var scene = Gen.find_choice(trace, \"scene\");\n",
    "    if (scene) { render_scene(paper, scene); }\n",
    "\n",
    "    // render start\n",
    "    var start = Gen.find_choice(trace, \"start\");\n",
    "    if (start) { render_start(paper, start); }\n",
    "\n",
    "    // render destination\n",
    "    var destination = Gen.find_choice(trace, \"destination\");\n",
    "    if (destination) { render_destination(paper, destination); }\n",
    "\n",
    "    // render points along the path\n",
    "    render_path(paper, trace);\n",
    "})\n",
    "\"\"\""
   ]
  },
  {
   "cell_type": "code",
   "execution_count": 112,
   "metadata": {},
   "outputs": [
    {
     "data": {
      "text/html": [
       "<svg id=id_TY8wo9aCRkh32hOl1pr9></svg>"
      ],
      "text/plain": [
       "HTML{String}(\"<svg id=id_TY8wo9aCRkh32hOl1pr9></svg>\")"
      ]
     },
     "execution_count": 112,
     "metadata": {},
     "output_type": "execute_result"
    }
   ],
   "source": [
    "renderer = JupyterInlineRenderer(\"agent_model_renderer\")\n",
    "inline(renderer)"
   ]
  },
  {
   "cell_type": "markdown",
   "metadata": {},
   "source": [
    "Let's use this rendering to visualize a run of the our program. It will be visualized in the output of the cell above."
   ]
  },
  {
   "cell_type": "code",
   "execution_count": 113,
   "metadata": {},
   "outputs": [],
   "source": [
    "trace = Trace()\n",
    "@generate(trace, model())\n",
    "render(renderer, trace)"
   ]
  },
  {
   "cell_type": "markdown",
   "metadata": {},
   "source": [
    "Since the behavior is stochastic, we need to visualize many samples at once in a grid, to get a sense of the full distribution:"
   ]
  },
  {
   "cell_type": "code",
   "execution_count": 41,
   "metadata": {},
   "outputs": [
    {
     "data": {
      "text/html": [
       "<svg id=id_Hj2RzNf0mIPyzsuXFsWg width=700 height=300 xmlns=\"http://www.w3.org/2000/svg\">\n",
       "</svg>\n",
       "<script>\n",
       "\tvar parent_svg = document.getElementById(\"id_Hj2RzNf0mIPyzsuXFsWg\");\n",
       "\tvar tile_width = 116.66666666666667;\n",
       "\tvar tile_height = 100.0;\n",
       "\tfor (var row=0; row < 3; row++) {\n",
       "\t\tfor (var col=0; col < 6; col++) {\n",
       "\t\t\tvar id = \"id_Hj2RzNf0mIPyzsuXFsWg_\" + row + \"_\" + col;\n",
       "\t\t\tvar x = tile_width * col;\n",
       "\t\t\tvar y = tile_height * row;\n",
       "\t\t\tvar svg = document.createElementNS(\"http://www.w3.org/2000/svg\", \"svg\");\n",
       "\t\t\tsvg.setAttribute(\"id\", id);\n",
       "\t\t\tsvg.setAttribute(\"x\", x);\n",
       "\t\t\tsvg.setAttribute(\"y\", y);\n",
       "\t\t\tsvg.setAttribute(\"width\", tile_width);\n",
       "\t\t\tsvg.setAttribute(\"height\", tile_height);\n",
       "\t\t\tsvg.setAttribute(\"viewBox\", \"0 0 100 100\");\n",
       "\t\t\tparent_svg.appendChild(svg);\n",
       "\t\t\tconsole.log(row +\" \" + col + \" \" + id);\n",
       "\t\t}\n",
       "\t}\n",
       "</script>\n"
      ],
      "text/plain": [
       "HTML{String}(\"<svg id=id_Hj2RzNf0mIPyzsuXFsWg width=700 height=300 xmlns=\\\"http://www.w3.org/2000/svg\\\">\\n</svg>\\n<script>\\n\\tvar parent_svg = document.getElementById(\\\"id_Hj2RzNf0mIPyzsuXFsWg\\\");\\n\\tvar tile_width = 116.66666666666667;\\n\\tvar tile_height = 100.0;\\n\\tfor (var row=0; row < 3; row++) {\\n\\t\\tfor (var col=0; col < 6; col++) {\\n\\t\\t\\tvar id = \\\"id_Hj2RzNf0mIPyzsuXFsWg_\\\" + row + \\\"_\\\" + col;\\n\\t\\t\\tvar x = tile_width * col;\\n\\t\\t\\tvar y = tile_height * row;\\n\\t\\t\\tvar svg = document.createElementNS(\\\"http://www.w3.org/2000/svg\\\", \\\"svg\\\");\\n\\t\\t\\tsvg.setAttribute(\\\"id\\\", id);\\n\\t\\t\\tsvg.setAttribute(\\\"x\\\", x);\\n\\t\\t\\tsvg.setAttribute(\\\"y\\\", y);\\n\\t\\t\\tsvg.setAttribute(\\\"width\\\", tile_width);\\n\\t\\t\\tsvg.setAttribute(\\\"height\\\", tile_height);\\n\\t\\t\\tsvg.setAttribute(\\\"viewBox\\\", \\\"0 0 100 100\\\");\\n\\t\\t\\tparent_svg.appendChild(svg);\\n\\t\\t\\tconsole.log(row +\\\" \\\" + col + \\\" \\\" + id);\\n\\t\\t}\\n\\t}\\n</script>\\n\")"
      ]
     },
     "execution_count": 41,
     "metadata": {},
     "output_type": "execute_result"
    }
   ],
   "source": [
    "tiled = TiledJupyterInlineRenderer(\"agent_model_renderer\", 6, 3, 700, 300)\n",
    "inline(tiled)"
   ]
  },
  {
   "cell_type": "code",
   "execution_count": 27,
   "metadata": {},
   "outputs": [],
   "source": [
    "traces = [begin trace = Trace(); @generate(trace, model()); trace end for i=1:18]\n",
    "render(tiled, traces)"
   ]
  },
  {
   "cell_type": "markdown",
   "metadata": {},
   "source": [
    "We can intervene and see what the traces look like when we fix the value of `start` and `destination` to specific values:"
   ]
  },
  {
   "cell_type": "code",
   "execution_count": 40,
   "metadata": {},
   "outputs": [
    {
     "data": {
      "text/html": [
       "<svg id=id_3aqQBAVRbqDFHqFEDWiM width=900 height=300 xmlns=\"http://www.w3.org/2000/svg\">\n",
       "</svg>\n",
       "<script>\n",
       "\tvar parent_svg = document.getElementById(\"id_3aqQBAVRbqDFHqFEDWiM\");\n",
       "\tvar tile_width = 100.0;\n",
       "\tvar tile_height = 100.0;\n",
       "\tfor (var row=0; row < 3; row++) {\n",
       "\t\tfor (var col=0; col < 9; col++) {\n",
       "\t\t\tvar id = \"id_3aqQBAVRbqDFHqFEDWiM_\" + row + \"_\" + col;\n",
       "\t\t\tvar x = tile_width * col;\n",
       "\t\t\tvar y = tile_height * row;\n",
       "\t\t\tvar svg = document.createElementNS(\"http://www.w3.org/2000/svg\", \"svg\");\n",
       "\t\t\tsvg.setAttribute(\"id\", id);\n",
       "\t\t\tsvg.setAttribute(\"x\", x);\n",
       "\t\t\tsvg.setAttribute(\"y\", y);\n",
       "\t\t\tsvg.setAttribute(\"width\", tile_width);\n",
       "\t\t\tsvg.setAttribute(\"height\", tile_height);\n",
       "\t\t\tsvg.setAttribute(\"viewBox\", \"0 0 100 100\");\n",
       "\t\t\tparent_svg.appendChild(svg);\n",
       "\t\t\tconsole.log(row +\" \" + col + \" \" + id);\n",
       "\t\t}\n",
       "\t}\n",
       "</script>\n"
      ],
      "text/plain": [
       "HTML{String}(\"<svg id=id_3aqQBAVRbqDFHqFEDWiM width=900 height=300 xmlns=\\\"http://www.w3.org/2000/svg\\\">\\n</svg>\\n<script>\\n\\tvar parent_svg = document.getElementById(\\\"id_3aqQBAVRbqDFHqFEDWiM\\\");\\n\\tvar tile_width = 100.0;\\n\\tvar tile_height = 100.0;\\n\\tfor (var row=0; row < 3; row++) {\\n\\t\\tfor (var col=0; col < 9; col++) {\\n\\t\\t\\tvar id = \\\"id_3aqQBAVRbqDFHqFEDWiM_\\\" + row + \\\"_\\\" + col;\\n\\t\\t\\tvar x = tile_width * col;\\n\\t\\t\\tvar y = tile_height * row;\\n\\t\\t\\tvar svg = document.createElementNS(\\\"http://www.w3.org/2000/svg\\\", \\\"svg\\\");\\n\\t\\t\\tsvg.setAttribute(\\\"id\\\", id);\\n\\t\\t\\tsvg.setAttribute(\\\"x\\\", x);\\n\\t\\t\\tsvg.setAttribute(\\\"y\\\", y);\\n\\t\\t\\tsvg.setAttribute(\\\"width\\\", tile_width);\\n\\t\\t\\tsvg.setAttribute(\\\"height\\\", tile_height);\\n\\t\\t\\tsvg.setAttribute(\\\"viewBox\\\", \\\"0 0 100 100\\\");\\n\\t\\t\\tparent_svg.appendChild(svg);\\n\\t\\t\\tconsole.log(row +\\\" \\\" + col + \\\" \\\" + id);\\n\\t\\t}\\n\\t}\\n</script>\\n\")"
      ]
     },
     "execution_count": 40,
     "metadata": {},
     "output_type": "execute_result"
    }
   ],
   "source": [
    "tiled = TiledJupyterInlineRenderer(\"agent_model_renderer\", 9, 3, 900, 300)\n",
    "inline(tiled)"
   ]
  },
  {
   "cell_type": "code",
   "execution_count": 22,
   "metadata": {
    "scrolled": false
   },
   "outputs": [],
   "source": [
    "trace = Trace()\n",
    "intervene!(trace, \"start\", Point(10, 10))\n",
    "intervene!(trace, \"destination\", Point(90, 90))\n",
    "traces = Trace[]\n",
    "for i=1:27\n",
    "    t = deepcopy(trace)\n",
    "    @generate(t, model())\n",
    "    push!(traces, t)\n",
    "end\n",
    "render(tiled, traces)"
   ]
  },
  {
   "cell_type": "markdown",
   "metadata": {},
   "source": [
    "# 3. Probabilistic inference"
   ]
  },
  {
   "cell_type": "markdown",
   "metadata": {},
   "source": [
    "So far, we have simulated forward from the model, and we have intervened on some random choices and simulated the consequence. However, suppose we had observed a given sequence of locations of the agent, and we wanted to know probable goal locations? This is a query that cannot be answered simply by forward simulation of the program, because the location of the drone is a *consequence* and not a *cause* of the destination. We can easily find probable consequences given the causes, but finding probable causes given the consequences requires a bit more work."
   ]
  },
  {
   "cell_type": "markdown",
   "metadata": {},
   "source": [
    "Here is an example dataset showing measured locations for the first 15 time points:"
   ]
  },
  {
   "cell_type": "code",
   "execution_count": 14,
   "metadata": {},
   "outputs": [
    {
     "data": {
      "text/plain": [
       "3-element Array{Float64,1}:\n",
       " 0.1\n",
       " 0.3\n",
       " 0.5"
      ]
     },
     "execution_count": 14,
     "metadata": {},
     "output_type": "execute_result"
    }
   ],
   "source": [
    "observed_x = [0.1, 0.3, 0.5] # TODO..\n",
    "observed_y = [0.1, 0.3, 0.5] # TODO"
   ]
  },
  {
   "cell_type": "markdown",
   "metadata": {},
   "source": [
    "The first step in inference is to constrain the random choices that are observed."
   ]
  },
  {
   "cell_type": "code",
   "execution_count": 15,
   "metadata": {},
   "outputs": [
    {
     "ename": "LoadError",
     "evalue": "BoundsError: attempt to access 3-element Array{Float64,1} at index [4]",
     "output_type": "error",
     "traceback": [
      "BoundsError: attempt to access 3-element Array{Float64,1} at index [4]",
      "",
      " in getindex(::Array{Float64,1}, ::Int64) at ./array.jl:386",
      " in macro expansion; at ./In[15]:3 [inlined]",
      " in anonymous at ./<missing>:?"
     ]
    }
   ],
   "source": [
    "trace = Trace()\n",
    "for i=1:15\n",
    "    constrain!(trace, \"x$i\", observed_x[i])\n",
    "    constrain!(trace, \"y$i\", observed_y[i])\n",
    "end"
   ]
  },
  {
   "cell_type": "markdown",
   "metadata": {},
   "source": [
    "Now, when we run the program in this trace, we find that the score of the trace tells us how well the trace matches the constraints."
   ]
  },
  {
   "cell_type": "code",
   "execution_count": 16,
   "metadata": {},
   "outputs": [
    {
     "ename": "LoadError",
     "evalue": "UndefVarError: render_grid not defined",
     "output_type": "error",
     "traceback": [
      "UndefVarError: render_grid not defined",
      ""
     ]
    }
   ],
   "source": [
    "render_grid(renderer, traces)\n",
    "# TODO render grid should show the score on top of the plot"
   ]
  },
  {
   "cell_type": "markdown",
   "metadata": {},
   "source": [
    "We can use this score to filter out traces that don't match well with the observations. Specifically, we can sample a large number of traces, and pick one in proportion to the exponential of its score. We can then repreat this whole process a number of times:"
   ]
  },
  {
   "cell_type": "code",
   "execution_count": 17,
   "metadata": {
    "collapsed": true
   },
   "outputs": [],
   "source": [
    "# show SIR results in a tile plots"
   ]
  },
  {
   "cell_type": "markdown",
   "metadata": {},
   "source": [
    "# 4. Improving the model\n",
    "\n",
    "Our model above made a lot of assumptions that are unlikely to hold in the real world. For example, the agent always takes pretty direct paths from its starting location to its final destination. What if the agent is more unpredictable? What if it takes detours?"
   ]
  },
  {
   "cell_type": "markdown",
   "metadata": {},
   "source": [
    "Here is a dataset that does not match our model's expectations. Let's see what happens when we try to do probabilistic inference in our model, given this data."
   ]
  },
  {
   "cell_type": "code",
   "execution_count": 18,
   "metadata": {
    "collapsed": true
   },
   "outputs": [],
   "source": [
    "# show results (they should look bad)"
   ]
  },
  {
   "cell_type": "markdown",
   "metadata": {},
   "source": [
    "This is an example of *model mis-specification*, which is when the model is not a good match for the distribution of data we are analyzing.\n",
    "\n",
    "We can improve the model by adding the possibliltiy thathte agent takes a detour. Specifically, we add the possibility that the agent uses a waypoint and first walks from the starting locatoin to the waypoint and then from the waypoit to the final destination. Let's visualize the resulting samples:"
   ]
  },
  {
   "cell_type": "code",
   "execution_count": 19,
   "metadata": {
    "collapsed": true
   },
   "outputs": [],
   "source": [
    "# render_grid()..."
   ]
  },
  {
   "cell_type": "markdown",
   "metadata": {},
   "source": [
    "Now, we can run inference as before:"
   ]
  },
  {
   "cell_type": "code",
   "execution_count": 20,
   "metadata": {
    "collapsed": true
   },
   "outputs": [],
   "source": [
    "# Do SIR with the new dataset and the improved model, and the same number of particles we used above."
   ]
  },
  {
   "cell_type": "code",
   "execution_count": 21,
   "metadata": {
    "collapsed": true
   },
   "outputs": [],
   "source": [
    "# results for the same number of particles as above should look bad."
   ]
  },
  {
   "cell_type": "markdown",
   "metadata": {},
   "source": [
    "It looks like the results are not accurate. This is because in the new model, a random forward execution of the imporved model is a lot less likely to match the observations than a random forward exection of the original program. We can try to increase the number of samples to incrase the probability that we get one that matches the data. Note that this will take a few minutes t orun:"
   ]
  },
  {
   "cell_type": "code",
   "execution_count": 22,
   "metadata": {
    "collapsed": true
   },
   "outputs": [],
   "source": [
    "# Show results with a larger number of particles (should take < 1 min, should look okay)"
   ]
  },
  {
   "cell_type": "markdown",
   "metadata": {},
   "source": [
    "This modification of the model mad einference a lot more computationally challenging, and our importance sampling algorihtm is not able to give us real-time inferneces. This motivates the need for a more sophisicated approach to probabilisitc inference."
   ]
  },
  {
   "cell_type": "markdown",
   "metadata": {},
   "source": [
    "# 5. Compiling inference with neural networks"
   ]
  },
  {
   "cell_type": "markdown",
   "metadata": {},
   "source": [
    "There are a number of approaches for creating more efficient inference algorithms. We will focus on one approach, where we train a neural network to make informed guesses about he locatio nof the waypoint. First, let's understand in a bit more detail why the default inference algorihtm was slow"
   ]
  },
  {
   "cell_type": "markdown",
   "metadata": {},
   "source": [
    "Suppose we knew the right waypoint:"
   ]
  },
  {
   "cell_type": "code",
   "execution_count": 23,
   "metadata": {},
   "outputs": [
    {
     "data": {
      "text/plain": [
       "Point(0.5,0.5)"
      ]
     },
     "execution_count": 23,
     "metadata": {},
     "output_type": "execute_result"
    }
   ],
   "source": [
    "trace = Trace()\n",
    "constrain!(trace, \"use-waypoint\", true)\n",
    "constrain!(trace, \"waypoint\", Point(0.5, 0.5))"
   ]
  },
  {
   "cell_type": "markdown",
   "metadata": {},
   "source": [
    "Then the baseline importance sapmling algorithm gives reasonable inferences with fewer samples. We use this idea by training a neural network to make informed guesses about the waypoint, given the observed data as its input. We train the neural network on nany simulatoins of the program. Then, the resulting trained neural network can be used to make informed guesses about the waypooint given any observations."
   ]
  },
  {
   "cell_type": "code",
   "execution_count": 24,
   "metadata": {
    "collapsed": true
   },
   "outputs": [],
   "source": [
    "# show the neural network, and show the training."
   ]
  },
  {
   "cell_type": "markdown",
   "metadata": {},
   "source": [
    "Let's visualize the guesses made by the neural network for a few  different datasets:"
   ]
  },
  {
   "cell_type": "code",
   "execution_count": 25,
   "metadata": {
    "collapsed": true
   },
   "outputs": [],
   "source": [
    "# show four renderings left to right of different datasets, with circles denoting the neural network's guess about the waypoint. "
   ]
  },
  {
   "cell_type": "markdown",
   "metadata": {},
   "source": [
    "Now, let's use this trained neural network to speed up inference:"
   ]
  },
  {
   "cell_type": "code",
   "execution_count": 26,
   "metadata": {
    "collapsed": true
   },
   "outputs": [],
   "source": [
    "# show the modififed SIR algorithm, using propose!"
   ]
  },
  {
   "cell_type": "code",
   "execution_count": 27,
   "metadata": {
    "collapsed": true
   },
   "outputs": [],
   "source": [
    "# show results for fewer particles, which should be noticeably faster than without the neural network.\n",
    "# make an explicit comparison."
   ]
  },
  {
   "cell_type": "code",
   "execution_count": null,
   "metadata": {
    "collapsed": true
   },
   "outputs": [],
   "source": []
  }
 ],
 "metadata": {
  "kernelspec": {
   "display_name": "Julia 0.5.1",
   "language": "julia",
   "name": "julia-0.5"
  },
  "language_info": {
   "file_extension": ".jl",
   "mimetype": "application/julia",
   "name": "julia",
   "version": "0.5.1"
  }
 },
 "nbformat": 4,
 "nbformat_minor": 2
}
