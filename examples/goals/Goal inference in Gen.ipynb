{
 "cells": [
  {
   "cell_type": "markdown",
   "metadata": {},
   "source": [
    "# Inferring the goals of autonomous agents in Gen.jl\n",
    "\n",
    "what is Gen.jl (2 sentences)"
   ]
  },
  {
   "cell_type": "code",
   "execution_count": 1,
   "metadata": {
    "scrolled": true
   },
   "outputs": [
    {
     "name": "stderr",
     "output_type": "stream",
     "text": [
      "WARNING: Method definition describe(AbstractArray) in module StatsBase at /home/marcoct/.julia/v0.5/StatsBase/src/scalarstats.jl:573 overwritten in module DataFrames at /home/marcoct/.julia/v0.5/DataFrames/src/abstractdataframe/abstractdataframe.jl:407.\n"
     ]
    }
   ],
   "source": [
    "using Gen\n",
    "using Gadfly"
   ]
  },
  {
   "cell_type": "raw",
   "metadata": {},
   "source": [
    "javascript\"\"\"\n",
    "var x = 1;\n",
    "var y = function (x) {\n",
    "    alert(\"Snap is now loaded\");\n",
    "}\n",
    "require(['snap.svg.js'], function (foo) {\n",
    "y(1.0)\n",
    "});\n",
    "\"\"\""
   ]
  },
  {
   "cell_type": "raw",
   "metadata": {},
   "source": [
    "javascript\"\"\"\n",
    "// http://jupyter-notebook.readthedocs.io/en/latest/comms.html\n",
    "var comm_manager=Jupyter.notebook.kernel.comm_manager\n",
    "var handle_msg=function(msg){\n",
    "    console.log('got msg'); \n",
    "    console.log(msg);\n",
    "    var data = msg.content.data;\n",
    "    console.log(\"x=\" + data.cx + \", y=\" + data.cy);\n",
    "    var s = Snap(\"#svg2\");\n",
    "    s.attr({width: 500, height: 500})\n",
    "    var circle = s.select(\"#mycircle\");\n",
    "    if (!(circle)) {\n",
    "        circle = s.circle(150, 150, 100);\n",
    "        circle.attr({\n",
    "            id: \"mycircle\",\n",
    "            fill: \"#bada55\",\n",
    "            stroke: \"#000\",\n",
    "            strokeWidth: 5\n",
    "        });\n",
    "    }\n",
    "    circle.attr({cx: data.cx, cy: data.cy})\n",
    "}\n",
    "\n",
    "comm_manager.register_target('myTarget', function(comm,msg){\n",
    "    console.log('opened comm');\n",
    "    console.log(msg);\n",
    "    // register callback\n",
    "    comm.on_msg(handle_msg)\n",
    "})\n",
    "\"\"\""
   ]
  },
  {
   "cell_type": "raw",
   "metadata": {},
   "source": [
    "HTML(\"\"\"<svg id=\"svg2\"></svg>\"\"\")"
   ]
  },
  {
   "cell_type": "raw",
   "metadata": {},
   "source": [
    "import IJulia\n",
    "comm = IJulia.Comm(\"myTarget\", data=Dict(\"foo\" => 1))\n",
    "IJulia.send_comm(comm, Dict(\"cx\" => 10, \"cy\" => 5))"
   ]
  },
  {
   "cell_type": "raw",
   "metadata": {
    "collapsed": true
   },
   "source": [
    "x = 250\n",
    "y = 250\n",
    "for i=1:10000\n",
    "    x += rand() - 0.5\n",
    "    y += rand() - 0.5\n",
    "    if (x < 0)\n",
    "        x = 0\n",
    "    end\n",
    "    if (x > 500)\n",
    "        x = 500\n",
    "    end\n",
    "    if (y < 0)\n",
    "        y = 0\n",
    "    end\n",
    "    if (y > 500)\n",
    "        y = 500\n",
    "    end\n",
    "    IJulia.send_comm(comm, Dict(\"cx\" => x, \"cy\" => y))\n",
    "end"
   ]
  },
  {
   "cell_type": "raw",
   "metadata": {},
   "source": [
    "javascript\"\"\"\n",
    "var s = Snap(\"#svg\");\n",
    "s.attr(\"width\", 400);\n",
    "s.attr(\"height\", 300)\n",
    "\n",
    "\"\"\""
   ]
  },
  {
   "cell_type": "markdown",
   "metadata": {},
   "source": [
    "## 1. Modeling an autonomous agent\n",
    "\n",
    "Explain ( 2 sentence). Explain that a model is a probabilisttic program, and that @program is used to define a probabilistic program in Gen.jl"
   ]
  },
  {
   "cell_type": "code",
   "execution_count": 2,
   "metadata": {},
   "outputs": [
    {
     "data": {
      "text/plain": [
       "planner_demo (generic function with 1 method)"
      ]
     },
     "execution_count": 2,
     "metadata": {},
     "output_type": "execute_result"
    }
   ],
   "source": [
    "include(\"scene.jl\")\n",
    "include(\"path_planner.jl\")"
   ]
  },
  {
   "cell_type": "code",
   "execution_count": 143,
   "metadata": {},
   "outputs": [
    {
     "name": "stderr",
     "output_type": "stream",
     "text": [
      "WARNING: Method definition model(Gen.AbstractTrace) in module Main at In[142]:4 overwritten at In[143]:4.\n"
     ]
    }
   ],
   "source": [
    "@program model() begin\n",
    "    \n",
    "    # assumed scene\n",
    "    scene = Scene(0, 100, 0, 100) # the scene spans the square [0, 100] x [0, 100]\n",
    "    add!(scene, Tree(Point(30, 20))) # place a tree at x=30, y=20\n",
    "    add!(scene, Tree(Point(83, 80)))\n",
    "    add!(scene, Tree(Point(80, 40)))\n",
    "    \n",
    "    # time points at which we observe the agent's location\n",
    "    observation_times = collect(linspace(0.0, 200.0, 20)) ~ \"times\"\n",
    "    \n",
    "    # assumed speed of the agent\n",
    "    speed = 1.0\n",
    "    \n",
    "    # the starting location of the agent is a random point in the scene\n",
    "    start = Point(uniform(0, 100), uniform(0, 100)) ~ \"start\"\n",
    "    \n",
    "    # the destination of the agent is a random point in the scene\n",
    "    destination = Point(uniform(0, 100), uniform(0, 100)) ~ \"destination\"\n",
    "    \n",
    "    # the path of the agent from its start location to its destination\n",
    "    # uses a simple 2D holonomic path planner based on RRT (path_planner.jl)\n",
    "    (tree, rough_path, final_path) = plan_path(start, destination, scene)\n",
    "    \n",
    "    if isnull(final_path)\n",
    "        \n",
    "        # the agent could not find a path to its destination\n",
    "        # assume it stays at the start location indefinitely\n",
    "        locations = [start for _ in observation_times]\n",
    "    else\n",
    "        \n",
    "        # the agent found a path to its destination\n",
    "        # assume it moves from the start to the destinatoin along the path at constnat speed\n",
    "        # sample its location along this path for each time in observation times\n",
    "        locations = walk_path(get(final_path), speed, observation_times)\n",
    "    end\n",
    "    \n",
    "    # assume that the observed locations are noisy measurements of the true locations\n",
    "    # assume the noise is normally distributed with standard deviation 'noise'\n",
    "    noise = 1.0\n",
    "    for (i, t) in enumerate(observation_times)\n",
    "        measured_x = normal(locations[i].x, noise) ~ \"x$i\"\n",
    "        measured_y = normal(locations[i].y, noise) ~ \"y$i\"\n",
    "    end\n",
    "end;"
   ]
  },
  {
   "cell_type": "markdown",
   "metadata": {},
   "source": [
    "We can run the model to generate probable scenarios:. We run a model using `@generate`, which executes a program and populates a trace with the values of the named expressions in the program."
   ]
  },
  {
   "cell_type": "code",
   "execution_count": 4,
   "metadata": {},
   "outputs": [
    {
     "name": "stdout",
     "output_type": "stream",
     "text": [
      "start: Point(71.606425761579,28.652998508320906)\n",
      "destination: Point(78.82389894214725,45.32472252282054)\n",
      "xs: [71.4544,71.5963,71.9881,72.0496]\n",
      "ys: [28.2453,29.8432,26.3642,28.6138]\n"
     ]
    }
   ],
   "source": [
    "trace = Trace()\n",
    "@generate(trace, model())\n",
    "start = value(trace, \"start\")\n",
    "destination = value(trace, \"destination\")\n",
    "xs = map((i) -> value(trace, \"x$i\"), 1:4)\n",
    "ys = map((i) -> value(trace, \"y$i\"), 1:4)\n",
    "println(\"start: \", start)\n",
    "println(\"destination: \", destination)\n",
    "println(\"xs: \", xs)\n",
    "println(\"ys: \", ys)"
   ]
  },
  {
   "cell_type": "markdown",
   "metadata": {},
   "source": [
    "If we run it again, we get a different result:"
   ]
  },
  {
   "cell_type": "code",
   "execution_count": 5,
   "metadata": {},
   "outputs": [
    {
     "name": "stdout",
     "output_type": "stream",
     "text": [
      "start: Point(63.55071647582833,75.11185462354821)\n",
      "destination: Point(13.563001132276064,90.38443337296431)\n",
      "xs: [63.4356,61.9607,62.6379,63.0589]\n",
      "ys: [73.9472,75.8092,75.0515,76.1863]\n"
     ]
    }
   ],
   "source": [
    "trace = Trace()\n",
    "@generate(trace, model())\n",
    "start = value(trace, \"start\")\n",
    "destination = value(trace, \"destination\")\n",
    "xs = map((i) -> value(trace, \"x$i\"), 1:4)\n",
    "ys = map((i) -> value(trace, \"y$i\"), 1:4)\n",
    "println(\"start: \", start)\n",
    "println(\"destination: \", destination)\n",
    "println(\"xs: \", xs)\n",
    "println(\"ys: \", ys)"
   ]
  },
  {
   "cell_type": "markdown",
   "metadata": {},
   "source": [
    "# 2. Visualizing the probabilistic behavior of a model using a trace rendering"
   ]
  },
  {
   "cell_type": "markdown",
   "metadata": {},
   "source": [
    "Printing out the values of variables is not a very good way to understand the probabilistic behavior of a program. Instead, we use a **trace rendering** to produce a visual representation of the trace. The trace rendering encodes the trace into a representation that the human visual system can quickly interpret. Here is an example trace rendering for our model that uses matplotlib:"
   ]
  },
  {
   "cell_type": "markdown",
   "metadata": {},
   "source": [
    "javascript\"\"\"\n",
    "var x = $(rand());\n",
    "console.log(x)\n",
    "\"\"\""
   ]
  },
  {
   "cell_type": "raw",
   "metadata": {},
   "source": [
    "javascript\"\"\"\n",
    "// TODO need to create a simpler JS API that wraps this up a bit\n",
    "// http://jupyter-notebook.readthedocs.io/en/latest/comms.html\n",
    "var comm_manager=Jupyter.notebook.kernel.comm_manager\n",
    "var handle_msg=function(msg){\n",
    "    console.log('got msg'); \n",
    "    console.log(msg);\n",
    "    var data = msg.content.data;\n",
    "    console.log(\"x=\" + data.cx + \", y=\" + data.cy);\n",
    "    var s = Snap(\"#svg2\");\n",
    "    s.attr({width: 500, height: 500})\n",
    "    var circle = s.select(\"#mycircle\");\n",
    "    if (!(circle)) {\n",
    "        circle = s.circle(150, 150, 100);\n",
    "        circle.attr({\n",
    "            id: \"mycircle\",\n",
    "            fill: \"#bada55\",\n",
    "            stroke: \"#000\",\n",
    "            strokeWidth: 5\n",
    "        });\n",
    "    }\n",
    "    circle.attr({cx: data.cx, cy: data.cy})\n",
    "}\n",
    "\n",
    "comm_manager.register_target('myTarget', function(comm,msg){\n",
    "    console.log('opened comm');\n",
    "    console.log(msg);\n",
    "    // register callback\n",
    "    comm.on_msg(handle_msg)\n",
    "})\n",
    "\"\"\""
   ]
  },
  {
   "cell_type": "raw",
   "metadata": {},
   "source": [
    "workspace()\n",
    "using Gen"
   ]
  },
  {
   "cell_type": "code",
   "execution_count": 6,
   "metadata": {},
   "outputs": [
    {
     "data": {
      "text/plain": [
       "@javascript_str (macro with 1 method)"
      ]
     },
     "execution_count": 6,
     "metadata": {},
     "output_type": "execute_result"
    }
   ],
   "source": [
    "macro javascript_str(s) display(\"text/javascript\", s); end"
   ]
  },
  {
   "cell_type": "code",
   "execution_count": 236,
   "metadata": {},
   "outputs": [
    {
     "data": {
      "application/javascript": [
       "\n",
       "    function find_choice(trace, name) {\n",
       "        if (name in trace.recorded) {\n",
       "            //console.log(name + \" found in interventions\");\n",
       "            return { value: trace.recorded[name], where: \"recorded\" }\n",
       "        } else if (name in trace.interventions) {\n",
       "            //console.log(name + \" found in interventions\");\n",
       "            return { value: trace.interventions[name], where: \"interventions\"}\n",
       "        } else if (name in trace.constraints) {\n",
       "            //console.log(name + \" found in constraints\");\n",
       "            return { value: trace.constraints[name], where: \"constraints\"}\n",
       "        } else {\n",
       "            return null\n",
       "        }\n",
       "    }\n",
       "\n",
       "    Jupyter.notebook.kernel.comm_manager.unregister_target(\"agent_model_renderer\");\n",
       "    Jupyter.notebook.kernel.comm_manager.register_target(\"agent_model_renderer\", function(comm, msg) {\n",
       "            comm.on_msg(function(msg) {\n",
       "\n",
       "                var id = msg.content.data.svg_element_id;\n",
       "                var s = Snap(\"#\" + id);\n",
       "                var trace = msg.content.data.trace;\n",
       "                \n",
       "                //console.log(\"trace:\");\n",
       "                //console.log(trace)\n",
       "                \n",
       "                var radius = 3;\n",
       "                var alpha = 0.2;\n",
       "                \n",
       "                //console.log(\"NEW TONE\");\n",
       "                \n",
       "                // render start\n",
       "                var start = find_choice(trace, \"start\");\n",
       "                if (start) {\n",
       "                    var circle = s.select(\"#start\");\n",
       "                    if (!circle) {\n",
       "                        circle = s.circle(start.value.x, start.value.y, radius);\n",
       "                        circle.attr({id: \"start\", fill: \"#BE6698\", stroke: \"#000\",\n",
       "                                     \n",
       "                                     \"fill-opacity\": alpha});\n",
       "                    }\n",
       "                    circle.attr({cx: start.value.x, cy: start.value.y, \n",
       "                                 strokeWidth: start.where == \"interventions\" ? 4 : 1});\n",
       "                }\n",
       "                \n",
       "                // render destination\n",
       "                var destination = find_choice(trace, \"destination\");\n",
       "                if (destination) {\n",
       "                    var circle = s.select(\"#destination\");\n",
       "                    if (!circle) {y\n",
       "                        circle = s.circle(destination.value.x, destination.value.y, radius);\n",
       "                        circle.attr({id: \"destination\", fill: \"#547F96\", stroke: \"#000\", strokeWidth: 1, \"fill-opacity\": alpha});\n",
       "                    }\n",
       "                      circle.attr({cx: destination.value.x, cy: destination.value.y, \n",
       "                                 strokeWidth: destination.where == \"interventions\" ? 4 : 1});\n",
       "                }\n",
       "                \n",
       "                // render points along the path\n",
       "                var times = find_choice(trace, \"times\");\n",
       "                var num_path_points = times.value.length;\n",
       "                for (var i=1; i<=num_path_points; i++) {\n",
       "                    var id = \"path-\" + i;\n",
       "                    var circle = s.select(\"#\" + id);\n",
       "                    var x = find_choice(trace, \"x\" + i);\n",
       "                    var y = find_choice(trace, \"y\" + i);\n",
       "                    if (!circle) {\n",
       "                        circle = s.circle(x.value, y.value, radius)\n",
       "                        circle.attr({id: id, fill: \"#EDD37F\", stroke: \"#000\", \"fill-opacity\": alpha});\n",
       "                    }\n",
       "                    circle.attr({cx: x.value, cy: y.value,\n",
       "                                 // interesting... can visualize interventions with lines...\n",
       "                        strokeWidth: (x.where == \"interventions\" || y.where == \"interventions\") ? 4 : 1});\n",
       "\n",
       "                }\n",
       "\n",
       "                \n",
       "            })});\n"
      ]
     },
     "metadata": {},
     "output_type": "display_data"
    }
   ],
   "source": [
    "javascript\"\"\"\n",
    "\n",
    "    function find_choice(trace, name) {\n",
    "        if (name in trace.recorded) {\n",
    "            //console.log(name + \" found in interventions\");\n",
    "            return { value: trace.recorded[name], where: \"recorded\" }\n",
    "        } else if (name in trace.interventions) {\n",
    "            //console.log(name + \" found in interventions\");\n",
    "            return { value: trace.interventions[name], where: \"interventions\"}\n",
    "        } else if (name in trace.constraints) {\n",
    "            //console.log(name + \" found in constraints\");\n",
    "            return { value: trace.constraints[name], where: \"constraints\"}\n",
    "        } else {\n",
    "            return null\n",
    "        }\n",
    "    }\n",
    "\n",
    "    Jupyter.notebook.kernel.comm_manager.unregister_target(\"agent_model_renderer\");\n",
    "    Jupyter.notebook.kernel.comm_manager.register_target(\"agent_model_renderer\", function(comm, msg) {\n",
    "            comm.on_msg(function(msg) {\n",
    "\n",
    "                var id = msg.content.data.svg_element_id;\n",
    "                var s = Snap(\"#\" + id);\n",
    "                var trace = msg.content.data.trace;\n",
    "                \n",
    "                var radius = 3;\n",
    "                var alpha = 0.2;\n",
    "                                \n",
    "                // render start\n",
    "                var start = find_choice(trace, \"start\");\n",
    "                if (start) {\n",
    "                    var circle = s.select(\"#start\");\n",
    "                    if (!circle) {\n",
    "                        circle = s.circle(start.value.x, start.value.y, radius);\n",
    "                        circle.attr({id: \"start\", fill: \"#BE6698\", stroke: \"#000\",\n",
    "                                     \n",
    "                                     \"fill-opacity\": alpha});\n",
    "                    }\n",
    "                    circle.attr({cx: start.value.x, cy: start.value.y, \n",
    "                                 strokeWidth: start.where == \"interventions\" ? 4 : 1});\n",
    "                }\n",
    "                \n",
    "                // render destination\n",
    "                var destination = find_choice(trace, \"destination\");\n",
    "                if (destination) {\n",
    "                    var circle = s.select(\"#destination\");\n",
    "                    if (!circle) {y\n",
    "                        circle = s.circle(destination.value.x, destination.value.y, radius);\n",
    "                        circle.attr({id: \"destination\", fill: \"#547F96\", stroke: \"#000\", strokeWidth: 1, \"fill-opacity\": alpha});\n",
    "                    }\n",
    "                      circle.attr({cx: destination.value.x, cy: destination.value.y, \n",
    "                                 strokeWidth: destination.where == \"interventions\" ? 4 : 1});\n",
    "                }\n",
    "                \n",
    "                // render points along the path\n",
    "                var times = find_choice(trace, \"times\");\n",
    "                var num_path_points = times.value.length;\n",
    "                for (var i=1; i<=num_path_points; i++) {\n",
    "                    var id = \"path-\" + i;\n",
    "                    var circle = s.select(\"#\" + id);\n",
    "                    var x = find_choice(trace, \"x\" + i);\n",
    "                    var y = find_choice(trace, \"y\" + i);\n",
    "                    if (!circle) {\n",
    "                        circle = s.circle(x.value, y.value, radius)\n",
    "                        circle.attr({id: id, fill: \"#EDD37F\", stroke: \"#000\", \"fill-opacity\": alpha});\n",
    "                    }\n",
    "                    circle.attr({cx: x.value, cy: y.value,\n",
    "                                 // interesting... can visualize interventions with lines...\n",
    "                        strokeWidth: (x.where == \"interventions\" || y.where == \"interventions\") ? 4 : 1});\n",
    "\n",
    "                }\n",
    "\n",
    "                \n",
    "            })});\n",
    "\"\"\""
   ]
  },
  {
   "cell_type": "code",
   "execution_count": 237,
   "metadata": {},
   "outputs": [
    {
     "name": "stderr",
     "output_type": "stream",
     "text": [
      "WARNING: Method definition (::Type{Main.ModelSVGRenderer})() in module Main at In[230]:11 overwritten at In[237]:11.\n",
      "WARNING: Method definition (::Type{Main.ModelSVGRenderer})(String) in module Main at In[230]:15 overwritten at In[237]:15.\n",
      "WARNING: Method definition canvas(Main.ModelSVGRenderer) in module Main at In[230]:28 overwritten at In[237]:28.\n",
      "WARNING: Method definition render(Main.ModelSVGRenderer, Gen.Trace) in module Main at In[230]:33 overwritten at In[237]:33.\n"
     ]
    },
    {
     "data": {
      "text/plain": [
       "render (generic function with 3 methods)"
      ]
     },
     "execution_count": 237,
     "metadata": {},
     "output_type": "execute_result"
    }
   ],
   "source": [
    "# TODO: define a renderer API in Gen (that is general enough to handle Unreal engine, and this thing..)\n",
    "import IJulia\n",
    "# NOTE: this is all generic. we can make this into a special thing...\n",
    "type ModelSVGRenderer\n",
    "    # TODO need to load that Rendering class from the .js file somehow into the JS context.\n",
    "    rendering_id::String # The target name for Javascript\n",
    "    svg_element_id::Nullable{String} # SVG DOM ID\n",
    "    comm::IJulia.Comm # communication object to Javascript\n",
    "    \n",
    "    function ModelSVGRenderer()\n",
    "        new(Nullable{String}())\n",
    "    end\n",
    "    \n",
    "    function ModelSVGRenderer(svg_element_id::String)\n",
    "        rendering_id = \"agent_model_renderer\"\n",
    "        #js = \"\"\"\n",
    "        #\"\"\"\n",
    "        #display(HTML(js))\n",
    "        #sleep(10)\n",
    "        comm = IJulia.Comm(rendering_id, data=Dict())\n",
    "        # TODO do we have to wait for the JS to register it (it is asynchronous I think)\n",
    "        new(rendering_id, Nullable{String}(svg_element_id), comm)\n",
    "    end\n",
    "end\n",
    "\n",
    "function canvas(renderer::ModelSVGRenderer)\n",
    "     # this should cause it to return the SVG tag (which will be put into the DOM) and send that tag to the JS.\n",
    "    renderer.svg_element_id = string(Base.Random.uuid4())\n",
    "    HTML(\"<svg id=$(renderer.svg_element_id)></svg>\")\n",
    "end\n",
    "\n",
    "function render(renderer::ModelSVGRenderer, trace::Trace)\n",
    "    if (isnull(renderer.svg_element_id))\n",
    "        error(\"No canvas has been created yet\")\n",
    "    end\n",
    "    IJulia.send_comm(renderer.comm, Dict(\n",
    "            \"trace\" => trace,\n",
    "            \"svg_element_id\" => renderer.svg_element_id))\n",
    "end"
   ]
  },
  {
   "cell_type": "code",
   "execution_count": 238,
   "metadata": {},
   "outputs": [
    {
     "data": {
      "text/html": [
       "<svg id=\"test\" width=100 height=100></svg>"
      ],
      "text/plain": [
       "HTML{String}(\"<svg id=\\\"test\\\" width=100 height=100></svg>\")"
      ]
     },
     "execution_count": 238,
     "metadata": {},
     "output_type": "execute_result"
    }
   ],
   "source": [
    "HTML(\"\"\"<svg id=\"test\" width=100 height=100></svg>\"\"\")"
   ]
  },
  {
   "cell_type": "code",
   "execution_count": 239,
   "metadata": {},
   "outputs": [
    {
     "data": {
      "text/plain": [
       "ModelSVGRenderer(\"agent_model_renderer\",Nullable{String}(\"test\"),IJulia.CommManager.Comm{:agent_model_renderer}(\"94e9e301-7a1b-4596-808f-e91b243c3d87\",true,IJulia.CommManager.noop_callback,IJulia.CommManager.noop_callback))"
      ]
     },
     "execution_count": 239,
     "metadata": {},
     "output_type": "execute_result"
    }
   ],
   "source": [
    "renderer = ModelSVGRenderer(\"test\")"
   ]
  },
  {
   "cell_type": "code",
   "execution_count": 244,
   "metadata": {},
   "outputs": [],
   "source": [
    "trace = Trace()\n",
    "intervene!(trace, \"start\", Point(10., 10.))\n",
    "for i=1:100\n",
    "@generate(trace, model())\n",
    "#render(renderer, trace)\n",
    "    IJulia.send_comm(renderer.comm, Dict(\n",
    "            \"trace\" => trace,\n",
    "            \"svg_element_id\" => renderer.svg_element_id))\n",
    "end"
   ]
  },
  {
   "cell_type": "code",
   "execution_count": 241,
   "metadata": {},
   "outputs": [
    {
     "data": {
      "text/html": [
       "<script>alert('Hello World!');</script>"
      ],
      "text/plain": [
       "HTML{String}(\"<script>alert('Hello World!');</script>\")"
      ]
     },
     "metadata": {},
     "output_type": "display_data"
    }
   ],
   "source": [
    "js = \"<script>alert('Hello World!');</script>\"\n",
    "display(HTML(js))"
   ]
  },
  {
   "cell_type": "code",
   "execution_count": 242,
   "metadata": {},
   "outputs": [
    {
     "name": "stderr",
     "output_type": "stream",
     "text": [
      "WARNING: Method definition (::Type{Main.MatplotlibRenderer})(String, String, String) in module Main at In[235]:2 overwritten at In[242]:2.\n",
      "WARNING: Method definition (::Type{Main.MatplotlibRenderer})(Any, Any, Any) in module Main at In[235]:2 overwritten at In[242]:2.\n",
      "WARNING: Method definition render(Main.MatplotlibRenderer, Gen.Trace) in module Main at In[235]:10 overwritten at In[242]:10.\n"
     ]
    },
    {
     "data": {
      "text/plain": [
       "render (generic function with 3 methods)"
      ]
     },
     "execution_count": 242,
     "metadata": {},
     "output_type": "execute_result"
    }
   ],
   "source": [
    "type MatplotlibRenderer\n",
    "    start_color::String\n",
    "    destination_color::String\n",
    "    measurement_color::String\n",
    "end\n",
    "\n",
    "function render(renderer::MatplotlibRenderer, trace::Trace)\n",
    "    # fill in the rendering here. This will be not so pretty matplotlib code.\n",
    "    # TOOD use Luxor.jl?\n",
    "end"
   ]
  },
  {
   "cell_type": "markdown",
   "metadata": {},
   "source": [
    "Let's use this rendering to visualize a run of the our program:"
   ]
  },
  {
   "cell_type": "code",
   "execution_count": 14,
   "metadata": {},
   "outputs": [
    {
     "ename": "LoadError",
     "evalue": "MethodError: objects of type MatplotlibRenderer are not callable",
     "output_type": "error",
     "traceback": [
      "MethodError: objects of type MatplotlibRenderer are not callable",
      ""
     ]
    }
   ],
   "source": [
    "renderer = MatplotlibRenderer(\"blue\", \"green\", \"red\")\n",
    "renderer(renderer, trace)"
   ]
  },
  {
   "cell_type": "code",
   "execution_count": 15,
   "metadata": {},
   "outputs": [
    {
     "ename": "LoadError",
     "evalue": "UndefVarError: SVGRenderer not defined",
     "output_type": "error",
     "traceback": [
      "UndefVarError: SVGRenderer not defined",
      ""
     ]
    }
   ],
   "source": [
    "renderer = SVGRenderer();\n",
    "create(renderer)\n"
   ]
  },
  {
   "cell_type": "markdown",
   "metadata": {},
   "source": [
    "Since the behavior is stochastic, we need to visualize many samples at once in a grid, to get a sense of the full distribution:"
   ]
  },
  {
   "cell_type": "code",
   "execution_count": 16,
   "metadata": {},
   "outputs": [],
   "source": [
    "function render_grid(renderer, traces::Vector{Trace})\n",
    "    # TODO\n",
    "end\n",
    "\n",
    "traces = [begin trace = Trace(); @generate(trace, model()); trace end for i=1:100]\n",
    "render_grid(renderer, traces)"
   ]
  },
  {
   "cell_type": "markdown",
   "metadata": {},
   "source": [
    "We can intervene and see what the traces look like when we fix the value of `start` and `destination` to specific values:"
   ]
  },
  {
   "cell_type": "code",
   "execution_count": 17,
   "metadata": {},
   "outputs": [
    {
     "ename": "LoadError",
     "evalue": "UndefVarError: trace not defined",
     "output_type": "error",
     "traceback": [
      "UndefVarError: trace not defined",
      "",
      " in #19 at ./In[17]:4 [inlined]",
      " in next at ./generator.jl:26 [inlined]",
      " in collect(::Base.Generator{UnitRange{Int64},##19#20}) at ./array.jl:307"
     ]
    }
   ],
   "source": [
    "trace = Trace()\n",
    "intervene!(trace, \"start\", Point(0.5, 0.6))\n",
    "intervene!(trace, \"destinatoin\", Point(0.7, 0.98))\n",
    "traces = [begin trace = deepcopy(trace); @generate(trace, model()); trace end for i=1:100]\n",
    "render_grid(renderer, traces)"
   ]
  },
  {
   "cell_type": "code",
   "execution_count": 18,
   "metadata": {},
   "outputs": [
    {
     "data": {
      "text/html": [
       "<script>\n",
       "\n",
       "</script>"
      ],
      "text/plain": [
       "HTML{String}(\"<script>\\n\\n</script>\")"
      ]
     },
     "execution_count": 18,
     "metadata": {},
     "output_type": "execute_result"
    }
   ],
   "source": [
    "# TODO use a JavaScript visualization\n",
    "HTML(\"\"\"<script>\n",
    "\n",
    "    </script>\"\"\")"
   ]
  },
  {
   "cell_type": "markdown",
   "metadata": {},
   "source": [
    "# 3. Probabilistic inference"
   ]
  },
  {
   "cell_type": "markdown",
   "metadata": {},
   "source": [
    "So far, we have simulated forward from the model, and we have intervened on some random choices and simulated the consequence. However, suppose we had observed a given sequence of locations of the agent, and we wanted to know probable goal locations? This is a query that cannot be answered simply by forward simulation of the program, because the location of the drone is a *consequence* and not a *cause* of the destination. We can easily find probable consequences given the causes, but finding probable causes given the consequences requires a bit more work."
   ]
  },
  {
   "cell_type": "markdown",
   "metadata": {},
   "source": [
    "Here is an example dataset showing measured locations for the first 15 time points:"
   ]
  },
  {
   "cell_type": "code",
   "execution_count": 19,
   "metadata": {},
   "outputs": [
    {
     "data": {
      "text/plain": [
       "3-element Array{Float64,1}:\n",
       " 0.1\n",
       " 0.3\n",
       " 0.5"
      ]
     },
     "execution_count": 19,
     "metadata": {},
     "output_type": "execute_result"
    }
   ],
   "source": [
    "observed_x = [0.1, 0.3, 0.5] # TODO..\n",
    "observed_y = [0.1, 0.3, 0.5] # TODO"
   ]
  },
  {
   "cell_type": "markdown",
   "metadata": {},
   "source": [
    "The first step in inference is to constrain the random choices that are observed."
   ]
  },
  {
   "cell_type": "code",
   "execution_count": 20,
   "metadata": {},
   "outputs": [
    {
     "ename": "LoadError",
     "evalue": "BoundsError: attempt to access 3-element Array{Float64,1} at index [4]",
     "output_type": "error",
     "traceback": [
      "BoundsError: attempt to access 3-element Array{Float64,1} at index [4]",
      "",
      " in getindex(::Array{Float64,1}, ::Int64) at ./array.jl:386",
      " in macro expansion; at ./In[20]:3 [inlined]",
      " in anonymous at ./<missing>:?"
     ]
    }
   ],
   "source": [
    "trace = Trace()\n",
    "for i=1:15\n",
    "    constrain!(trace, \"x$i\", observed_x[i])\n",
    "    constrain!(trace, \"y$i\", observed_y[i])\n",
    "end"
   ]
  },
  {
   "cell_type": "markdown",
   "metadata": {},
   "source": [
    "Now, when we run the program in this trace, we find that the score of the trace tells us how well the trace matches the constraints."
   ]
  },
  {
   "cell_type": "code",
   "execution_count": 21,
   "metadata": {
    "collapsed": true
   },
   "outputs": [],
   "source": [
    "render_grid(renderer, traces)\n",
    "# TODO render grid should show the score on top of the plot"
   ]
  },
  {
   "cell_type": "markdown",
   "metadata": {},
   "source": [
    "We can use this score to filter out traces that don't match well with the observations. Specifically, we can sample a large number of traces, and pick one in proportion to the exponential of its score. We can then repreat this whole process a number of times:"
   ]
  },
  {
   "cell_type": "code",
   "execution_count": 22,
   "metadata": {
    "collapsed": true
   },
   "outputs": [],
   "source": [
    "# show SIR results in a tile plots"
   ]
  },
  {
   "cell_type": "markdown",
   "metadata": {},
   "source": [
    "# 4. Improving the model\n",
    "\n",
    "Our model above made a lot of assumptions that are unlikely to hold in the real world. For example, the agent always takes pretty direct paths from its starting location to its final destination. What if the agent is more unpredictable? What if it takes detours?"
   ]
  },
  {
   "cell_type": "markdown",
   "metadata": {},
   "source": [
    "Here is a dataset that does not match our model's expectations. Let's see what happens when we try to do probabilistic inference in our model, given this data."
   ]
  },
  {
   "cell_type": "code",
   "execution_count": 23,
   "metadata": {
    "collapsed": true
   },
   "outputs": [],
   "source": [
    "# show results (they should look bad)"
   ]
  },
  {
   "cell_type": "markdown",
   "metadata": {},
   "source": [
    "This is an example of *model mis-specification*, which is when the model is not a good match for the distribution of data we are analyzing.\n",
    "\n",
    "We can improve the model by adding the possibliltiy thathte agent takes a detour. Specifically, we add the possibility that the agent uses a waypoint and first walks from the starting locatoin to the waypoint and then from the waypoit to the final destination. Let's visualize the resulting samples:"
   ]
  },
  {
   "cell_type": "code",
   "execution_count": 24,
   "metadata": {
    "collapsed": true
   },
   "outputs": [],
   "source": [
    "# render_grid()..."
   ]
  },
  {
   "cell_type": "markdown",
   "metadata": {},
   "source": [
    "Now, we can run inference as before:"
   ]
  },
  {
   "cell_type": "code",
   "execution_count": 25,
   "metadata": {
    "collapsed": true
   },
   "outputs": [],
   "source": [
    "# Do SIR with the new dataset and the improved model, and the same number of particles we used above."
   ]
  },
  {
   "cell_type": "code",
   "execution_count": 26,
   "metadata": {
    "collapsed": true
   },
   "outputs": [],
   "source": [
    "# results for the same number of particles as above should look bad."
   ]
  },
  {
   "cell_type": "markdown",
   "metadata": {},
   "source": [
    "It looks like the results are not accurate. This is because in the new model, a random forward execution of the imporved model is a lot less likely to match the observations than a random forward exection of the original program. We can try to increase the number of samples to incrase the probability that we get one that matches the data. Note that this will take a few minutes t orun:"
   ]
  },
  {
   "cell_type": "code",
   "execution_count": 27,
   "metadata": {
    "collapsed": true
   },
   "outputs": [],
   "source": [
    "# Show results with a larger number of particles (should take < 1 min, should look okay)"
   ]
  },
  {
   "cell_type": "markdown",
   "metadata": {},
   "source": [
    "This modification of the model mad einference a lot more computationally challenging, and our importance sampling algorihtm is not able to give us real-time inferneces. This motivates the need for a more sophisicated approach to probabilisitc inference."
   ]
  },
  {
   "cell_type": "markdown",
   "metadata": {},
   "source": [
    "# 5. Compiling inference with neural networks"
   ]
  },
  {
   "cell_type": "markdown",
   "metadata": {},
   "source": [
    "There are a number of approaches for creating more efficient inference algorithms. We will focus on one approach, where we train a neural network to make informed guesses about he locatio nof the waypoint. First, let's understand in a bit more detail why the default inference algorihtm was slow"
   ]
  },
  {
   "cell_type": "markdown",
   "metadata": {},
   "source": [
    "Suppose we knew the right waypoint:"
   ]
  },
  {
   "cell_type": "code",
   "execution_count": 28,
   "metadata": {},
   "outputs": [
    {
     "data": {
      "text/plain": [
       "Point(0.5,0.5)"
      ]
     },
     "execution_count": 28,
     "metadata": {},
     "output_type": "execute_result"
    }
   ],
   "source": [
    "trace = Trace()\n",
    "constrain!(trace, \"use-waypoint\", true)\n",
    "constrain!(trace, \"waypoint\", Point(0.5, 0.5))"
   ]
  },
  {
   "cell_type": "markdown",
   "metadata": {},
   "source": [
    "Then the baseline importance sapmling algorithm gives reasonable inferences with fewer samples. We use this idea by training a neural network to make informed guesses about the waypoint, given the observed data as its input. We train the neural network on nany simulatoins of the program. Then, the resulting trained neural network can be used to make informed guesses about the waypooint given any observations."
   ]
  },
  {
   "cell_type": "code",
   "execution_count": 29,
   "metadata": {
    "collapsed": true
   },
   "outputs": [],
   "source": [
    "# show the neural network, and show the training."
   ]
  },
  {
   "cell_type": "markdown",
   "metadata": {},
   "source": [
    "Let's visualize the guesses made by the neural network for a few  different datasets:"
   ]
  },
  {
   "cell_type": "code",
   "execution_count": 30,
   "metadata": {
    "collapsed": true
   },
   "outputs": [],
   "source": [
    "# show four renderings left to right of different datasets, with circles denoting the neural network's guess about the waypoint. "
   ]
  },
  {
   "cell_type": "markdown",
   "metadata": {},
   "source": [
    "Now, let's use this trained neural network to speed up inference:"
   ]
  },
  {
   "cell_type": "code",
   "execution_count": 31,
   "metadata": {
    "collapsed": true
   },
   "outputs": [],
   "source": [
    "# show the modififed SIR algorithm, using propose!"
   ]
  },
  {
   "cell_type": "code",
   "execution_count": 32,
   "metadata": {
    "collapsed": true
   },
   "outputs": [],
   "source": [
    "# show results for fewer particles, which should be noticeably faster than without the neural network.\n",
    "# make an explicit comparison."
   ]
  },
  {
   "cell_type": "code",
   "execution_count": null,
   "metadata": {
    "collapsed": true
   },
   "outputs": [],
   "source": []
  }
 ],
 "metadata": {
  "kernelspec": {
   "display_name": "Julia 0.5.1",
   "language": "julia",
   "name": "julia-0.5"
  },
  "language_info": {
   "file_extension": ".jl",
   "mimetype": "application/julia",
   "name": "julia",
   "version": "0.5.1"
  }
 },
 "nbformat": 4,
 "nbformat_minor": 2
}
