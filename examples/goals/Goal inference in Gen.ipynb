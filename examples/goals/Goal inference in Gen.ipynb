{
 "cells": [
  {
   "cell_type": "markdown",
   "metadata": {},
   "source": [
    "# Inferring the goals of autonomous agents in Gen.jl\n",
    "\n",
    "what is Gen.jl (2 sentences)"
   ]
  },
  {
   "cell_type": "code",
   "execution_count": 1,
   "metadata": {
    "collapsed": true,
    "scrolled": true
   },
   "outputs": [],
   "source": [
    "using Gen\n",
    "srand(1);"
   ]
  },
  {
   "cell_type": "markdown",
   "metadata": {},
   "source": [
    "## 1. Modeling an autonomous agent\n",
    "\n",
    "Explain ( 2 sentence). Explain that a model is a probabilisttic program, and that @program is used to define a probabilistic program in Gen.jl"
   ]
  },
  {
   "cell_type": "code",
   "execution_count": 2,
   "metadata": {
    "collapsed": true
   },
   "outputs": [],
   "source": [
    "include(\"scene.jl\")\n",
    "include(\"path_planner.jl\");"
   ]
  },
  {
   "cell_type": "code",
   "execution_count": 3,
   "metadata": {
    "collapsed": true
   },
   "outputs": [],
   "source": [
    "@program agent_model() begin\n",
    "    \n",
    "    # assumed scene\n",
    "    scene = Scene(0, 100, 0, 100) # the scene spans the square [0, 100] x [0, 100]\n",
    "    add!(scene, Tree(Point(30, 20))) # place a tree at x=30, y=20\n",
    "    add!(scene, Tree(Point(83, 80)))\n",
    "    add!(scene, Tree(Point(80, 40)))\n",
    "    wall_height = 30.\n",
    "    add!(scene, Wall(Point(20., 40.), 1, 40., 2., wall_height))\n",
    "    add!(scene, Wall(Point(60., 40.), 2, 40., 2., wall_height))\n",
    "    add!(scene, Wall(Point(60.-15., 80.), 1, 15. + 2., 2., wall_height))\n",
    "    add!(scene, Wall(Point(20., 80.), 1, 15., 2., wall_height))\n",
    "    add!(scene, Wall(Point(20., 40.), 2, 40., 2., wall_height))    \n",
    "    \n",
    "    # time points at which we observe the agent's location\n",
    "    observation_times = collect(linspace(0.0, 200.0, 20)) ~ \"times\"\n",
    "    \n",
    "    # assumed speed of the agent\n",
    "    speed = 1.0\n",
    "    \n",
    "    # the starting location of the agent is a random point in the scene\n",
    "    start = Point(uniform(0, 100), uniform(0, 100)) ~ \"start\"\n",
    "    \n",
    "    # the destination of the agent is a random point in the scene\n",
    "    destination = Point(uniform(0, 100), uniform(0, 100)) ~ \"destination\"\n",
    "    \n",
    "    # the path of the agent from its start location to its destination\n",
    "    # uses a simple 2D holonomic path planner based on RRT (path_planner.jl)\n",
    "    (tree, rough_path, final_path) = plan_path(start, destination, scene)\n",
    "    \n",
    "    if isnull(final_path)\n",
    "        \n",
    "        # the agent could not find a path to its destination\n",
    "        # assume it stays at the start location indefinitely\n",
    "        locations = [start for _ in observation_times]\n",
    "    else\n",
    "        \n",
    "        # the agent found a path to its destination\n",
    "        # assume it moves from the start to the destinatoin along the path at constnat speed\n",
    "        # sample its location along this path for each time in observation times\n",
    "        locations = walk_path(get(final_path), speed, observation_times)\n",
    "    end\n",
    "    \n",
    "    # assume that the observed locations are noisy measurements of the true locations\n",
    "    # assume the noise is normally distributed with standard deviation 'noise'\n",
    "    noise = 1.0\n",
    "    for (i, t) in enumerate(observation_times)\n",
    "        measured_x = normal(locations[i].x, noise) ~ \"x$i\"\n",
    "        measured_y = normal(locations[i].y, noise) ~ \"y$i\"\n",
    "    end\n",
    "    \n",
    "    # record other program state for rendering\n",
    "    scene ~ \"scene\"\n",
    "end;"
   ]
  },
  {
   "cell_type": "markdown",
   "metadata": {},
   "source": [
    "We can run the model to generate probable scenarios:. We run a model using `@generate`, which executes a program and populates a trace with the values of the named expressions in the program.\n",
    "\n",
    "EXPLAIN THAT ANY PROGRAM STATE CAN BE TRACED INCLUDING RANDOM CHOICES AND NON-RANDOM CHOICES"
   ]
  },
  {
   "cell_type": "code",
   "execution_count": 4,
   "metadata": {},
   "outputs": [
    {
     "name": "stdout",
     "output_type": "stream",
     "text": [
      "start: Point(23.603334566204694,34.651701419196044)\n",
      "destination: Point(31.27069683360675,0.790928339056074)\n",
      "x1 through x4: [22.9397,23.702,26.2668,29.5669]\n",
      "y1 through y4: [34.8259,23.4063,14.2533,4.04189]\n"
     ]
    }
   ],
   "source": [
    "trace = Trace()\n",
    "@generate(trace, agent_model())\n",
    "println(\"start: \", value(trace, \"start\"))\n",
    "println(\"destination: \", value(trace, \"destination\"))\n",
    "println(\"x1 through x4: \", map((i) -> value(trace, \"x$i\"), 1:4))\n",
    "println(\"y1 through y4: \", map((i) -> value(trace, \"y$i\"), 1:4))"
   ]
  },
  {
   "cell_type": "markdown",
   "metadata": {},
   "source": [
    "If we run it again, we get a different result:"
   ]
  },
  {
   "cell_type": "code",
   "execution_count": 5,
   "metadata": {},
   "outputs": [
    {
     "name": "stdout",
     "output_type": "stream",
     "text": [
      "start: Point(6.142672559357476,11.794967166048353)\n",
      "destination: Point(4.3125750752229575,91.04863565786087)\n",
      "x1 through x4: [5.58569,5.13517,5.16809,6.02647]\n",
      "y1 through y4: [12.039,21.4391,33.0913,44.1358]\n"
     ]
    }
   ],
   "source": [
    "trace = Trace()\n",
    "@generate(trace, agent_model())\n",
    "println(\"start: \", value(trace, \"start\"))\n",
    "println(\"destination: \", value(trace, \"destination\"))\n",
    "println(\"x1 through x4: \", map((i) -> value(trace, \"x$i\"), 1:4))\n",
    "println(\"y1 through y4: \", map((i) -> value(trace, \"y$i\"), 1:4))"
   ]
  },
  {
   "cell_type": "markdown",
   "metadata": {},
   "source": [
    "We can view the whole trace. For now, don't worry about constraints, interventions, or proposals. Note that the `recorded` section lists all the values that were recorde. "
   ]
  },
  {
   "cell_type": "code",
   "execution_count": 6,
   "metadata": {},
   "outputs": [
    {
     "name": "stdout",
     "output_type": "stream",
     "text": [
      "-- Constraints --\n",
      "-- Interventions --\n",
      "-- Proposals --\n",
      "-- Recorded --\n",
      "times => [0.0,10.5263,21.0526,31.5789,42.1053,52.6316,63.1579,73.6842,84.2105,94.7368,105.263,115.789,126.316,136.842,147.368,157.895,168.421,178.947,189.474,200.0]\n",
      "start => Point(6.142672559357476,11.794967166048353)\n",
      "destination => Point(4.3125750752229575,91.04863565786087)\n",
      "x1 => 5.585688455826619\n",
      "y1 => 12.038992356552045\n",
      "x2 => 5.1351724784263615\n",
      "y2 => 21.43906821965481\n",
      "x3 => 5.168094059970332\n",
      "y3 => 33.09126239631681\n",
      "x4 => 6.026469498642951\n",
      "y4 => 44.135812822414984\n",
      "x5 => 6.073903301658318\n",
      "y5 => 54.88665362694848\n",
      "x6 => 3.6052589248024507\n",
      "y6 => 64.23047781256096\n",
      "x7 => 3.8543651489948436\n",
      "y7 => 74.83851321808031\n",
      "x8 => 4.492965811003994\n",
      "y8 => 85.50181517895942\n",
      "x9 => 5.005810818840624\n",
      "y9 => 90.62758163710411\n",
      "x10 => 3.8011450231810953\n",
      "y10 => 91.65321296417589\n",
      "x11 => 7.0808138134763885\n",
      "y11 => 91.16896924195844\n",
      "x12 => 3.6120677543535464\n",
      "y12 => 91.54973411423751\n",
      "x13 => 3.419312563112474\n",
      "y13 => 88.50124859453108\n",
      "x14 => 3.7756399648928407\n",
      "y14 => 92.17531861841628\n",
      "x15 => 3.948942712327951\n",
      "y15 => 91.87413513775671\n",
      "x16 => 4.1628700155965515\n",
      "y16 => 91.464226740923\n",
      "x17 => 5.410559465991188\n",
      "y17 => 90.43441222887054\n",
      "x18 => 3.2382556381015295\n",
      "y18 => 90.89987823874\n",
      "x19 => 5.18438905186772\n",
      "y19 => 91.58784446443508\n",
      "x20 => 3.231309252790597\n",
      "y20 => 89.7775288086627\n",
      "scene => Scene(0.0,100.0,0.0,100.0,Obstacle[Tree(Point(30.0,20.0),10.0,Polygon(Point[Point(25.0,15.0),Point(35.0,15.0),Point(35.0,25.0),Point(25.0,25.0)]),:Tree),Tree(Point(83.0,80.0),10.0,Polygon(Point[Point(78.0,75.0),Point(88.0,75.0),Point(88.0,85.0),Point(78.0,85.0)]),:Tree),Tree(Point(80.0,40.0),10.0,Polygon(Point[Point(75.0,35.0),Point(85.0,35.0),Point(85.0,45.0),Point(75.0,45.0)]),:Tree),Wall(Point(20.0,40.0),1,40.0,2.0,30.0,Polygon(Point[Point(20.0,40.0),Point(60.0,40.0),Point(60.0,42.0),Point(20.0,42.0)]),:Wall),Wall(Point(60.0,40.0),2,40.0,2.0,30.0,Polygon(Point[Point(60.0,40.0),Point(62.0,40.0),Point(62.0,80.0),Point(60.0,80.0)]),:Wall),Wall(Point(45.0,80.0),1,17.0,2.0,30.0,Polygon(Point[Point(45.0,80.0),Point(62.0,80.0),Point(62.0,82.0),Point(45.0,82.0)]),:Wall),Wall(Point(20.0,80.0),1,15.0,2.0,30.0,Polygon(Point[Point(20.0,80.0),Point(35.0,80.0),Point(35.0,82.0),Point(20.0,82.0)]),:Wall),Wall(Point(20.0,40.0),2,40.0,2.0,30.0,Polygon(Point[Point(20.0,40.0),Point(22.0,40.0),Point(22.0,80.0),Point(20.0,80.0)]),:Wall)])\n"
     ]
    }
   ],
   "source": [
    "print(trace)"
   ]
  },
  {
   "cell_type": "markdown",
   "metadata": {},
   "source": [
    "# 2. Visualizing the probabilistic behavior of a model using a trace rendering"
   ]
  },
  {
   "cell_type": "markdown",
   "metadata": {},
   "source": [
    "Printing out the values of variables is not a very good way to understand the probabilistic behavior of a program. Instead, we use a **trace rendering** to produce a visual representation of the trace. The trace rendering encodes the trace into a representation that the human visual system can quickly interpret. In Gen.jl a trace renderer is simply object that has a method `render(trace::Trace)`. In Jupyter notebooks, we render traces using JavaScript code with a generic `JupyterInlineRenderer`. \n",
    "\n",
    "FIX ME\n"
   ]
  },
  {
   "cell_type": "code",
   "execution_count": 7,
   "metadata": {},
   "outputs": [
    {
     "data": {
      "application/javascript": [
       "\n",
       "var Gen = require(\"nbextensions/gen_notebook_extension/main\");\n",
       "var d3 = require(\"nbextensions/d3/d3.min\");\n",
       "\n",
       "function add_svg(parent, trace) {\n",
       "    return parent.append(\"svg\")\n",
       "        .attr(\"viewBox\", \"0 0 100 100\") // TODO viewBox should depend on scene limits\n",
       "        .attr(\"position\", \"absolute\")\n",
       "        .style(\"height\", \"100%\");\n",
       "}\n",
       "\n",
       "function add_svg_if_not_exists(parent, trace) {\n",
       "    var svg = parent.selectAll(\"svg\").data([\"\"]);\n",
       "    return svg.enter().append(\"svg\")\n",
       "        .attr(\"viewBox\", \"0 0 100 100\") // TODO viewBox should depend on scene limits\n",
       "        .attr(\"position\", \"absolute\")\n",
       "        .style(\"height\", \"100%\")\n",
       "        .merge(svg);\n",
       "}\n",
       "\n",
       "function add_bounding_box(svg) {\n",
       "    svg.selectAll(\"rect\").data([\"\"]).enter().append(\"rect\")\n",
       "        .attr(\"width\", \"100%\")\n",
       "        .attr(\"height\", \"100%\")\n",
       "        .attr(\"stroke\", \"#000\")\n",
       "        .attr(\"fill\", \"#FFF\")\n",
       "        .attr(\"fill-opacity\", 0.0);\n",
       "}\n",
       "\n",
       "function add_scene(svg, trace) {\n",
       "    var scene = Gen.find_choice(trace, \"scene\");\n",
       "    var trace_trees = scene.value.obstacles.filter(function(element) { return element.name == \"Tree\";});\n",
       "    var trees = svg.selectAll(\".tree\").data(trace_trees);\n",
       "    trees.exit().remove();\n",
       "    trees.enter().append(\"rect\")\n",
       "        .style(\"fill\", \"green\")\n",
       "        .classed(\"tree\", true)\n",
       "      .merge(trees)\n",
       "        .attr(\"x\", function(d) { return d.center.x - d.size/2.0; })\n",
       "        .attr(\"y\", function(d) { return d.center.y - d.size/2.0; })\n",
       "        .attr(\"width\", function(d) { return d.size; })\n",
       "        .attr(\"height\", function(d) { return d.size; });\n",
       "    var trace_walls = scene.value.obstacles.filter(function(element) { return element.name == \"Wall\";});\n",
       "    var walls = svg.selectAll(\".wall\").data(trace_walls);\n",
       "    walls.exit().remove();\n",
       "    walls.enter().append(\"rect\")\n",
       "        .style(\"fill\", \"gray\")\n",
       "        .classed(\"wall\", true)\n",
       "      .merge(walls)\n",
       "        .attr(\"x\", function(d) { return d.start.x; })\n",
       "        .attr(\"y\", function(d) { return d.start.y; })\n",
       "        .attr(\"width\", function(d) { return d.orientation == 1 ? d.length : d.thickness; })\n",
       "        .attr(\"height\", function(d) { return d.orientation == 2 ? d.length : d.thickness; });\n",
       "}\n",
       "\n",
       "function add_start(svg, trace) {\n",
       "    // the starting position of the agent\n",
       "    var radius = 2;\n",
       "    var trace_start = Gen.find_choice(trace, \"start\");\n",
       "    var start = svg.selectAll(\".start\").data(trace_start ? [trace_start] : []);\n",
       "    start.exit().remove();\n",
       "    start.enter().append(\"circle\")\n",
       "        .attr(\"r\", radius)\n",
       "        .style(\"fill\", \"blue\")\n",
       "        .classed(\"start\", true)\n",
       "      .merge(start)\n",
       "        .attr(\"cx\", function(d) { return d.value.x; })\n",
       "        .attr(\"cy\", function(d) { return d.value.y; });\n",
       "}\n",
       "\n",
       "function add_destination(svg, trace) {\n",
       "    // the destination position of the agent\n",
       "    var radius = 2;\n",
       "    var trace_dest = Gen.find_choice(trace, \"destination\");\n",
       "    var dest = svg.selectAll(\".destination\").data(trace_dest ? [trace_dest] : []);\n",
       "    dest.exit().remove();\n",
       "    dest.enter().append(\"circle\")\n",
       "        .attr(\"r\", radius)\n",
       "        .style(\"fill\", \"red\")\n",
       "        .classed(\"destination\", true)\n",
       "      .merge(dest)\n",
       "        .attr(\"cx\", function(d) { return d.value.x; })\n",
       "        .attr(\"cy\", function(d) { return d.value.y; });\n",
       "}\n",
       "\n",
       "function add_path(svg, trace, update) {\n",
       "    // the path points of the agent\n",
       "    // TODO would be great if they could be observed together..\n",
       "    var radius = 2;\n",
       "    var times = Gen.find_choice(trace, \"times\").value;\n",
       "    var path_point_data = [];\n",
       "    for (var i=1; i<=times.length; i++) {\n",
       "        path_point_data.push({x: Gen.find_choice(trace, \"x\" + i),\n",
       "                              y: Gen.find_choice(trace, \"y\" + i)});\n",
       "    }\n",
       "    var path_segment_data = [];\n",
       "    for (var i=0; i<times.length-1; i++) {\n",
       "        path_segment_data.push({prev: {x: path_point_data[i].x,   y: path_point_data[i].y},\n",
       "                                next: {x: path_point_data[i+1].x, y: path_point_data[i+1].y}});\n",
       "    }\n",
       "\n",
       "    // if update, join on a key that includes which trace \n",
       "    // we should be able to store the age of an element in the DOM?\n",
       "    // and increment the age each time?\n",
       "    var path_segments = svg.selectAll(\".path_segments\").data(path_segment_data);\n",
       "    path_segments.exit().remove();\n",
       "    path_segments.enter().append(\"line\")\n",
       "        .style(\"stroke\", \"#000\")\n",
       "        .classed(\"path_segments\", true)\n",
       "      .merge(path_segments)\n",
       "        .attr(\"x1\", function(d) { return d.prev.x.value; })\n",
       "        .attr(\"y1\", function(d) { return d.prev.y.value; })\n",
       "        .attr(\"x2\", function(d) { return d.next.x.value; })\n",
       "        .attr(\"y2\", function(d) { return d.next.y.value; });\n",
       "    \n",
       "    var radius = 2;\n",
       "    var path_points = svg.selectAll(\".path\").data(path_point_data);\n",
       "    path_points.exit().remove();\n",
       "    path_points.enter().append(\"circle\")\n",
       "        .attr(\"r\", radius)\n",
       "        .style(\"fill\", \"orange\")\n",
       "        .style(\"fill-opacity\", 0.5)\n",
       "        .classed(\"path\", true)\n",
       "        .on(\"mouseover\", handleMouseOver)\n",
       "        .on(\"mouseout\", handleMouseOut)\n",
       "      .merge(path_points)\n",
       "        .attr(\"cx\", function(d) { return d.x.value; })\n",
       "        .attr(\"cy\", function(d) { return d.y.value; });\n",
       "    svg.selectAll(\".path\")\n",
       "        .classed(\"interventions\", function(d) { return d.x.where == Gen.interventions || d.y.where == Gen.interventions; })\n",
       "        .classed(\"constraints\", function(d) { return d.x.where == Gen.constraints || d.y.where == Gen.constraints; });\n",
       "        \n",
       "    function handleMouseOver(d, i) {\n",
       "        var x = d.x.value;\n",
       "        var y = d.y.value;\n",
       "         // Specify where to put label of text\n",
       "        svg.append(\"text\").attr(\"id\", \"t\" + \"-\" + i).attr(\"x\", x).attr(\"y\", y)\n",
       "            .attr(\"font-size\", \"6px\")\n",
       "            .attr(\"pointer-events\", \"none\")\n",
       "            .text([x.toFixed(1), y.toFixed(1)]);\n",
       "    };\n",
       "                              \n",
       "    function handleMouseOut(d, i) {\n",
       "        var x = d.x.value;\n",
       "        var y = d.y.value;\n",
       "         // Select text by id and then remove\n",
       "        d3.select(\"#t\" + \"-\" + i).remove();\n",
       "    };\n",
       "}\n",
       "\n",
       "function apply_styles(svg) {\n",
       "    // whether the start and destination are intervened or constrained\n",
       "    svg.selectAll(\".destination, .start\")\n",
       "        .classed(\"interventions\", function(d) { return d.where == Gen.interventions; })\n",
       "        .classed(\"constraints\", function(d) { return d.where == Gen.constraints; });\n",
       "\n",
       "    // apply styles to indicate intervened or constrained\n",
       "    svg.selectAll(\".interventions\")\n",
       "        .style(\"stroke\", \"#000\")\n",
       "        .style(\"stroke-width\", 1);\n",
       "    svg.selectAll(\".constraints\")\n",
       "        .style(\"stroke\", \"#000\")\n",
       "        .style(\"stroke-width\", 1)\n",
       "        .style(\"stroke-dasharray\", \"1, 1\");\n",
       "}\n",
       "\n",
       "function add_log_score(svg, trace) {\n",
       "    var score = svg.selectAll(\".score\").data([\"\"]);\n",
       "    score.enter().append(\"text\")\n",
       "        .classed(\"score\", true)\n",
       "        .attr(\"x\", 50).attr(\"y\", 95).attr(\"text-anchor\", \"middle\")\n",
       "        .attr(\"font-size\", \"10px\")\n",
       "      .merge(score)\n",
       "        .text(trace.log_weight.toFixed(2));\n",
       "}\n",
       "\n",
       "Gen.register_jupyter_renderer(\"agent_model_renderer\", function(id, trace, conf) {\n",
       "    var root = d3.select(\"#\" + id);\n",
       "    var svg;\n",
       "    switch (conf.mode) {\n",
       "        case \"overlay\":\n",
       "            root = add_svg_if_not_exists(root, trace);\n",
       "            svg = add_svg(root, trace);\n",
       "            break;\n",
       "        case \"overwrite\":\n",
       "            svg = add_svg_if_not_exists(root, trace);\n",
       "            break;\n",
       "        case \"tile\":\n",
       "            svg = add_svg(root, trace);\n",
       "            break;\n",
       "        default:\n",
       "            break;\n",
       "    }\n",
       "    add_bounding_box(svg);\n",
       "    if (conf.show_path) {\n",
       "        add_path(svg, trace, false); // add a version that keeps the old one around (and dims it?)\n",
       "    }\n",
       "    add_start(svg, trace);\n",
       "    add_destination(svg, trace);\n",
       "    apply_styles(svg);\n",
       "    add_scene(svg, trace);\n",
       "    if (conf.show_score) {\n",
       "        add_log_score(svg, trace);\n",
       "    }\n",
       "});\n"
      ]
     },
     "metadata": {},
     "output_type": "display_data"
    }
   ],
   "source": [
    "javascript\"\"\"\n",
    "\n",
    "var Gen = require(\"nbextensions/gen_notebook_extension/main\");\n",
    "var d3 = require(\"nbextensions/d3/d3.min\");\n",
    "\n",
    "function add_svg(parent, trace) {\n",
    "    return parent.append(\"svg\")\n",
    "        .attr(\"viewBox\", \"0 0 100 100\") // TODO viewBox should depend on scene limits\n",
    "        .attr(\"position\", \"absolute\")\n",
    "        .style(\"height\", \"100%\");\n",
    "}\n",
    "\n",
    "function add_svg_if_not_exists(parent, trace) {\n",
    "    var svg = parent.selectAll(\"svg\").data([\"\"]);\n",
    "    return svg.enter().append(\"svg\")\n",
    "        .attr(\"viewBox\", \"0 0 100 100\") // TODO viewBox should depend on scene limits\n",
    "        .attr(\"position\", \"absolute\")\n",
    "        .style(\"height\", \"100%\")\n",
    "        .merge(svg);\n",
    "}\n",
    "\n",
    "function add_bounding_box(svg) {\n",
    "    svg.selectAll(\"rect\").data([\"\"]).enter().append(\"rect\")\n",
    "        .attr(\"width\", \"100%\")\n",
    "        .attr(\"height\", \"100%\")\n",
    "        .attr(\"stroke\", \"#000\")\n",
    "        .attr(\"fill\", \"#FFF\")\n",
    "        .attr(\"fill-opacity\", 0.0);\n",
    "}\n",
    "\n",
    "function add_scene(svg, trace) {\n",
    "    var scene = Gen.find_choice(trace, \"scene\");\n",
    "    var trace_trees = scene.value.obstacles.filter(function(element) { return element.name == \"Tree\";});\n",
    "    var trees = svg.selectAll(\".tree\").data(trace_trees);\n",
    "    trees.exit().remove();\n",
    "    trees.enter().append(\"rect\")\n",
    "        .style(\"fill\", \"green\")\n",
    "        .classed(\"tree\", true)\n",
    "      .merge(trees)\n",
    "        .attr(\"x\", function(d) { return d.center.x - d.size/2.0; })\n",
    "        .attr(\"y\", function(d) { return d.center.y - d.size/2.0; })\n",
    "        .attr(\"width\", function(d) { return d.size; })\n",
    "        .attr(\"height\", function(d) { return d.size; });\n",
    "    var trace_walls = scene.value.obstacles.filter(function(element) { return element.name == \"Wall\";});\n",
    "    var walls = svg.selectAll(\".wall\").data(trace_walls);\n",
    "    walls.exit().remove();\n",
    "    walls.enter().append(\"rect\")\n",
    "        .style(\"fill\", \"gray\")\n",
    "        .classed(\"wall\", true)\n",
    "      .merge(walls)\n",
    "        .attr(\"x\", function(d) { return d.start.x; })\n",
    "        .attr(\"y\", function(d) { return d.start.y; })\n",
    "        .attr(\"width\", function(d) { return d.orientation == 1 ? d.length : d.thickness; })\n",
    "        .attr(\"height\", function(d) { return d.orientation == 2 ? d.length : d.thickness; });\n",
    "}\n",
    "\n",
    "function add_start(svg, trace) {\n",
    "    // the starting position of the agent\n",
    "    var radius = 2;\n",
    "    var trace_start = Gen.find_choice(trace, \"start\");\n",
    "    var start = svg.selectAll(\".start\").data(trace_start ? [trace_start] : []);\n",
    "    start.exit().remove();\n",
    "    start.enter().append(\"circle\")\n",
    "        .attr(\"r\", radius)\n",
    "        .style(\"fill\", \"blue\")\n",
    "        .classed(\"start\", true)\n",
    "      .merge(start)\n",
    "        .attr(\"cx\", function(d) { return d.value.x; })\n",
    "        .attr(\"cy\", function(d) { return d.value.y; });\n",
    "}\n",
    "\n",
    "function add_destination(svg, trace) {\n",
    "    // the destination position of the agent\n",
    "    var radius = 2;\n",
    "    var trace_dest = Gen.find_choice(trace, \"destination\");\n",
    "    var dest = svg.selectAll(\".destination\").data(trace_dest ? [trace_dest] : []);\n",
    "    dest.exit().remove();\n",
    "    dest.enter().append(\"circle\")\n",
    "        .attr(\"r\", radius)\n",
    "        .style(\"fill\", \"red\")\n",
    "        .classed(\"destination\", true)\n",
    "      .merge(dest)\n",
    "        .attr(\"cx\", function(d) { return d.value.x; })\n",
    "        .attr(\"cy\", function(d) { return d.value.y; });\n",
    "}\n",
    "\n",
    "function add_path(svg, trace, update) {\n",
    "    // the path points of the agent\n",
    "    // TODO would be great if they could be observed together..\n",
    "    var radius = 2;\n",
    "    var times = Gen.find_choice(trace, \"times\").value;\n",
    "    var path_point_data = [];\n",
    "    for (var i=1; i<=times.length; i++) {\n",
    "        path_point_data.push({x: Gen.find_choice(trace, \"x\" + i),\n",
    "                              y: Gen.find_choice(trace, \"y\" + i)});\n",
    "    }\n",
    "    var path_segment_data = [];\n",
    "    for (var i=0; i<times.length-1; i++) {\n",
    "        path_segment_data.push({prev: {x: path_point_data[i].x,   y: path_point_data[i].y},\n",
    "                                next: {x: path_point_data[i+1].x, y: path_point_data[i+1].y}});\n",
    "    }\n",
    "\n",
    "    // if update, join on a key that includes which trace \n",
    "    // we should be able to store the age of an element in the DOM?\n",
    "    // and increment the age each time?\n",
    "    var path_segments = svg.selectAll(\".path_segments\").data(path_segment_data);\n",
    "    path_segments.exit().remove();\n",
    "    path_segments.enter().append(\"line\")\n",
    "        .style(\"stroke\", \"#000\")\n",
    "        .classed(\"path_segments\", true)\n",
    "      .merge(path_segments)\n",
    "        .attr(\"x1\", function(d) { return d.prev.x.value; })\n",
    "        .attr(\"y1\", function(d) { return d.prev.y.value; })\n",
    "        .attr(\"x2\", function(d) { return d.next.x.value; })\n",
    "        .attr(\"y2\", function(d) { return d.next.y.value; });\n",
    "    \n",
    "    var radius = 2;\n",
    "    var path_points = svg.selectAll(\".path\").data(path_point_data);\n",
    "    path_points.exit().remove();\n",
    "    path_points.enter().append(\"circle\")\n",
    "        .attr(\"r\", radius)\n",
    "        .style(\"fill\", \"orange\")\n",
    "        .style(\"fill-opacity\", 0.5)\n",
    "        .classed(\"path\", true)\n",
    "        .on(\"mouseover\", handleMouseOver)\n",
    "        .on(\"mouseout\", handleMouseOut)\n",
    "      .merge(path_points)\n",
    "        .attr(\"cx\", function(d) { return d.x.value; })\n",
    "        .attr(\"cy\", function(d) { return d.y.value; });\n",
    "    svg.selectAll(\".path\")\n",
    "        .classed(\"interventions\", function(d) { return d.x.where == Gen.interventions || d.y.where == Gen.interventions; })\n",
    "        .classed(\"constraints\", function(d) { return d.x.where == Gen.constraints || d.y.where == Gen.constraints; });\n",
    "        \n",
    "    function handleMouseOver(d, i) {\n",
    "        var x = d.x.value;\n",
    "        var y = d.y.value;\n",
    "         // Specify where to put label of text\n",
    "        svg.append(\"text\").attr(\"id\", \"t\" + \"-\" + i).attr(\"x\", x).attr(\"y\", y)\n",
    "            .attr(\"font-size\", \"6px\")\n",
    "            .attr(\"pointer-events\", \"none\")\n",
    "            .text([x.toFixed(1), y.toFixed(1)]);\n",
    "    };\n",
    "                              \n",
    "    function handleMouseOut(d, i) {\n",
    "        var x = d.x.value;\n",
    "        var y = d.y.value;\n",
    "         // Select text by id and then remove\n",
    "        d3.select(\"#t\" + \"-\" + i).remove();\n",
    "    };\n",
    "}\n",
    "\n",
    "function apply_styles(svg) {\n",
    "    // whether the start and destination are intervened or constrained\n",
    "    svg.selectAll(\".destination, .start\")\n",
    "        .classed(\"interventions\", function(d) { return d.where == Gen.interventions; })\n",
    "        .classed(\"constraints\", function(d) { return d.where == Gen.constraints; });\n",
    "\n",
    "    // apply styles to indicate intervened or constrained\n",
    "    svg.selectAll(\".interventions\")\n",
    "        .style(\"stroke\", \"#000\")\n",
    "        .style(\"stroke-width\", 1);\n",
    "    svg.selectAll(\".constraints\")\n",
    "        .style(\"stroke\", \"#000\")\n",
    "        .style(\"stroke-width\", 1)\n",
    "        .style(\"stroke-dasharray\", \"1, 1\");\n",
    "}\n",
    "\n",
    "function add_log_score(svg, trace) {\n",
    "    var score = svg.selectAll(\".score\").data([\"\"]);\n",
    "    score.enter().append(\"text\")\n",
    "        .classed(\"score\", true)\n",
    "        .attr(\"x\", 50).attr(\"y\", 95).attr(\"text-anchor\", \"middle\")\n",
    "        .attr(\"font-size\", \"10px\")\n",
    "      .merge(score)\n",
    "        .text(trace.log_weight.toFixed(2));\n",
    "}\n",
    "\n",
    "Gen.register_jupyter_renderer(\"agent_model_renderer\", function(id, trace, conf) {\n",
    "    var root = d3.select(\"#\" + id);\n",
    "    var svg;\n",
    "    switch (conf.mode) {\n",
    "        case \"overlay\":\n",
    "            root = add_svg_if_not_exists(root, trace);\n",
    "            svg = add_svg(root, trace);\n",
    "            break;\n",
    "        case \"overwrite\":\n",
    "            svg = add_svg_if_not_exists(root, trace);\n",
    "            break;\n",
    "        case \"tile\":\n",
    "            svg = add_svg(root, trace);\n",
    "            break;\n",
    "        default:\n",
    "            break;\n",
    "    }\n",
    "    add_bounding_box(svg);\n",
    "    if (conf.show_path) {\n",
    "        add_path(svg, trace, false); // add a version that keeps the old one around (and dims it?)\n",
    "    }\n",
    "    add_start(svg, trace);\n",
    "    add_destination(svg, trace);\n",
    "    apply_styles(svg);\n",
    "    add_scene(svg, trace);\n",
    "    if (conf.show_score) {\n",
    "        add_log_score(svg, trace);\n",
    "    }\n",
    "});\n",
    "\"\"\""
   ]
  },
  {
   "cell_type": "code",
   "execution_count": 8,
   "metadata": {
    "scrolled": false
   },
   "outputs": [
    {
     "data": {
      "text/html": [
       "    <div id=\"id_8cc2dc6ac6144e56b8bc403ff57ef106\"></div>\n",
       "    <script>\n",
       "        var d3 = require(\"nbextensions/d3/d3.min\");\n",
       "    \n",
       "        var svg = d3.select(\"#id_8cc2dc6ac6144e56b8bc403ff57ef106\").append(\"svg\")\n",
       "            .attr(\"width\", 200)\n",
       "            .attr(\"height\", 200);\n",
       "    \n",
       "        // TODO delete me\n",
       "        svg.append(\"rect\")\n",
       "            .attr(\"x\", 0)\n",
       "            .attr(\"y\", 0)\n",
       "            .attr(\"width\", \"100%\")\n",
       "            .attr(\"height\", \"100%\")\n",
       "            .style(\"stroke\", \"white\")\n",
       "            .style(\"fill\", \"white\");\n",
       "    \n",
       "        var tile_width = 200 / 1;\n",
       "        var tile_height = 200 / 1;\n",
       "        var i = 1;\n",
       "        for (var row=0; row<1; row++) {\n",
       "            for (var col=0; col<1; col++) {\n",
       "                var sub_svg = svg.append(\"svg\")\n",
       "                    .classed(\"subfigure\", true)\n",
       "\t\t\t        .attr(\"id\", \"id_8cc2dc6ac6144e56b8bc403ff57ef106_parent\" + i)\n",
       "                    .attr(\"x\", col * tile_width)\n",
       "                    .attr(\"y\", row * tile_height)\n",
       "                    .attr(\"width\", tile_width)\n",
       "                    .attr(\"height\", tile_height);\n",
       "                var inner_svg = sub_svg.append(\"svg\")\n",
       "                    .attr(\"x\", 0.0)\n",
       "                    .attr(\"y\", 20)\n",
       "                    .attr(\"width\", tile_width - 0.0 - 0.0)\n",
       "                    .attr(\"height\", tile_height - 20 - 0.0);\n",
       "                var frame = inner_svg.append(\"svg\")\n",
       "\t\t\t        .attr(\"id\", \"id_8cc2dc6ac6144e56b8bc403ff57ef106_frame\" + i)\n",
       "                    //.attr(\"preserveAspectRatio\", \"none\")\n",
       "                    .attr(\"viewBox\", \"0.0 0.0 100 100\");\n",
       "                i += 1;\n",
       "            }\n",
       "        }\n",
       "    "
      ],
      "text/plain": [
       "HTML{String}(\"    <div id=\\\"id_8cc2dc6ac6144e56b8bc403ff57ef106\\\"></div>\\n    <script>\\n        var d3 = require(\\\"nbextensions/d3/d3.min\\\");\\n    \\n        var svg = d3.select(\\\"#id_8cc2dc6ac6144e56b8bc403ff57ef106\\\").append(\\\"svg\\\")\\n            .attr(\\\"width\\\", 200)\\n            .attr(\\\"height\\\", 200);\\n    \\n        // TODO delete me\\n        svg.append(\\\"rect\\\")\\n            .attr(\\\"x\\\", 0)\\n            .attr(\\\"y\\\", 0)\\n            .attr(\\\"width\\\", \\\"100%\\\")\\n            .attr(\\\"height\\\", \\\"100%\\\")\\n            .style(\\\"stroke\\\", \\\"white\\\")\\n            .style(\\\"fill\\\", \\\"white\\\");\\n    \\n        var tile_width = 200 / 1;\\n        var tile_height = 200 / 1;\\n        var i = 1;\\n        for (var row=0; row<1; row++) {\\n            for (var col=0; col<1; col++) {\\n                var sub_svg = svg.append(\\\"svg\\\")\\n                    .classed(\\\"subfigure\\\", true)\\n\\t\\t\\t        .attr(\\\"id\\\", \\\"id_8cc2dc6ac6144e56b8bc403ff57ef106_parent\\\" + i)\\n                    .attr(\\\"x\\\", col * tile_width)\\n                    .attr(\\\"y\\\", row * tile_height)\\n                    .attr(\\\"width\\\", tile_width)\\n                    .attr(\\\"height\\\", tile_height);\\n                var inner_svg = sub_svg.append(\\\"svg\\\")\\n                    .attr(\\\"x\\\", 0.0)\\n                    .attr(\\\"y\\\", 20)\\n                    .attr(\\\"width\\\", tile_width - 0.0 - 0.0)\\n                    .attr(\\\"height\\\", tile_height - 20 - 0.0);\\n                var frame = inner_svg.append(\\\"svg\\\")\\n\\t\\t\\t        .attr(\\\"id\\\", \\\"id_8cc2dc6ac6144e56b8bc403ff57ef106_frame\\\" + i)\\n                    //.attr(\\\"preserveAspectRatio\\\", \\\"none\\\")\\n                    .attr(\\\"viewBox\\\", \\\"0.0 0.0 100 100\\\");\\n                i += 1;\\n            }\\n        }\\n    \")"
      ]
     },
     "execution_count": 8,
     "metadata": {},
     "output_type": "execute_result"
    }
   ],
   "source": [
    "figure = Figure(width=200, height=200, trace_width=100, trace_height=100, margin_top=20)\n",
    "here(figure)"
   ]
  },
  {
   "cell_type": "code",
   "execution_count": 9,
   "metadata": {
    "collapsed": true,
    "scrolled": false
   },
   "outputs": [],
   "source": [
    "#here(width=200, height=200, trace_width=100., trace_height=100., margin_top=20.)"
   ]
  },
  {
   "cell_type": "code",
   "execution_count": 10,
   "metadata": {},
   "outputs": [],
   "source": [
    "renderer = JupyterInlineRenderer(\"agent_model_renderer\", Dict(\"mode\" => \"overwrite\", \"show_path\" => true))\n",
    "trace = Trace()\n",
    "@generate(trace, agent_model())\n",
    "attach(renderer, figure)\n",
    "render(renderer, trace) # TODO add legend"
   ]
  },
  {
   "cell_type": "code",
   "execution_count": 11,
   "metadata": {},
   "outputs": [
    {
     "ename": "LoadError",
     "evalue": "UndefVarError: set_title! not defined",
     "output_type": "error",
     "traceback": [
      "UndefVarError: set_title! not defined",
      ""
     ]
    }
   ],
   "source": [
    "set_title!(figure, 1, \"A sample\")"
   ]
  },
  {
   "cell_type": "markdown",
   "metadata": {},
   "source": [
    "The program is stochastic. We get a sense of the distribution by rendering many frames in an animation:"
   ]
  },
  {
   "cell_type": "code",
   "execution_count": 12,
   "metadata": {},
   "outputs": [
    {
     "data": {
      "text/html": [
       "    <div id=\"id_eb7257369a3549f8aa1c3dab1d4031cd\"></div>\n",
       "    <script>\n",
       "        var d3 = require(\"nbextensions/d3/d3.min\");\n",
       "    \n",
       "        var svg = d3.select(\"#id_eb7257369a3549f8aa1c3dab1d4031cd\").append(\"svg\")\n",
       "            .attr(\"width\", 200)\n",
       "            .attr(\"height\", 200);\n",
       "    \n",
       "        // TODO delete me\n",
       "        svg.append(\"rect\")\n",
       "            .attr(\"x\", 0)\n",
       "            .attr(\"y\", 0)\n",
       "            .attr(\"width\", \"100%\")\n",
       "            .attr(\"height\", \"100%\")\n",
       "            .style(\"stroke\", \"white\")\n",
       "            .style(\"fill\", \"white\");\n",
       "    \n",
       "        var tile_width = 200 / 1;\n",
       "        var tile_height = 200 / 1;\n",
       "        var i = 1;\n",
       "        for (var row=0; row<1; row++) {\n",
       "            for (var col=0; col<1; col++) {\n",
       "                var sub_svg = svg.append(\"svg\")\n",
       "                    .classed(\"subfigure\", true)\n",
       "\t\t\t        .attr(\"id\", \"id_eb7257369a3549f8aa1c3dab1d4031cd_parent\" + i)\n",
       "                    .attr(\"x\", col * tile_width)\n",
       "                    .attr(\"y\", row * tile_height)\n",
       "                    .attr(\"width\", tile_width)\n",
       "                    .attr(\"height\", tile_height);\n",
       "                var inner_svg = sub_svg.append(\"svg\")\n",
       "                    .attr(\"x\", 0.0)\n",
       "                    .attr(\"y\", 20)\n",
       "                    .attr(\"width\", tile_width - 0.0 - 0.0)\n",
       "                    .attr(\"height\", tile_height - 20 - 0.0);\n",
       "                var frame = inner_svg.append(\"svg\")\n",
       "\t\t\t        .attr(\"id\", \"id_eb7257369a3549f8aa1c3dab1d4031cd_frame\" + i)\n",
       "                    //.attr(\"preserveAspectRatio\", \"none\")\n",
       "                    .attr(\"viewBox\", \"0.0 0.0 100 100\");\n",
       "                i += 1;\n",
       "            }\n",
       "        }\n",
       "    "
      ],
      "text/plain": [
       "HTML{String}(\"    <div id=\\\"id_eb7257369a3549f8aa1c3dab1d4031cd\\\"></div>\\n    <script>\\n        var d3 = require(\\\"nbextensions/d3/d3.min\\\");\\n    \\n        var svg = d3.select(\\\"#id_eb7257369a3549f8aa1c3dab1d4031cd\\\").append(\\\"svg\\\")\\n            .attr(\\\"width\\\", 200)\\n            .attr(\\\"height\\\", 200);\\n    \\n        // TODO delete me\\n        svg.append(\\\"rect\\\")\\n            .attr(\\\"x\\\", 0)\\n            .attr(\\\"y\\\", 0)\\n            .attr(\\\"width\\\", \\\"100%\\\")\\n            .attr(\\\"height\\\", \\\"100%\\\")\\n            .style(\\\"stroke\\\", \\\"white\\\")\\n            .style(\\\"fill\\\", \\\"white\\\");\\n    \\n        var tile_width = 200 / 1;\\n        var tile_height = 200 / 1;\\n        var i = 1;\\n        for (var row=0; row<1; row++) {\\n            for (var col=0; col<1; col++) {\\n                var sub_svg = svg.append(\\\"svg\\\")\\n                    .classed(\\\"subfigure\\\", true)\\n\\t\\t\\t        .attr(\\\"id\\\", \\\"id_eb7257369a3549f8aa1c3dab1d4031cd_parent\\\" + i)\\n                    .attr(\\\"x\\\", col * tile_width)\\n                    .attr(\\\"y\\\", row * tile_height)\\n                    .attr(\\\"width\\\", tile_width)\\n                    .attr(\\\"height\\\", tile_height);\\n                var inner_svg = sub_svg.append(\\\"svg\\\")\\n                    .attr(\\\"x\\\", 0.0)\\n                    .attr(\\\"y\\\", 20)\\n                    .attr(\\\"width\\\", tile_width - 0.0 - 0.0)\\n                    .attr(\\\"height\\\", tile_height - 20 - 0.0);\\n                var frame = inner_svg.append(\\\"svg\\\")\\n\\t\\t\\t        .attr(\\\"id\\\", \\\"id_eb7257369a3549f8aa1c3dab1d4031cd_frame\\\" + i)\\n                    //.attr(\\\"preserveAspectRatio\\\", \\\"none\\\")\\n                    .attr(\\\"viewBox\\\", \\\"0.0 0.0 100 100\\\");\\n                i += 1;\\n            }\\n        }\\n    \")"
      ]
     },
     "execution_count": 12,
     "metadata": {},
     "output_type": "execute_result"
    }
   ],
   "source": [
    "figure = Figure(width=200, height=200, trace_width=100, trace_height=100, margin_top=20)\n",
    "here(figure)"
   ]
  },
  {
   "cell_type": "code",
   "execution_count": 13,
   "metadata": {
    "collapsed": true
   },
   "outputs": [],
   "source": [
    "attach(renderer, figure)\n",
    "for i=1:100\n",
    "    trace = Trace()\n",
    "    @generate(trace, agent_model())\n",
    "    render(renderer, trace) # TODO add legend\n",
    "end"
   ]
  },
  {
   "cell_type": "markdown",
   "metadata": {},
   "source": [
    "We can also visualize many runs side by side in a grid:"
   ]
  },
  {
   "cell_type": "code",
   "execution_count": 14,
   "metadata": {},
   "outputs": [
    {
     "data": {
      "text/html": [
       "    <div id=\"id_386246cedde0454db023abff205c221d\"></div>\n",
       "    <script>\n",
       "        var d3 = require(\"nbextensions/d3/d3.min\");\n",
       "    \n",
       "        var svg = d3.select(\"#id_386246cedde0454db023abff205c221d\").append(\"svg\")\n",
       "            .attr(\"width\", 900)\n",
       "            .attr(\"height\", 300);\n",
       "    \n",
       "        // TODO delete me\n",
       "        svg.append(\"rect\")\n",
       "            .attr(\"x\", 0)\n",
       "            .attr(\"y\", 0)\n",
       "            .attr(\"width\", \"100%\")\n",
       "            .attr(\"height\", \"100%\")\n",
       "            .style(\"stroke\", \"white\")\n",
       "            .style(\"fill\", \"white\");\n",
       "    \n",
       "        var tile_width = 900 / 6;\n",
       "        var tile_height = 300 / 2;\n",
       "        var i = 1;\n",
       "        for (var row=0; row<2; row++) {\n",
       "            for (var col=0; col<6; col++) {\n",
       "                var sub_svg = svg.append(\"svg\")\n",
       "                    .classed(\"subfigure\", true)\n",
       "\t\t\t        .attr(\"id\", \"id_386246cedde0454db023abff205c221d_parent\" + i)\n",
       "                    .attr(\"x\", col * tile_width)\n",
       "                    .attr(\"y\", row * tile_height)\n",
       "                    .attr(\"width\", tile_width)\n",
       "                    .attr(\"height\", tile_height);\n",
       "                var inner_svg = sub_svg.append(\"svg\")\n",
       "                    .attr(\"x\", 0.0)\n",
       "                    .attr(\"y\", 0.0)\n",
       "                    .attr(\"width\", tile_width - 0.0 - 0.0)\n",
       "                    .attr(\"height\", tile_height - 0.0 - 0.0);\n",
       "                var frame = inner_svg.append(\"svg\")\n",
       "\t\t\t        .attr(\"id\", \"id_386246cedde0454db023abff205c221d_frame\" + i)\n",
       "                    //.attr(\"preserveAspectRatio\", \"none\")\n",
       "                    .attr(\"viewBox\", \"0.0 0.0 100 100\");\n",
       "                i += 1;\n",
       "            }\n",
       "        }\n",
       "    "
      ],
      "text/plain": [
       "HTML{String}(\"    <div id=\\\"id_386246cedde0454db023abff205c221d\\\"></div>\\n    <script>\\n        var d3 = require(\\\"nbextensions/d3/d3.min\\\");\\n    \\n        var svg = d3.select(\\\"#id_386246cedde0454db023abff205c221d\\\").append(\\\"svg\\\")\\n            .attr(\\\"width\\\", 900)\\n            .attr(\\\"height\\\", 300);\\n    \\n        // TODO delete me\\n        svg.append(\\\"rect\\\")\\n            .attr(\\\"x\\\", 0)\\n            .attr(\\\"y\\\", 0)\\n            .attr(\\\"width\\\", \\\"100%\\\")\\n            .attr(\\\"height\\\", \\\"100%\\\")\\n            .style(\\\"stroke\\\", \\\"white\\\")\\n            .style(\\\"fill\\\", \\\"white\\\");\\n    \\n        var tile_width = 900 / 6;\\n        var tile_height = 300 / 2;\\n        var i = 1;\\n        for (var row=0; row<2; row++) {\\n            for (var col=0; col<6; col++) {\\n                var sub_svg = svg.append(\\\"svg\\\")\\n                    .classed(\\\"subfigure\\\", true)\\n\\t\\t\\t        .attr(\\\"id\\\", \\\"id_386246cedde0454db023abff205c221d_parent\\\" + i)\\n                    .attr(\\\"x\\\", col * tile_width)\\n                    .attr(\\\"y\\\", row * tile_height)\\n                    .attr(\\\"width\\\", tile_width)\\n                    .attr(\\\"height\\\", tile_height);\\n                var inner_svg = sub_svg.append(\\\"svg\\\")\\n                    .attr(\\\"x\\\", 0.0)\\n                    .attr(\\\"y\\\", 0.0)\\n                    .attr(\\\"width\\\", tile_width - 0.0 - 0.0)\\n                    .attr(\\\"height\\\", tile_height - 0.0 - 0.0);\\n                var frame = inner_svg.append(\\\"svg\\\")\\n\\t\\t\\t        .attr(\\\"id\\\", \\\"id_386246cedde0454db023abff205c221d_frame\\\" + i)\\n                    //.attr(\\\"preserveAspectRatio\\\", \\\"none\\\")\\n                    .attr(\\\"viewBox\\\", \\\"0.0 0.0 100 100\\\");\\n                i += 1;\\n            }\\n        }\\n    \")"
      ]
     },
     "execution_count": 14,
     "metadata": {},
     "output_type": "execute_result"
    }
   ],
   "source": [
    "figure = Figure(num_rows=2, num_cols=6, width=900, height=300, trace_width=100, trace_height=100)\n",
    "here(figure)"
   ]
  },
  {
   "cell_type": "code",
   "execution_count": 15,
   "metadata": {
    "collapsed": true
   },
   "outputs": [],
   "source": [
    "for i=1:12\n",
    "    trace = Trace()\n",
    "    @generate(trace, agent_model())\n",
    "    attach(renderer, (figure => i))\n",
    "    render(renderer, trace)\n",
    "end"
   ]
  },
  {
   "cell_type": "markdown",
   "metadata": {},
   "source": [
    "We can see what the traces look like when we fix the value of `start` and `destination` with `intervene!`:"
   ]
  },
  {
   "cell_type": "code",
   "execution_count": 16,
   "metadata": {},
   "outputs": [
    {
     "data": {
      "text/html": [
       "    <div id=\"id_5a2b32663bb04c57bf347291d36e006d\"></div>\n",
       "    <script>\n",
       "        var d3 = require(\"nbextensions/d3/d3.min\");\n",
       "    \n",
       "        var svg = d3.select(\"#id_5a2b32663bb04c57bf347291d36e006d\").append(\"svg\")\n",
       "            .attr(\"width\", 900)\n",
       "            .attr(\"height\", 300);\n",
       "    \n",
       "        // TODO delete me\n",
       "        svg.append(\"rect\")\n",
       "            .attr(\"x\", 0)\n",
       "            .attr(\"y\", 0)\n",
       "            .attr(\"width\", \"100%\")\n",
       "            .attr(\"height\", \"100%\")\n",
       "            .style(\"stroke\", \"white\")\n",
       "            .style(\"fill\", \"white\");\n",
       "    \n",
       "        var tile_width = 900 / 6;\n",
       "        var tile_height = 300 / 2;\n",
       "        var i = 1;\n",
       "        for (var row=0; row<2; row++) {\n",
       "            for (var col=0; col<6; col++) {\n",
       "                var sub_svg = svg.append(\"svg\")\n",
       "                    .classed(\"subfigure\", true)\n",
       "\t\t\t        .attr(\"id\", \"id_5a2b32663bb04c57bf347291d36e006d_parent\" + i)\n",
       "                    .attr(\"x\", col * tile_width)\n",
       "                    .attr(\"y\", row * tile_height)\n",
       "                    .attr(\"width\", tile_width)\n",
       "                    .attr(\"height\", tile_height);\n",
       "                var inner_svg = sub_svg.append(\"svg\")\n",
       "                    .attr(\"x\", 0.0)\n",
       "                    .attr(\"y\", 0.0)\n",
       "                    .attr(\"width\", tile_width - 0.0 - 0.0)\n",
       "                    .attr(\"height\", tile_height - 0.0 - 0.0);\n",
       "                var frame = inner_svg.append(\"svg\")\n",
       "\t\t\t        .attr(\"id\", \"id_5a2b32663bb04c57bf347291d36e006d_frame\" + i)\n",
       "                    //.attr(\"preserveAspectRatio\", \"none\")\n",
       "                    .attr(\"viewBox\", \"0.0 0.0 100 100\");\n",
       "                i += 1;\n",
       "            }\n",
       "        }\n",
       "    "
      ],
      "text/plain": [
       "HTML{String}(\"    <div id=\\\"id_5a2b32663bb04c57bf347291d36e006d\\\"></div>\\n    <script>\\n        var d3 = require(\\\"nbextensions/d3/d3.min\\\");\\n    \\n        var svg = d3.select(\\\"#id_5a2b32663bb04c57bf347291d36e006d\\\").append(\\\"svg\\\")\\n            .attr(\\\"width\\\", 900)\\n            .attr(\\\"height\\\", 300);\\n    \\n        // TODO delete me\\n        svg.append(\\\"rect\\\")\\n            .attr(\\\"x\\\", 0)\\n            .attr(\\\"y\\\", 0)\\n            .attr(\\\"width\\\", \\\"100%\\\")\\n            .attr(\\\"height\\\", \\\"100%\\\")\\n            .style(\\\"stroke\\\", \\\"white\\\")\\n            .style(\\\"fill\\\", \\\"white\\\");\\n    \\n        var tile_width = 900 / 6;\\n        var tile_height = 300 / 2;\\n        var i = 1;\\n        for (var row=0; row<2; row++) {\\n            for (var col=0; col<6; col++) {\\n                var sub_svg = svg.append(\\\"svg\\\")\\n                    .classed(\\\"subfigure\\\", true)\\n\\t\\t\\t        .attr(\\\"id\\\", \\\"id_5a2b32663bb04c57bf347291d36e006d_parent\\\" + i)\\n                    .attr(\\\"x\\\", col * tile_width)\\n                    .attr(\\\"y\\\", row * tile_height)\\n                    .attr(\\\"width\\\", tile_width)\\n                    .attr(\\\"height\\\", tile_height);\\n                var inner_svg = sub_svg.append(\\\"svg\\\")\\n                    .attr(\\\"x\\\", 0.0)\\n                    .attr(\\\"y\\\", 0.0)\\n                    .attr(\\\"width\\\", tile_width - 0.0 - 0.0)\\n                    .attr(\\\"height\\\", tile_height - 0.0 - 0.0);\\n                var frame = inner_svg.append(\\\"svg\\\")\\n\\t\\t\\t        .attr(\\\"id\\\", \\\"id_5a2b32663bb04c57bf347291d36e006d_frame\\\" + i)\\n                    //.attr(\\\"preserveAspectRatio\\\", \\\"none\\\")\\n                    .attr(\\\"viewBox\\\", \\\"0.0 0.0 100 100\\\");\\n                i += 1;\\n            }\\n        }\\n    \")"
      ]
     },
     "execution_count": 16,
     "metadata": {},
     "output_type": "execute_result"
    }
   ],
   "source": [
    "figure = Figure(num_rows=2, num_cols=6, width=900, height=300, trace_width=100, trace_height=100)\n",
    "here(figure)"
   ]
  },
  {
   "cell_type": "code",
   "execution_count": 17,
   "metadata": {
    "collapsed": true,
    "scrolled": false
   },
   "outputs": [],
   "source": [
    "for i=1:12\n",
    "    trace = Trace()\n",
    "    intervene!(trace, \"start\", Point(10, 10))\n",
    "    intervene!(trace, \"destination\", Point(90, 90))\n",
    "    @generate(trace, agent_model())\n",
    "    attach(renderer, (figure => i))\n",
    "    render(renderer, trace)\n",
    "end"
   ]
  },
  {
   "cell_type": "markdown",
   "metadata": {},
   "source": [
    "We can also overlay many traces:"
   ]
  },
  {
   "cell_type": "code",
   "execution_count": 18,
   "metadata": {},
   "outputs": [
    {
     "data": {
      "text/html": [
       "    <div id=\"id_c92a0b079a5541738b3b4a958f778b42\"></div>\n",
       "    <script>\n",
       "        var d3 = require(\"nbextensions/d3/d3.min\");\n",
       "    \n",
       "        var svg = d3.select(\"#id_c92a0b079a5541738b3b4a958f778b42\").append(\"svg\")\n",
       "            .attr(\"width\", 200)\n",
       "            .attr(\"height\", 200);\n",
       "    \n",
       "        // TODO delete me\n",
       "        svg.append(\"rect\")\n",
       "            .attr(\"x\", 0)\n",
       "            .attr(\"y\", 0)\n",
       "            .attr(\"width\", \"100%\")\n",
       "            .attr(\"height\", \"100%\")\n",
       "            .style(\"stroke\", \"white\")\n",
       "            .style(\"fill\", \"white\");\n",
       "    \n",
       "        var tile_width = 200 / 1;\n",
       "        var tile_height = 200 / 1;\n",
       "        var i = 1;\n",
       "        for (var row=0; row<1; row++) {\n",
       "            for (var col=0; col<1; col++) {\n",
       "                var sub_svg = svg.append(\"svg\")\n",
       "                    .classed(\"subfigure\", true)\n",
       "\t\t\t        .attr(\"id\", \"id_c92a0b079a5541738b3b4a958f778b42_parent\" + i)\n",
       "                    .attr(\"x\", col * tile_width)\n",
       "                    .attr(\"y\", row * tile_height)\n",
       "                    .attr(\"width\", tile_width)\n",
       "                    .attr(\"height\", tile_height);\n",
       "                var inner_svg = sub_svg.append(\"svg\")\n",
       "                    .attr(\"x\", 0.0)\n",
       "                    .attr(\"y\", 0.0)\n",
       "                    .attr(\"width\", tile_width - 0.0 - 0.0)\n",
       "                    .attr(\"height\", tile_height - 0.0 - 0.0);\n",
       "                var frame = inner_svg.append(\"svg\")\n",
       "\t\t\t        .attr(\"id\", \"id_c92a0b079a5541738b3b4a958f778b42_frame\" + i)\n",
       "                    //.attr(\"preserveAspectRatio\", \"none\")\n",
       "                    .attr(\"viewBox\", \"0.0 0.0 100 100\");\n",
       "                i += 1;\n",
       "            }\n",
       "        }\n",
       "    "
      ],
      "text/plain": [
       "HTML{String}(\"    <div id=\\\"id_c92a0b079a5541738b3b4a958f778b42\\\"></div>\\n    <script>\\n        var d3 = require(\\\"nbextensions/d3/d3.min\\\");\\n    \\n        var svg = d3.select(\\\"#id_c92a0b079a5541738b3b4a958f778b42\\\").append(\\\"svg\\\")\\n            .attr(\\\"width\\\", 200)\\n            .attr(\\\"height\\\", 200);\\n    \\n        // TODO delete me\\n        svg.append(\\\"rect\\\")\\n            .attr(\\\"x\\\", 0)\\n            .attr(\\\"y\\\", 0)\\n            .attr(\\\"width\\\", \\\"100%\\\")\\n            .attr(\\\"height\\\", \\\"100%\\\")\\n            .style(\\\"stroke\\\", \\\"white\\\")\\n            .style(\\\"fill\\\", \\\"white\\\");\\n    \\n        var tile_width = 200 / 1;\\n        var tile_height = 200 / 1;\\n        var i = 1;\\n        for (var row=0; row<1; row++) {\\n            for (var col=0; col<1; col++) {\\n                var sub_svg = svg.append(\\\"svg\\\")\\n                    .classed(\\\"subfigure\\\", true)\\n\\t\\t\\t        .attr(\\\"id\\\", \\\"id_c92a0b079a5541738b3b4a958f778b42_parent\\\" + i)\\n                    .attr(\\\"x\\\", col * tile_width)\\n                    .attr(\\\"y\\\", row * tile_height)\\n                    .attr(\\\"width\\\", tile_width)\\n                    .attr(\\\"height\\\", tile_height);\\n                var inner_svg = sub_svg.append(\\\"svg\\\")\\n                    .attr(\\\"x\\\", 0.0)\\n                    .attr(\\\"y\\\", 0.0)\\n                    .attr(\\\"width\\\", tile_width - 0.0 - 0.0)\\n                    .attr(\\\"height\\\", tile_height - 0.0 - 0.0);\\n                var frame = inner_svg.append(\\\"svg\\\")\\n\\t\\t\\t        .attr(\\\"id\\\", \\\"id_c92a0b079a5541738b3b4a958f778b42_frame\\\" + i)\\n                    //.attr(\\\"preserveAspectRatio\\\", \\\"none\\\")\\n                    .attr(\\\"viewBox\\\", \\\"0.0 0.0 100 100\\\");\\n                i += 1;\\n            }\\n        }\\n    \")"
      ]
     },
     "execution_count": 18,
     "metadata": {},
     "output_type": "execute_result"
    }
   ],
   "source": [
    "figure = Figure(width=200, height=200, trace_width=100, trace_height=100)\n",
    "here(figure)"
   ]
  },
  {
   "cell_type": "code",
   "execution_count": 19,
   "metadata": {},
   "outputs": [],
   "source": [
    "renderer = JupyterInlineRenderer(\"agent_model_renderer\", Dict(\"mode\" => \"overlay\", \"show_path\" => true))\n",
    "attach(renderer, figure)\n",
    "for i=1:20\n",
    "    trace = Trace()\n",
    "    intervene!(trace, \"start\", Point(10, 10))\n",
    "    intervene!(trace, \"destination\", Point(90, 90))\n",
    "    @generate(trace, agent_model())\n",
    "    render(renderer, trace)\n",
    "end"
   ]
  },
  {
   "cell_type": "markdown",
   "metadata": {},
   "source": [
    "# 3. Probabilistic inference"
   ]
  },
  {
   "cell_type": "markdown",
   "metadata": {},
   "source": [
    "So far, we have simulated forward from the model, and we have intervened on some random choices and simulated the consequence. However, suppose we had observed a given sequence of locations of the agent, and we wanted to know probable goal locations? This is a query that cannot be answered simply by forward simulation of the program, because the location of the drone is a *consequence* and not a *cause* of the destination. We can easily find probable consequences given the causes, but finding probable causes given the consequences requires a bit more work."
   ]
  },
  {
   "cell_type": "markdown",
   "metadata": {},
   "source": [
    "Here is an example dataset showing measured locations for the first 15 time points:"
   ]
  },
  {
   "cell_type": "code",
   "execution_count": 20,
   "metadata": {},
   "outputs": [
    {
     "data": {
      "text/plain": [
       "4-element Array{Point,1}:\n",
       " Point(10.0,10.0)\n",
       " Point(10.0,20.0)\n",
       " Point(10.0,30.0)\n",
       " Point(10.0,40.0)"
      ]
     },
     "execution_count": 20,
     "metadata": {},
     "output_type": "execute_result"
    }
   ],
   "source": [
    "points = [Point(10, 10), Point(10, 20), Point(10, 30), Point(10, 40)]"
   ]
  },
  {
   "cell_type": "markdown",
   "metadata": {},
   "source": [
    "The first step in inference is to constrain the random choices that are observed."
   ]
  },
  {
   "cell_type": "code",
   "execution_count": 21,
   "metadata": {
    "collapsed": true
   },
   "outputs": [],
   "source": [
    "trace = Trace()\n",
    "intervene!(trace, \"start\", Point(10, 10))\n",
    "for (i, point) in enumerate(points)\n",
    "    constrain!(trace, \"x$i\", point.x)\n",
    "    constrain!(trace, \"y$i\", point.y)\n",
    "end"
   ]
  },
  {
   "cell_type": "markdown",
   "metadata": {},
   "source": [
    "Now, when we run the program in this trace, we find that the score of the trace tells us how well the trace matches the constraints."
   ]
  },
  {
   "cell_type": "code",
   "execution_count": 22,
   "metadata": {},
   "outputs": [
    {
     "data": {
      "text/html": [
       "    <div id=\"id_801a870cee3a4aed99d27c505a23328d\"></div>\n",
       "    <script>\n",
       "        var d3 = require(\"nbextensions/d3/d3.min\");\n",
       "    \n",
       "        var svg = d3.select(\"#id_801a870cee3a4aed99d27c505a23328d\").append(\"svg\")\n",
       "            .attr(\"width\", 900)\n",
       "            .attr(\"height\", 450);\n",
       "    \n",
       "        // TODO delete me\n",
       "        svg.append(\"rect\")\n",
       "            .attr(\"x\", 0)\n",
       "            .attr(\"y\", 0)\n",
       "            .attr(\"width\", \"100%\")\n",
       "            .attr(\"height\", \"100%\")\n",
       "            .style(\"stroke\", \"white\")\n",
       "            .style(\"fill\", \"white\");\n",
       "    \n",
       "        var tile_width = 900 / 6;\n",
       "        var tile_height = 450 / 3;\n",
       "        var i = 1;\n",
       "        for (var row=0; row<3; row++) {\n",
       "            for (var col=0; col<6; col++) {\n",
       "                var sub_svg = svg.append(\"svg\")\n",
       "                    .classed(\"subfigure\", true)\n",
       "\t\t\t        .attr(\"id\", \"id_801a870cee3a4aed99d27c505a23328d_parent\" + i)\n",
       "                    .attr(\"x\", col * tile_width)\n",
       "                    .attr(\"y\", row * tile_height)\n",
       "                    .attr(\"width\", tile_width)\n",
       "                    .attr(\"height\", tile_height);\n",
       "                var inner_svg = sub_svg.append(\"svg\")\n",
       "                    .attr(\"x\", 0.0)\n",
       "                    .attr(\"y\", 0.0)\n",
       "                    .attr(\"width\", tile_width - 0.0 - 0.0)\n",
       "                    .attr(\"height\", tile_height - 0.0 - 0.0);\n",
       "                var frame = inner_svg.append(\"svg\")\n",
       "\t\t\t        .attr(\"id\", \"id_801a870cee3a4aed99d27c505a23328d_frame\" + i)\n",
       "                    //.attr(\"preserveAspectRatio\", \"none\")\n",
       "                    .attr(\"viewBox\", \"0.0 0.0 100 100\");\n",
       "                i += 1;\n",
       "            }\n",
       "        }\n",
       "    "
      ],
      "text/plain": [
       "HTML{String}(\"    <div id=\\\"id_801a870cee3a4aed99d27c505a23328d\\\"></div>\\n    <script>\\n        var d3 = require(\\\"nbextensions/d3/d3.min\\\");\\n    \\n        var svg = d3.select(\\\"#id_801a870cee3a4aed99d27c505a23328d\\\").append(\\\"svg\\\")\\n            .attr(\\\"width\\\", 900)\\n            .attr(\\\"height\\\", 450);\\n    \\n        // TODO delete me\\n        svg.append(\\\"rect\\\")\\n            .attr(\\\"x\\\", 0)\\n            .attr(\\\"y\\\", 0)\\n            .attr(\\\"width\\\", \\\"100%\\\")\\n            .attr(\\\"height\\\", \\\"100%\\\")\\n            .style(\\\"stroke\\\", \\\"white\\\")\\n            .style(\\\"fill\\\", \\\"white\\\");\\n    \\n        var tile_width = 900 / 6;\\n        var tile_height = 450 / 3;\\n        var i = 1;\\n        for (var row=0; row<3; row++) {\\n            for (var col=0; col<6; col++) {\\n                var sub_svg = svg.append(\\\"svg\\\")\\n                    .classed(\\\"subfigure\\\", true)\\n\\t\\t\\t        .attr(\\\"id\\\", \\\"id_801a870cee3a4aed99d27c505a23328d_parent\\\" + i)\\n                    .attr(\\\"x\\\", col * tile_width)\\n                    .attr(\\\"y\\\", row * tile_height)\\n                    .attr(\\\"width\\\", tile_width)\\n                    .attr(\\\"height\\\", tile_height);\\n                var inner_svg = sub_svg.append(\\\"svg\\\")\\n                    .attr(\\\"x\\\", 0.0)\\n                    .attr(\\\"y\\\", 0.0)\\n                    .attr(\\\"width\\\", tile_width - 0.0 - 0.0)\\n                    .attr(\\\"height\\\", tile_height - 0.0 - 0.0);\\n                var frame = inner_svg.append(\\\"svg\\\")\\n\\t\\t\\t        .attr(\\\"id\\\", \\\"id_801a870cee3a4aed99d27c505a23328d_frame\\\" + i)\\n                    //.attr(\\\"preserveAspectRatio\\\", \\\"none\\\")\\n                    .attr(\\\"viewBox\\\", \\\"0.0 0.0 100 100\\\");\\n                i += 1;\\n            }\\n        }\\n    \")"
      ]
     },
     "execution_count": 22,
     "metadata": {},
     "output_type": "execute_result"
    }
   ],
   "source": [
    "figure = Figure(num_rows=3, num_cols=6, width=900, height=450, trace_width=100, trace_height=100)\n",
    "here(figure)"
   ]
  },
  {
   "cell_type": "code",
   "execution_count": 23,
   "metadata": {
    "collapsed": true
   },
   "outputs": [],
   "source": [
    "renderer = JupyterInlineRenderer(\"agent_model_renderer\", Dict(\"mode\" => \"overlay\",\n",
    "                                                              \"show_path\" => true,\n",
    "                                                              \"show_score\" => true))\n",
    "for i=1:30\n",
    "    t = deepcopy(trace)\n",
    "    @generate(t, agent_model())\n",
    "    attach(renderer, (figure => i))\n",
    "    render(renderer, t)\n",
    "end"
   ]
  },
  {
   "cell_type": "markdown",
   "metadata": {},
   "source": [
    "### Importance sampling"
   ]
  },
  {
   "cell_type": "markdown",
   "metadata": {},
   "source": [
    "We can use this score to filter out traces that don't match well with the observations. Specifically, we can sample a large number of traces, and pick one in proportion to the exponential of its score. We can then repreat this whole process a number of times."
   ]
  },
  {
   "cell_type": "code",
   "execution_count": 24,
   "metadata": {},
   "outputs": [
    {
     "data": {
      "text/plain": [
       "agent_model_importance_sampling (generic function with 1 method)"
      ]
     },
     "execution_count": 24,
     "metadata": {},
     "output_type": "execute_result"
    }
   ],
   "source": [
    "function agent_model_importance_sampling(trace::Trace, num_samples::Int)\n",
    "    # the input trace contains constraints for the observed data\n",
    "    traces = Vector{Trace}(num_samples)\n",
    "    scores = Vector{Float64}(num_samples)\n",
    "    for k=1:num_samples\n",
    "        t = deepcopy(trace)\n",
    "        @generate(t, agent_model())\n",
    "        scores[k] = score(t)\n",
    "        traces[k] = t\n",
    "    end\n",
    "    weights = exp(scores - logsumexp(scores))\n",
    "    weights = weights / sum(weights)\n",
    "    chosen = rand(Categorical(weights))\n",
    "    return traces[chosen]\n",
    "end"
   ]
  },
  {
   "cell_type": "code",
   "execution_count": 59,
   "metadata": {
    "scrolled": false
   },
   "outputs": [
    {
     "data": {
      "text/html": [
       "    <div id=\"id_67e3dbbbb8a642f6953692154f050b85\"></div>\n",
       "    <script>\n",
       "        var d3 = require(\"nbextensions/d3/d3.min\");\n",
       "    \n",
       "        var svg = d3.select(\"#id_67e3dbbbb8a642f6953692154f050b85\").append(\"svg\")\n",
       "            .attr(\"width\", 900)\n",
       "            .attr(\"height\", 200);\n",
       "    \n",
       "        // TODO delete me\n",
       "        svg.append(\"rect\")\n",
       "            .attr(\"x\", 0)\n",
       "            .attr(\"y\", 0)\n",
       "            .attr(\"width\", \"100%\")\n",
       "            .attr(\"height\", \"100%\")\n",
       "            .style(\"stroke\", \"white\")\n",
       "            .style(\"fill\", \"white\");\n",
       "    \n",
       "        var tile_width = 900 / 5;\n",
       "        var tile_height = 200 / 1;\n",
       "        var i = 1;\n",
       "        for (var row=0; row<1; row++) {\n",
       "            for (var col=0; col<5; col++) {\n",
       "                var sub_svg = svg.append(\"svg\")\n",
       "                    .classed(\"subfigure\", true)\n",
       "\t\t\t        .attr(\"id\", \"id_67e3dbbbb8a642f6953692154f050b85_parent\" + i)\n",
       "                    .attr(\"x\", col * tile_width)\n",
       "                    .attr(\"y\", row * tile_height)\n",
       "                    .attr(\"width\", tile_width)\n",
       "                    .attr(\"height\", tile_height);\n",
       "                var inner_svg = sub_svg.append(\"svg\")\n",
       "                    .attr(\"x\", 0.0)\n",
       "                    .attr(\"y\", 20)\n",
       "                    .attr(\"width\", tile_width - 0.0 - 0.0)\n",
       "                    .attr(\"height\", tile_height - 20 - 0.0);\n",
       "                var frame = inner_svg.append(\"svg\")\n",
       "\t\t\t        .attr(\"id\", \"id_67e3dbbbb8a642f6953692154f050b85_frame\" + i)\n",
       "                    //.attr(\"preserveAspectRatio\", \"none\")\n",
       "                    .attr(\"viewBox\", \"0.0 0.0 100 100\");\n",
       "                i += 1;\n",
       "            }\n",
       "        }\n",
       "    \n",
       "var parent = d3.select(\"#id_67e3dbbbb8a642f6953692154f050b85_parent\" + 1)\n",
       "parent.append(\"text\")\n",
       "            .attr(\"x\", tile_width / 2)\n",
       "            .attr(\"y\", 16)\n",
       "            .attr(\"text-anchor\", \"middle\")\n",
       "            .text(\"SIR (1 samples)\")\n",
       "            .style(\"font-size\", 16);\n",
       "var parent = d3.select(\"#id_67e3dbbbb8a642f6953692154f050b85_parent\" + 2)\n",
       "parent.append(\"text\")\n",
       "            .attr(\"x\", tile_width / 2)\n",
       "            .attr(\"y\", 16)\n",
       "            .attr(\"text-anchor\", \"middle\")\n",
       "            .text(\"SIR (2 samples)\")\n",
       "            .style(\"font-size\", 16);\n",
       "var parent = d3.select(\"#id_67e3dbbbb8a642f6953692154f050b85_parent\" + 3)\n",
       "parent.append(\"text\")\n",
       "            .attr(\"x\", tile_width / 2)\n",
       "            .attr(\"y\", 16)\n",
       "            .attr(\"text-anchor\", \"middle\")\n",
       "            .text(\"SIR (4 samples)\")\n",
       "            .style(\"font-size\", 16);\n",
       "var parent = d3.select(\"#id_67e3dbbbb8a642f6953692154f050b85_parent\" + 4)\n",
       "parent.append(\"text\")\n",
       "            .attr(\"x\", tile_width / 2)\n",
       "            .attr(\"y\", 16)\n",
       "            .attr(\"text-anchor\", \"middle\")\n",
       "            .text(\"SIR (8 samples)\")\n",
       "            .style(\"font-size\", 16);\n",
       "var parent = d3.select(\"#id_67e3dbbbb8a642f6953692154f050b85_parent\" + 5)\n",
       "parent.append(\"text\")\n",
       "            .attr(\"x\", tile_width / 2)\n",
       "            .attr(\"y\", 16)\n",
       "            .attr(\"text-anchor\", \"middle\")\n",
       "            .text(\"SIR (16 samples)\")\n",
       "            .style(\"font-size\", 16);"
      ],
      "text/plain": [
       "HTML{String}(\"    <div id=\\\"id_67e3dbbbb8a642f6953692154f050b85\\\"></div>\\n    <script>\\n        var d3 = require(\\\"nbextensions/d3/d3.min\\\");\\n    \\n        var svg = d3.select(\\\"#id_67e3dbbbb8a642f6953692154f050b85\\\").append(\\\"svg\\\")\\n            .attr(\\\"width\\\", 900)\\n            .attr(\\\"height\\\", 200);\\n    \\n        // TODO delete me\\n        svg.append(\\\"rect\\\")\\n            .attr(\\\"x\\\", 0)\\n            .attr(\\\"y\\\", 0)\\n            .attr(\\\"width\\\", \\\"100%\\\")\\n            .attr(\\\"height\\\", \\\"100%\\\")\\n            .style(\\\"stroke\\\", \\\"white\\\")\\n            .style(\\\"fill\\\", \\\"white\\\");\\n    \\n        var tile_width = 900 / 5;\\n        var tile_height = 200 / 1;\\n        var i = 1;\\n        for (var row=0; row<1; row++) {\\n            for (var col=0; col<5; col++) {\\n                var sub_svg = svg.append(\\\"svg\\\")\\n                    .classed(\\\"subfigure\\\", true)\\n\\t\\t\\t        .attr(\\\"id\\\", \\\"id_67e3dbbbb8a642f6953692154f050b85_parent\\\" + i)\\n                    .attr(\\\"x\\\", col * tile_width)\\n                    .attr(\\\"y\\\", row * tile_height)\\n                    .attr(\\\"width\\\", tile_width)\\n                    .attr(\\\"height\\\", tile_height);\\n                var inner_svg = sub_svg.append(\\\"svg\\\")\\n                    .attr(\\\"x\\\", 0.0)\\n                    .attr(\\\"y\\\", 20)\\n                    .attr(\\\"width\\\", tile_width - 0.0 - 0.0)\\n                    .attr(\\\"height\\\", tile_height - 20 - 0.0);\\n                var frame = inner_svg.append(\\\"svg\\\")\\n\\t\\t\\t        .attr(\\\"id\\\", \\\"id_67e3dbbbb8a642f6953692154f050b85_frame\\\" + i)\\n                    //.attr(\\\"preserveAspectRatio\\\", \\\"none\\\")\\n                    .attr(\\\"viewBox\\\", \\\"0.0 0.0 100 100\\\");\\n                i += 1;\\n            }\\n        }\\n    \\nvar parent = d3.select(\\\"#id_67e3dbbbb8a642f6953692154f050b85_parent\\\" + 1)\\nparent.append(\\\"text\\\")\\n            .attr(\\\"x\\\", tile_width / 2)\\n            .attr(\\\"y\\\", 16)\\n            .attr(\\\"text-anchor\\\", \\\"middle\\\")\\n            .text(\\\"SIR (1 samples)\\\")\\n            .style(\\\"font-size\\\", 16);\\nvar parent = d3.select(\\\"#id_67e3dbbbb8a642f6953692154f050b85_parent\\\" + 2)\\nparent.append(\\\"text\\\")\\n            .attr(\\\"x\\\", tile_width / 2)\\n            .attr(\\\"y\\\", 16)\\n            .attr(\\\"text-anchor\\\", \\\"middle\\\")\\n            .text(\\\"SIR (2 samples)\\\")\\n            .style(\\\"font-size\\\", 16);\\nvar parent = d3.select(\\\"#id_67e3dbbbb8a642f6953692154f050b85_parent\\\" + 3)\\nparent.append(\\\"text\\\")\\n            .attr(\\\"x\\\", tile_width / 2)\\n            .attr(\\\"y\\\", 16)\\n            .attr(\\\"text-anchor\\\", \\\"middle\\\")\\n            .text(\\\"SIR (4 samples)\\\")\\n            .style(\\\"font-size\\\", 16);\\nvar parent = d3.select(\\\"#id_67e3dbbbb8a642f6953692154f050b85_parent\\\" + 4)\\nparent.append(\\\"text\\\")\\n            .attr(\\\"x\\\", tile_width / 2)\\n            .attr(\\\"y\\\", 16)\\n            .attr(\\\"text-anchor\\\", \\\"middle\\\")\\n            .text(\\\"SIR (8 samples)\\\")\\n            .style(\\\"font-size\\\", 16);\\nvar parent = d3.select(\\\"#id_67e3dbbbb8a642f6953692154f050b85_parent\\\" + 5)\\nparent.append(\\\"text\\\")\\n            .attr(\\\"x\\\", tile_width / 2)\\n            .attr(\\\"y\\\", 16)\\n            .attr(\\\"text-anchor\\\", \\\"middle\\\")\\n            .text(\\\"SIR (16 samples)\\\")\\n            .style(\\\"font-size\\\", 16);\")"
      ]
     },
     "execution_count": 59,
     "metadata": {},
     "output_type": "execute_result"
    }
   ],
   "source": [
    "num_samples_list = [1, 2, 4, 8, 16]\n",
    "figure = Figure(num_rows=1, num_cols=5, width=900, height=200, trace_width=100, trace_height=100, margin_top=20,\n",
    "                titles=map((n) -> \"SIR ($n samples)\", num_samples_list))\n",
    "here(figure)"
   ]
  },
  {
   "cell_type": "code",
   "execution_count": 60,
   "metadata": {},
   "outputs": [
    {
     "name": "stdout",
     "output_type": "stream",
     "text": [
      "SIR (1 particles)\n",
      "SIR (2 particles)\n",
      "SIR (4 particles)\n",
      "SIR (8 particles)\n",
      "SIR (16 particles)\n"
     ]
    }
   ],
   "source": [
    "renderer = JupyterInlineRenderer(\"agent_model_renderer\", Dict(\"mode\" => \"overlay\", \"show_path\" => false,\n",
    "                                                              \"show_score\" => false))\n",
    "num_approximate_samples = 30\n",
    "trace = Trace()\n",
    "intervene!(trace, \"start\", Point(10, 10))\n",
    "for (i, point) in enumerate(points)\n",
    "    constrain!(trace, \"x$i\", point.x)\n",
    "    constrain!(trace, \"y$i\", point.y)\n",
    "end\n",
    "for (i, num_samples) in enumerate(num_samples_list)\n",
    "    attach(renderer, (figure => i))\n",
    "    title =  \"SIR ($num_samples particles)\"\n",
    "    println(title)\n",
    "    for j=1:num_approximate_samples\n",
    "        output_trace = agent_model_importance_sampling(trace, num_samples)\n",
    "        render(renderer, output_trace)\n",
    "    end\n",
    "end"
   ]
  },
  {
   "cell_type": "markdown",
   "metadata": {},
   "source": [
    "### Metropolis-Hastings Inference"
   ]
  },
  {
   "cell_type": "code",
   "execution_count": 69,
   "metadata": {
    "scrolled": false
   },
   "outputs": [
    {
     "data": {
      "text/html": [
       "    <div id=\"id_43b1a93b79fe48eca43fe6ea76655e3f\"></div>\n",
       "    <script>\n",
       "        var d3 = require(\"nbextensions/d3/d3.min\");\n",
       "    \n",
       "        var svg = d3.select(\"#id_43b1a93b79fe48eca43fe6ea76655e3f\").append(\"svg\")\n",
       "            .attr(\"width\", 400)\n",
       "            .attr(\"height\", 200);\n",
       "    \n",
       "        // TODO delete me\n",
       "        svg.append(\"rect\")\n",
       "            .attr(\"x\", 0)\n",
       "            .attr(\"y\", 0)\n",
       "            .attr(\"width\", \"100%\")\n",
       "            .attr(\"height\", \"100%\")\n",
       "            .style(\"stroke\", \"white\")\n",
       "            .style(\"fill\", \"white\");\n",
       "    \n",
       "        var tile_width = 400 / 2;\n",
       "        var tile_height = 200 / 1;\n",
       "        var i = 1;\n",
       "        for (var row=0; row<1; row++) {\n",
       "            for (var col=0; col<2; col++) {\n",
       "                var sub_svg = svg.append(\"svg\")\n",
       "                    .classed(\"subfigure\", true)\n",
       "\t\t\t        .attr(\"id\", \"id_43b1a93b79fe48eca43fe6ea76655e3f_parent\" + i)\n",
       "                    .attr(\"x\", col * tile_width)\n",
       "                    .attr(\"y\", row * tile_height)\n",
       "                    .attr(\"width\", tile_width)\n",
       "                    .attr(\"height\", tile_height);\n",
       "                var inner_svg = sub_svg.append(\"svg\")\n",
       "                    .attr(\"x\", 0.0)\n",
       "                    .attr(\"y\", 20)\n",
       "                    .attr(\"width\", tile_width - 0.0 - 0.0)\n",
       "                    .attr(\"height\", tile_height - 20 - 0.0);\n",
       "                var frame = inner_svg.append(\"svg\")\n",
       "\t\t\t        .attr(\"id\", \"id_43b1a93b79fe48eca43fe6ea76655e3f_frame\" + i)\n",
       "                    //.attr(\"preserveAspectRatio\", \"none\")\n",
       "                    .attr(\"viewBox\", \"0.0 0.0 100 100\");\n",
       "                i += 1;\n",
       "            }\n",
       "        }\n",
       "    \n",
       "var parent = d3.select(\"#id_43b1a93b79fe48eca43fe6ea76655e3f_parent\" + 1)\n",
       "parent.append(\"text\")\n",
       "            .attr(\"x\", tile_width / 2)\n",
       "            .attr(\"y\", 16)\n",
       "            .attr(\"text-anchor\", \"middle\")\n",
       "            .text(\"proposed trace\")\n",
       "            .style(\"font-size\", 16);\n",
       "var parent = d3.select(\"#id_43b1a93b79fe48eca43fe6ea76655e3f_parent\" + 2)\n",
       "parent.append(\"text\")\n",
       "            .attr(\"x\", tile_width / 2)\n",
       "            .attr(\"y\", 16)\n",
       "            .attr(\"text-anchor\", \"middle\")\n",
       "            .text(\"current trace\")\n",
       "            .style(\"font-size\", 16);"
      ],
      "text/plain": [
       "HTML{String}(\"    <div id=\\\"id_43b1a93b79fe48eca43fe6ea76655e3f\\\"></div>\\n    <script>\\n        var d3 = require(\\\"nbextensions/d3/d3.min\\\");\\n    \\n        var svg = d3.select(\\\"#id_43b1a93b79fe48eca43fe6ea76655e3f\\\").append(\\\"svg\\\")\\n            .attr(\\\"width\\\", 400)\\n            .attr(\\\"height\\\", 200);\\n    \\n        // TODO delete me\\n        svg.append(\\\"rect\\\")\\n            .attr(\\\"x\\\", 0)\\n            .attr(\\\"y\\\", 0)\\n            .attr(\\\"width\\\", \\\"100%\\\")\\n            .attr(\\\"height\\\", \\\"100%\\\")\\n            .style(\\\"stroke\\\", \\\"white\\\")\\n            .style(\\\"fill\\\", \\\"white\\\");\\n    \\n        var tile_width = 400 / 2;\\n        var tile_height = 200 / 1;\\n        var i = 1;\\n        for (var row=0; row<1; row++) {\\n            for (var col=0; col<2; col++) {\\n                var sub_svg = svg.append(\\\"svg\\\")\\n                    .classed(\\\"subfigure\\\", true)\\n\\t\\t\\t        .attr(\\\"id\\\", \\\"id_43b1a93b79fe48eca43fe6ea76655e3f_parent\\\" + i)\\n                    .attr(\\\"x\\\", col * tile_width)\\n                    .attr(\\\"y\\\", row * tile_height)\\n                    .attr(\\\"width\\\", tile_width)\\n                    .attr(\\\"height\\\", tile_height);\\n                var inner_svg = sub_svg.append(\\\"svg\\\")\\n                    .attr(\\\"x\\\", 0.0)\\n                    .attr(\\\"y\\\", 20)\\n                    .attr(\\\"width\\\", tile_width - 0.0 - 0.0)\\n                    .attr(\\\"height\\\", tile_height - 20 - 0.0);\\n                var frame = inner_svg.append(\\\"svg\\\")\\n\\t\\t\\t        .attr(\\\"id\\\", \\\"id_43b1a93b79fe48eca43fe6ea76655e3f_frame\\\" + i)\\n                    //.attr(\\\"preserveAspectRatio\\\", \\\"none\\\")\\n                    .attr(\\\"viewBox\\\", \\\"0.0 0.0 100 100\\\");\\n                i += 1;\\n            }\\n        }\\n    \\nvar parent = d3.select(\\\"#id_43b1a93b79fe48eca43fe6ea76655e3f_parent\\\" + 1)\\nparent.append(\\\"text\\\")\\n            .attr(\\\"x\\\", tile_width / 2)\\n            .attr(\\\"y\\\", 16)\\n            .attr(\\\"text-anchor\\\", \\\"middle\\\")\\n            .text(\\\"proposed trace\\\")\\n            .style(\\\"font-size\\\", 16);\\nvar parent = d3.select(\\\"#id_43b1a93b79fe48eca43fe6ea76655e3f_parent\\\" + 2)\\nparent.append(\\\"text\\\")\\n            .attr(\\\"x\\\", tile_width / 2)\\n            .attr(\\\"y\\\", 16)\\n            .attr(\\\"text-anchor\\\", \\\"middle\\\")\\n            .text(\\\"current trace\\\")\\n            .style(\\\"font-size\\\", 16);\")"
      ]
     },
     "execution_count": 69,
     "metadata": {},
     "output_type": "execute_result"
    }
   ],
   "source": [
    "renderer = JupyterInlineRenderer(\"agent_model_renderer\", Dict(\"mode\" => \"overwrite\",\n",
    "                                                              \"show_path\" => true,\n",
    "                                                              \"show_score\" => true))\n",
    "figure = Figure(num_rows=1, num_cols=2, width=400, height=200, trace_width=100, trace_height=100,\n",
    "                margin_top=20, titles=[\"proposed trace\", \"current trace\"])\n",
    "here(figure)"
   ]
  },
  {
   "cell_type": "code",
   "execution_count": 70,
   "metadata": {},
   "outputs": [],
   "source": [
    "current_trace = Trace()\n",
    "intervene!(current_trace, \"start\", Point(10, 10))\n",
    "for (i, point) in enumerate(points)\n",
    "    constrain!(current_trace, \"x$i\", point.x)\n",
    "    constrain!(current_trace, \"y$i\", point.y)\n",
    "end\n",
    "@generate(current_trace, agent_model())\n",
    "current_score = score(current_trace)\n",
    "for i=1:100\n",
    "    proposed_trace = deepcopy(current_trace)\n",
    "    @generate(proposed_trace, agent_model())\n",
    "    proposed_score = score(proposed_trace)\n",
    "    if log(rand()) < proposed_score - current_score\n",
    "        current_trace = proposed_trace\n",
    "        current_score = proposed_score\n",
    "    end\n",
    "    attach(renderer, figure => 1)\n",
    "    render(renderer, proposed_trace)\n",
    "    attach(renderer, figure => 2)\n",
    "    render(renderer, current_trace)\n",
    "   # sleep(0.1)\n",
    "end"
   ]
  },
  {
   "cell_type": "markdown",
   "metadata": {},
   "source": [
    "# 4. Improving the model\n",
    "\n",
    "Our model above made a lot of assumptions that are unlikely to hold in the real world. For example, the agent always takes pretty direct paths from its starting location to its final destination. What if the agent is more unpredictable? What if it takes detours?"
   ]
  },
  {
   "cell_type": "markdown",
   "metadata": {},
   "source": [
    "Here is a dataset that does not match our model's expectations."
   ]
  },
  {
   "cell_type": "code",
   "execution_count": 33,
   "metadata": {
    "collapsed": true
   },
   "outputs": [],
   "source": [
    "xs = [9.59825,21.8936,30.9534,43.1137,48.8929,46.0282,35.0281,27.2084,20.1662,18.7309]\n",
    "ys = [8.92063,9.54817,10.8819,9.75395,10.4189,21.7662,25.9994,33.5729,39.9398,50.0026];"
   ]
  },
  {
   "cell_type": "code",
   "execution_count": 31,
   "metadata": {},
   "outputs": [
    {
     "data": {
      "text/html": [
       "    <div id=\"id_6c26da9c00934e09b7ceba53fec44a18\"></div>\n",
       "    <script>\n",
       "        var d3 = require(\"nbextensions/d3/d3.min\");\n",
       "    \n",
       "        var svg = d3.select(\"#id_6c26da9c00934e09b7ceba53fec44a18\").append(\"svg\")\n",
       "            .attr(\"width\", 200)\n",
       "            .attr(\"height\", 200);\n",
       "    \n",
       "        // TODO delete me\n",
       "        svg.append(\"rect\")\n",
       "            .attr(\"x\", 0)\n",
       "            .attr(\"y\", 0)\n",
       "            .attr(\"width\", \"100%\")\n",
       "            .attr(\"height\", \"100%\")\n",
       "            .style(\"stroke\", \"white\")\n",
       "            .style(\"fill\", \"white\");\n",
       "    \n",
       "        var tile_width = 200 / 1;\n",
       "        var tile_height = 200 / 1;\n",
       "        var i = 1;\n",
       "        for (var row=0; row<1; row++) {\n",
       "            for (var col=0; col<1; col++) {\n",
       "                var sub_svg = svg.append(\"svg\")\n",
       "                    .classed(\"subfigure\", true)\n",
       "\t\t\t        .attr(\"id\", \"id_6c26da9c00934e09b7ceba53fec44a18_parent\" + i)\n",
       "                    .attr(\"x\", col * tile_width)\n",
       "                    .attr(\"y\", row * tile_height)\n",
       "                    .attr(\"width\", tile_width)\n",
       "                    .attr(\"height\", tile_height);\n",
       "                var inner_svg = sub_svg.append(\"svg\")\n",
       "                    .attr(\"x\", 0.0)\n",
       "                    .attr(\"y\", 0.0)\n",
       "                    .attr(\"width\", tile_width - 0.0 - 0.0)\n",
       "                    .attr(\"height\", tile_height - 0.0 - 0.0);\n",
       "                var frame = inner_svg.append(\"svg\")\n",
       "\t\t\t        .attr(\"id\", \"id_6c26da9c00934e09b7ceba53fec44a18_frame\" + i)\n",
       "                    //.attr(\"preserveAspectRatio\", \"none\")\n",
       "                    .attr(\"viewBox\", \"0.0 0.0 100 100\");\n",
       "                i += 1;\n",
       "            }\n",
       "        }\n",
       "    "
      ],
      "text/plain": [
       "HTML{String}(\"    <div id=\\\"id_6c26da9c00934e09b7ceba53fec44a18\\\"></div>\\n    <script>\\n        var d3 = require(\\\"nbextensions/d3/d3.min\\\");\\n    \\n        var svg = d3.select(\\\"#id_6c26da9c00934e09b7ceba53fec44a18\\\").append(\\\"svg\\\")\\n            .attr(\\\"width\\\", 200)\\n            .attr(\\\"height\\\", 200);\\n    \\n        // TODO delete me\\n        svg.append(\\\"rect\\\")\\n            .attr(\\\"x\\\", 0)\\n            .attr(\\\"y\\\", 0)\\n            .attr(\\\"width\\\", \\\"100%\\\")\\n            .attr(\\\"height\\\", \\\"100%\\\")\\n            .style(\\\"stroke\\\", \\\"white\\\")\\n            .style(\\\"fill\\\", \\\"white\\\");\\n    \\n        var tile_width = 200 / 1;\\n        var tile_height = 200 / 1;\\n        var i = 1;\\n        for (var row=0; row<1; row++) {\\n            for (var col=0; col<1; col++) {\\n                var sub_svg = svg.append(\\\"svg\\\")\\n                    .classed(\\\"subfigure\\\", true)\\n\\t\\t\\t        .attr(\\\"id\\\", \\\"id_6c26da9c00934e09b7ceba53fec44a18_parent\\\" + i)\\n                    .attr(\\\"x\\\", col * tile_width)\\n                    .attr(\\\"y\\\", row * tile_height)\\n                    .attr(\\\"width\\\", tile_width)\\n                    .attr(\\\"height\\\", tile_height);\\n                var inner_svg = sub_svg.append(\\\"svg\\\")\\n                    .attr(\\\"x\\\", 0.0)\\n                    .attr(\\\"y\\\", 0.0)\\n                    .attr(\\\"width\\\", tile_width - 0.0 - 0.0)\\n                    .attr(\\\"height\\\", tile_height - 0.0 - 0.0);\\n                var frame = inner_svg.append(\\\"svg\\\")\\n\\t\\t\\t        .attr(\\\"id\\\", \\\"id_6c26da9c00934e09b7ceba53fec44a18_frame\\\" + i)\\n                    //.attr(\\\"preserveAspectRatio\\\", \\\"none\\\")\\n                    .attr(\\\"viewBox\\\", \\\"0.0 0.0 100 100\\\");\\n                i += 1;\\n            }\\n        }\\n    \")"
      ]
     },
     "execution_count": 31,
     "metadata": {},
     "output_type": "execute_result"
    }
   ],
   "source": [
    "figure = Figure(width=200, height=200, trace_width=100, trace_height=100)\n",
    "here(figure)"
   ]
  },
  {
   "cell_type": "code",
   "execution_count": 35,
   "metadata": {},
   "outputs": [],
   "source": [
    "renderer = JupyterInlineRenderer(\"agent_model_renderer\", Dict(\"mode\" => \"overwrite\",\n",
    "                                                              \"show_path\" => true,\n",
    "                                                              \"show_score\" => false))\n",
    "attach(renderer, figure)\n",
    "trace = Trace()\n",
    "intervene!(trace, \"start\", Point(10, 10))\n",
    "for (i, (x, y)) in enumerate(zip(xs, ys))\n",
    "    constrain!(trace, \"x$i\", x)\n",
    "    constrain!(trace, \"y$i\", y)\n",
    "end\n",
    "@generate(trace, agent_model())\n",
    "delete!(trace, \"start\")\n",
    "delete!(trace, \"destination\")\n",
    "# TODO: only show the consrained data (not the other points on a randomly sampled path)\n",
    "render(renderer, trace)"
   ]
  },
  {
   "cell_type": "markdown",
   "metadata": {},
   "source": [
    " Let's see what happens when we try to do probabilistic inference in our model, given this data."
   ]
  },
  {
   "cell_type": "code",
   "execution_count": 67,
   "metadata": {
    "scrolled": false
   },
   "outputs": [
    {
     "data": {
      "text/html": [
       "    <div id=\"id_86bead1eb812445e8d3aab58d77c9826\"></div>\n",
       "    <script>\n",
       "        var d3 = require(\"nbextensions/d3/d3.min\");\n",
       "    \n",
       "        var svg = d3.select(\"#id_86bead1eb812445e8d3aab58d77c9826\").append(\"svg\")\n",
       "            .attr(\"width\", 900)\n",
       "            .attr(\"height\", 200);\n",
       "    \n",
       "        // TODO delete me\n",
       "        svg.append(\"rect\")\n",
       "            .attr(\"x\", 0)\n",
       "            .attr(\"y\", 0)\n",
       "            .attr(\"width\", \"100%\")\n",
       "            .attr(\"height\", \"100%\")\n",
       "            .style(\"stroke\", \"white\")\n",
       "            .style(\"fill\", \"white\");\n",
       "    \n",
       "        var tile_width = 900 / 5;\n",
       "        var tile_height = 200 / 1;\n",
       "        var i = 1;\n",
       "        for (var row=0; row<1; row++) {\n",
       "            for (var col=0; col<5; col++) {\n",
       "                var sub_svg = svg.append(\"svg\")\n",
       "                    .classed(\"subfigure\", true)\n",
       "\t\t\t        .attr(\"id\", \"id_86bead1eb812445e8d3aab58d77c9826_parent\" + i)\n",
       "                    .attr(\"x\", col * tile_width)\n",
       "                    .attr(\"y\", row * tile_height)\n",
       "                    .attr(\"width\", tile_width)\n",
       "                    .attr(\"height\", tile_height);\n",
       "                var inner_svg = sub_svg.append(\"svg\")\n",
       "                    .attr(\"x\", 0.0)\n",
       "                    .attr(\"y\", 20)\n",
       "                    .attr(\"width\", tile_width - 0.0 - 0.0)\n",
       "                    .attr(\"height\", tile_height - 20 - 0.0);\n",
       "                var frame = inner_svg.append(\"svg\")\n",
       "\t\t\t        .attr(\"id\", \"id_86bead1eb812445e8d3aab58d77c9826_frame\" + i)\n",
       "                    //.attr(\"preserveAspectRatio\", \"none\")\n",
       "                    .attr(\"viewBox\", \"0.0 0.0 100 100\");\n",
       "                i += 1;\n",
       "            }\n",
       "        }\n",
       "    \n",
       "var parent = d3.select(\"#id_86bead1eb812445e8d3aab58d77c9826_parent\" + 1)\n",
       "parent.append(\"text\")\n",
       "            .attr(\"x\", tile_width / 2)\n",
       "            .attr(\"y\", 16)\n",
       "            .attr(\"text-anchor\", \"middle\")\n",
       "            .text(\"SIR (1 particles)\")\n",
       "            .style(\"font-size\", 16);\n",
       "var parent = d3.select(\"#id_86bead1eb812445e8d3aab58d77c9826_parent\" + 2)\n",
       "parent.append(\"text\")\n",
       "            .attr(\"x\", tile_width / 2)\n",
       "            .attr(\"y\", 16)\n",
       "            .attr(\"text-anchor\", \"middle\")\n",
       "            .text(\"SIR (2 particles)\")\n",
       "            .style(\"font-size\", 16);\n",
       "var parent = d3.select(\"#id_86bead1eb812445e8d3aab58d77c9826_parent\" + 3)\n",
       "parent.append(\"text\")\n",
       "            .attr(\"x\", tile_width / 2)\n",
       "            .attr(\"y\", 16)\n",
       "            .attr(\"text-anchor\", \"middle\")\n",
       "            .text(\"SIR (4 particles)\")\n",
       "            .style(\"font-size\", 16);\n",
       "var parent = d3.select(\"#id_86bead1eb812445e8d3aab58d77c9826_parent\" + 4)\n",
       "parent.append(\"text\")\n",
       "            .attr(\"x\", tile_width / 2)\n",
       "            .attr(\"y\", 16)\n",
       "            .attr(\"text-anchor\", \"middle\")\n",
       "            .text(\"SIR (8 particles)\")\n",
       "            .style(\"font-size\", 16);\n",
       "var parent = d3.select(\"#id_86bead1eb812445e8d3aab58d77c9826_parent\" + 5)\n",
       "parent.append(\"text\")\n",
       "            .attr(\"x\", tile_width / 2)\n",
       "            .attr(\"y\", 16)\n",
       "            .attr(\"text-anchor\", \"middle\")\n",
       "            .text(\"SIR (16 particles)\")\n",
       "            .style(\"font-size\", 16);"
      ],
      "text/plain": [
       "HTML{String}(\"    <div id=\\\"id_86bead1eb812445e8d3aab58d77c9826\\\"></div>\\n    <script>\\n        var d3 = require(\\\"nbextensions/d3/d3.min\\\");\\n    \\n        var svg = d3.select(\\\"#id_86bead1eb812445e8d3aab58d77c9826\\\").append(\\\"svg\\\")\\n            .attr(\\\"width\\\", 900)\\n            .attr(\\\"height\\\", 200);\\n    \\n        // TODO delete me\\n        svg.append(\\\"rect\\\")\\n            .attr(\\\"x\\\", 0)\\n            .attr(\\\"y\\\", 0)\\n            .attr(\\\"width\\\", \\\"100%\\\")\\n            .attr(\\\"height\\\", \\\"100%\\\")\\n            .style(\\\"stroke\\\", \\\"white\\\")\\n            .style(\\\"fill\\\", \\\"white\\\");\\n    \\n        var tile_width = 900 / 5;\\n        var tile_height = 200 / 1;\\n        var i = 1;\\n        for (var row=0; row<1; row++) {\\n            for (var col=0; col<5; col++) {\\n                var sub_svg = svg.append(\\\"svg\\\")\\n                    .classed(\\\"subfigure\\\", true)\\n\\t\\t\\t        .attr(\\\"id\\\", \\\"id_86bead1eb812445e8d3aab58d77c9826_parent\\\" + i)\\n                    .attr(\\\"x\\\", col * tile_width)\\n                    .attr(\\\"y\\\", row * tile_height)\\n                    .attr(\\\"width\\\", tile_width)\\n                    .attr(\\\"height\\\", tile_height);\\n                var inner_svg = sub_svg.append(\\\"svg\\\")\\n                    .attr(\\\"x\\\", 0.0)\\n                    .attr(\\\"y\\\", 20)\\n                    .attr(\\\"width\\\", tile_width - 0.0 - 0.0)\\n                    .attr(\\\"height\\\", tile_height - 20 - 0.0);\\n                var frame = inner_svg.append(\\\"svg\\\")\\n\\t\\t\\t        .attr(\\\"id\\\", \\\"id_86bead1eb812445e8d3aab58d77c9826_frame\\\" + i)\\n                    //.attr(\\\"preserveAspectRatio\\\", \\\"none\\\")\\n                    .attr(\\\"viewBox\\\", \\\"0.0 0.0 100 100\\\");\\n                i += 1;\\n            }\\n        }\\n    \\nvar parent = d3.select(\\\"#id_86bead1eb812445e8d3aab58d77c9826_parent\\\" + 1)\\nparent.append(\\\"text\\\")\\n            .attr(\\\"x\\\", tile_width / 2)\\n            .attr(\\\"y\\\", 16)\\n            .attr(\\\"text-anchor\\\", \\\"middle\\\")\\n            .text(\\\"SIR (1 particles)\\\")\\n            .style(\\\"font-size\\\", 16);\\nvar parent = d3.select(\\\"#id_86bead1eb812445e8d3aab58d77c9826_parent\\\" + 2)\\nparent.append(\\\"text\\\")\\n            .attr(\\\"x\\\", tile_width / 2)\\n            .attr(\\\"y\\\", 16)\\n            .attr(\\\"text-anchor\\\", \\\"middle\\\")\\n            .text(\\\"SIR (2 particles)\\\")\\n            .style(\\\"font-size\\\", 16);\\nvar parent = d3.select(\\\"#id_86bead1eb812445e8d3aab58d77c9826_parent\\\" + 3)\\nparent.append(\\\"text\\\")\\n            .attr(\\\"x\\\", tile_width / 2)\\n            .attr(\\\"y\\\", 16)\\n            .attr(\\\"text-anchor\\\", \\\"middle\\\")\\n            .text(\\\"SIR (4 particles)\\\")\\n            .style(\\\"font-size\\\", 16);\\nvar parent = d3.select(\\\"#id_86bead1eb812445e8d3aab58d77c9826_parent\\\" + 4)\\nparent.append(\\\"text\\\")\\n            .attr(\\\"x\\\", tile_width / 2)\\n            .attr(\\\"y\\\", 16)\\n            .attr(\\\"text-anchor\\\", \\\"middle\\\")\\n            .text(\\\"SIR (8 particles)\\\")\\n            .style(\\\"font-size\\\", 16);\\nvar parent = d3.select(\\\"#id_86bead1eb812445e8d3aab58d77c9826_parent\\\" + 5)\\nparent.append(\\\"text\\\")\\n            .attr(\\\"x\\\", tile_width / 2)\\n            .attr(\\\"y\\\", 16)\\n            .attr(\\\"text-anchor\\\", \\\"middle\\\")\\n            .text(\\\"SIR (16 particles)\\\")\\n            .style(\\\"font-size\\\", 16);\")"
      ]
     },
     "execution_count": 67,
     "metadata": {},
     "output_type": "execute_result"
    }
   ],
   "source": [
    "all_num_simulations = [1, 2, 4, 8, 16]#, 32, 64, 128]\n",
    "figure = Figure(num_rows=1, num_cols=5, width=900, height=200, trace_width=100, trace_height=100,\n",
    "                margin_top=20, titles=map((n) -> \"SIR ($n particles)\", all_num_simulations))\n",
    "here(figure)"
   ]
  },
  {
   "cell_type": "code",
   "execution_count": 68,
   "metadata": {},
   "outputs": [],
   "source": [
    "trace = Trace()\n",
    "intervene!(trace, \"start\", Point(10, 10))\n",
    "for (i, (x, y)) in enumerate(zip(xs, ys))\n",
    "    constrain!(trace, \"x$i\", x)\n",
    "    constrain!(trace, \"y$i\", y)\n",
    "end\n",
    "renderer = JupyterInlineRenderer(\"agent_model_renderer\", Dict(\"mode\" => \"overlay\",\n",
    "                                                              \"show_path\" => true,\n",
    "                                                              \"show_score\" => false))\n",
    "num_approximate_samples = 50\n",
    "for (i, num_simulations) in enumerate(all_num_simulations)\n",
    "    attach(renderer, figure => i)\n",
    "    for j=1:num_approximate_samples\n",
    "        traces = Vector{Trace}(num_simulations)\n",
    "        scores = Vector{Float64}(num_simulations)\n",
    "        for k=1:num_simulations\n",
    "            t = deepcopy(trace)\n",
    "            @generate(t, agent_model())\n",
    "            scores[k] = score(t)\n",
    "            traces[k] = t\n",
    "        end\n",
    "        weights = exp(scores - logsumexp(scores))\n",
    "        weights = weights / sum(weights)\n",
    "        chosen = rand(Categorical(weights))\n",
    "        render(renderer, traces[chosen])\n",
    "    end\n",
    "end"
   ]
  },
  {
   "cell_type": "markdown",
   "metadata": {},
   "source": [
    "The inferences do not look intuitive. This is because the model `agent_model` cannot explain the detour. It assumes that the detour must be the goal, an it explains the observed data as a very unlikely accident of noise. This is an example of model mis-specification.  In order to make reasonablee inferences for datasets that may contain a detour, we use an improved model program, shown below:"
   ]
  },
  {
   "cell_type": "code",
   "execution_count": 41,
   "metadata": {
    "collapsed": true
   },
   "outputs": [],
   "source": [
    "@program agent_waypoint_model() begin\n",
    "    \n",
    "    # assumed scene\n",
    "    scene = Scene(0, 100, 0, 100) # the scene spans the square [0, 100] x [0, 100]\n",
    "    add!(scene, Tree(Point(30, 20))) # place a tree at x=30, y=20\n",
    "    add!(scene, Tree(Point(83, 80)))\n",
    "    add!(scene, Tree(Point(80, 40)))\n",
    "    wall_height = 30.\n",
    "    add!(scene, Wall(Point(20., 40.), 1, 40., 2., wall_height))\n",
    "    add!(scene, Wall(Point(60., 40.), 2, 40., 2., wall_height))\n",
    "    add!(scene, Wall(Point(60.-15., 80.), 1, 15. + 2., 2., wall_height))\n",
    "    add!(scene, Wall(Point(20., 80.), 1, 15., 2., wall_height))\n",
    "    add!(scene, Wall(Point(20., 40.), 2, 40., 2., wall_height))    \n",
    "    \n",
    "    # time points at which we observe the agent's location\n",
    "    observation_times = collect(linspace(0.0, 200.0, 20)) ~ \"times\"\n",
    "    \n",
    "    # assumed speed of the agent\n",
    "    speed = 1.0\n",
    "    \n",
    "    # the starting location of the agent is a random point in the scene\n",
    "    start = Point(uniform(0, 100), uniform(0, 100)) ~ \"start\"\n",
    "    \n",
    "    # the destination of the agent is a random point in the scene\n",
    "    destination = Point(uniform(0, 100), uniform(0, 100)) ~ \"destination\"\n",
    "    \n",
    "    if (flip(0.5) ~ \"use-waypoint\")\n",
    "        waypoint = Point(uniform(0, 100) ~ \"waypoint-x\", uniform(0, 100) ~ \"waypoint-y\")\n",
    "        (tree1, rough_path1, final_path1) = plan_path(start, waypoint, scene)\n",
    "        (tree2, rough_path2, final_path2) = plan_path(waypoint, destination, scene)\n",
    "        \n",
    "        # if either path planner sub-problem failed, then no path was found (final_path is null)\n",
    "        if isnull(final_path1) || isnull(final_path2)\n",
    "            final_path = Nullable{Path}() # null\n",
    "        else\n",
    "            final_path = Nullable{Path}(concatenate(get(final_path1), get(final_path2)))\n",
    "        end\n",
    "    else\n",
    "        (tree, rough_path, final_path) = plan_path(start, destination, scene)\n",
    "    end\n",
    "    \n",
    "    # the path of the agent from its start location to its destination\n",
    "    # uses a simple 2D holonomic path planner based on RRT (path_planner.jl)\n",
    "    \n",
    "    if isnull(final_path)\n",
    "        \n",
    "        # the agent could not find a path to its destination\n",
    "        # assume it stays at the start location indefinitely\n",
    "        locations = [start for _ in observation_times]\n",
    "    else\n",
    "        \n",
    "        # the agent found a path to its destination\n",
    "        # assume it moves from the start to the destinatoin along the path at constnat speed\n",
    "        # sample its location along this path for each time in observation times\n",
    "        locations = walk_path(get(final_path), speed, observation_times)\n",
    "    end\n",
    "    \n",
    "    # assume that the observed locations are noisy measurements of the true locations\n",
    "    # assume the noise is normally distributed with standard deviation 'noise'\n",
    "    noise = 1.0\n",
    "    for (i, t) in enumerate(observation_times)\n",
    "        measured_x = normal(locations[i].x, noise) ~ \"x$i\"\n",
    "        measured_y = normal(locations[i].y, noise) ~ \"y$i\"\n",
    "    end\n",
    "    \n",
    "    # record other program state for rendering\n",
    "    scene ~ \"scene\"\n",
    "end;"
   ]
  },
  {
   "cell_type": "markdown",
   "metadata": {},
   "source": [
    "Here are some simulations from the program, for a fixed start and destination."
   ]
  },
  {
   "cell_type": "code",
   "execution_count": 43,
   "metadata": {},
   "outputs": [
    {
     "data": {
      "text/html": [
       "    <div id=\"id_3bfcc6e6b15043b8b6b11f9215a89301\"></div>\n",
       "    <script>\n",
       "        var d3 = require(\"nbextensions/d3/d3.min\");\n",
       "    \n",
       "        var svg = d3.select(\"#id_3bfcc6e6b15043b8b6b11f9215a89301\").append(\"svg\")\n",
       "            .attr(\"width\", 900)\n",
       "            .attr(\"height\", 450);\n",
       "    \n",
       "        // TODO delete me\n",
       "        svg.append(\"rect\")\n",
       "            .attr(\"x\", 0)\n",
       "            .attr(\"y\", 0)\n",
       "            .attr(\"width\", \"100%\")\n",
       "            .attr(\"height\", \"100%\")\n",
       "            .style(\"stroke\", \"white\")\n",
       "            .style(\"fill\", \"white\");\n",
       "    \n",
       "        var tile_width = 900 / 6;\n",
       "        var tile_height = 450 / 3;\n",
       "        var i = 1;\n",
       "        for (var row=0; row<3; row++) {\n",
       "            for (var col=0; col<6; col++) {\n",
       "                var sub_svg = svg.append(\"svg\")\n",
       "                    .classed(\"subfigure\", true)\n",
       "\t\t\t        .attr(\"id\", \"id_3bfcc6e6b15043b8b6b11f9215a89301_parent\" + i)\n",
       "                    .attr(\"x\", col * tile_width)\n",
       "                    .attr(\"y\", row * tile_height)\n",
       "                    .attr(\"width\", tile_width)\n",
       "                    .attr(\"height\", tile_height);\n",
       "                var inner_svg = sub_svg.append(\"svg\")\n",
       "                    .attr(\"x\", 0.0)\n",
       "                    .attr(\"y\", 0.0)\n",
       "                    .attr(\"width\", tile_width - 0.0 - 0.0)\n",
       "                    .attr(\"height\", tile_height - 0.0 - 0.0);\n",
       "                var frame = inner_svg.append(\"svg\")\n",
       "\t\t\t        .attr(\"id\", \"id_3bfcc6e6b15043b8b6b11f9215a89301_frame\" + i)\n",
       "                    //.attr(\"preserveAspectRatio\", \"none\")\n",
       "                    .attr(\"viewBox\", \"0.0 0.0 100 100\");\n",
       "                i += 1;\n",
       "            }\n",
       "        }\n",
       "    "
      ],
      "text/plain": [
       "HTML{String}(\"    <div id=\\\"id_3bfcc6e6b15043b8b6b11f9215a89301\\\"></div>\\n    <script>\\n        var d3 = require(\\\"nbextensions/d3/d3.min\\\");\\n    \\n        var svg = d3.select(\\\"#id_3bfcc6e6b15043b8b6b11f9215a89301\\\").append(\\\"svg\\\")\\n            .attr(\\\"width\\\", 900)\\n            .attr(\\\"height\\\", 450);\\n    \\n        // TODO delete me\\n        svg.append(\\\"rect\\\")\\n            .attr(\\\"x\\\", 0)\\n            .attr(\\\"y\\\", 0)\\n            .attr(\\\"width\\\", \\\"100%\\\")\\n            .attr(\\\"height\\\", \\\"100%\\\")\\n            .style(\\\"stroke\\\", \\\"white\\\")\\n            .style(\\\"fill\\\", \\\"white\\\");\\n    \\n        var tile_width = 900 / 6;\\n        var tile_height = 450 / 3;\\n        var i = 1;\\n        for (var row=0; row<3; row++) {\\n            for (var col=0; col<6; col++) {\\n                var sub_svg = svg.append(\\\"svg\\\")\\n                    .classed(\\\"subfigure\\\", true)\\n\\t\\t\\t        .attr(\\\"id\\\", \\\"id_3bfcc6e6b15043b8b6b11f9215a89301_parent\\\" + i)\\n                    .attr(\\\"x\\\", col * tile_width)\\n                    .attr(\\\"y\\\", row * tile_height)\\n                    .attr(\\\"width\\\", tile_width)\\n                    .attr(\\\"height\\\", tile_height);\\n                var inner_svg = sub_svg.append(\\\"svg\\\")\\n                    .attr(\\\"x\\\", 0.0)\\n                    .attr(\\\"y\\\", 0.0)\\n                    .attr(\\\"width\\\", tile_width - 0.0 - 0.0)\\n                    .attr(\\\"height\\\", tile_height - 0.0 - 0.0);\\n                var frame = inner_svg.append(\\\"svg\\\")\\n\\t\\t\\t        .attr(\\\"id\\\", \\\"id_3bfcc6e6b15043b8b6b11f9215a89301_frame\\\" + i)\\n                    //.attr(\\\"preserveAspectRatio\\\", \\\"none\\\")\\n                    .attr(\\\"viewBox\\\", \\\"0.0 0.0 100 100\\\");\\n                i += 1;\\n            }\\n        }\\n    \")"
      ]
     },
     "execution_count": 43,
     "metadata": {},
     "output_type": "execute_result"
    }
   ],
   "source": [
    "figure = Figure(num_rows=3, num_cols=6, width=900, height=450, trace_width=100, trace_height=100)\n",
    "here(figure)"
   ]
  },
  {
   "cell_type": "code",
   "execution_count": 45,
   "metadata": {},
   "outputs": [
    {
     "name": "stderr",
     "output_type": "stream",
     "text": [
      "WARNING: both Gen and Base export \"gamma\"; uses of it in module Main must be qualified\n"
     ]
    }
   ],
   "source": [
    "renderer = JupyterInlineRenderer(\"agent_model_renderer\", Dict(\"mode\" => \"overwrite\", \"show_path\" => true))\n",
    "traces = []\n",
    "for i=1:18\n",
    "    trace = Trace()\n",
    "    intervene!(trace, \"start\", Point(10, 10))\n",
    "    intervene!(trace, \"destination\", Point(90, 90))\n",
    "    @generate(trace, agent_waypoint_model())\n",
    "    attach(renderer, figure => i)\n",
    "    render(renderer, trace)\n",
    "    push!(traces, trace)\n",
    "end"
   ]
  },
  {
   "cell_type": "markdown",
   "metadata": {},
   "source": [
    "Notice that sometimes, the path has a clear waypoint/detour whereas other times it does not."
   ]
  },
  {
   "cell_type": "markdown",
   "metadata": {},
   "source": [
    "We now do inference in this model for the given dataset."
   ]
  },
  {
   "cell_type": "code",
   "execution_count": 49,
   "metadata": {},
   "outputs": [
    {
     "data": {
      "text/html": [
       "    <div id=\"id_5310cd33978846378c50994496dbb75d\"></div>\n",
       "    <script>\n",
       "        var d3 = require(\"nbextensions/d3/d3.min\");\n",
       "    \n",
       "        var svg = d3.select(\"#id_5310cd33978846378c50994496dbb75d\").append(\"svg\")\n",
       "            .attr(\"width\", 900)\n",
       "            .attr(\"height\", 150);\n",
       "    \n",
       "        // TODO delete me\n",
       "        svg.append(\"rect\")\n",
       "            .attr(\"x\", 0)\n",
       "            .attr(\"y\", 0)\n",
       "            .attr(\"width\", \"100%\")\n",
       "            .attr(\"height\", \"100%\")\n",
       "            .style(\"stroke\", \"white\")\n",
       "            .style(\"fill\", \"white\");\n",
       "    \n",
       "        var tile_width = 900 / 6;\n",
       "        var tile_height = 150 / 1;\n",
       "        var i = 1;\n",
       "        for (var row=0; row<1; row++) {\n",
       "            for (var col=0; col<6; col++) {\n",
       "                var sub_svg = svg.append(\"svg\")\n",
       "                    .classed(\"subfigure\", true)\n",
       "\t\t\t        .attr(\"id\", \"id_5310cd33978846378c50994496dbb75d_parent\" + i)\n",
       "                    .attr(\"x\", col * tile_width)\n",
       "                    .attr(\"y\", row * tile_height)\n",
       "                    .attr(\"width\", tile_width)\n",
       "                    .attr(\"height\", tile_height);\n",
       "                var inner_svg = sub_svg.append(\"svg\")\n",
       "                    .attr(\"x\", 0.0)\n",
       "                    .attr(\"y\", 20)\n",
       "                    .attr(\"width\", tile_width - 0.0 - 0.0)\n",
       "                    .attr(\"height\", tile_height - 20 - 0.0);\n",
       "                var frame = inner_svg.append(\"svg\")\n",
       "\t\t\t        .attr(\"id\", \"id_5310cd33978846378c50994496dbb75d_frame\" + i)\n",
       "                    //.attr(\"preserveAspectRatio\", \"none\")\n",
       "                    .attr(\"viewBox\", \"0.0 0.0 100 100\");\n",
       "                i += 1;\n",
       "            }\n",
       "        }\n",
       "    \n",
       "var parent = d3.select(\"#id_5310cd33978846378c50994496dbb75d_parent\" + 1)\n",
       "parent.append(\"text\")\n",
       "            .attr(\"x\", tile_width / 2)\n",
       "            .attr(\"y\", 16)\n",
       "            .attr(\"text-anchor\", \"middle\")\n",
       "            .text(\"SIR (1 particles)\")\n",
       "            .style(\"font-size\", 16);\n",
       "var parent = d3.select(\"#id_5310cd33978846378c50994496dbb75d_parent\" + 2)\n",
       "parent.append(\"text\")\n",
       "            .attr(\"x\", tile_width / 2)\n",
       "            .attr(\"y\", 16)\n",
       "            .attr(\"text-anchor\", \"middle\")\n",
       "            .text(\"SIR (4 particles)\")\n",
       "            .style(\"font-size\", 16);\n",
       "var parent = d3.select(\"#id_5310cd33978846378c50994496dbb75d_parent\" + 3)\n",
       "parent.append(\"text\")\n",
       "            .attr(\"x\", tile_width / 2)\n",
       "            .attr(\"y\", 16)\n",
       "            .attr(\"text-anchor\", \"middle\")\n",
       "            .text(\"SIR (16 particles)\")\n",
       "            .style(\"font-size\", 16);\n",
       "var parent = d3.select(\"#id_5310cd33978846378c50994496dbb75d_parent\" + 4)\n",
       "parent.append(\"text\")\n",
       "            .attr(\"x\", tile_width / 2)\n",
       "            .attr(\"y\", 16)\n",
       "            .attr(\"text-anchor\", \"middle\")\n",
       "            .text(\"SIR (64 particles)\")\n",
       "            .style(\"font-size\", 16);\n",
       "var parent = d3.select(\"#id_5310cd33978846378c50994496dbb75d_parent\" + 5)\n",
       "parent.append(\"text\")\n",
       "            .attr(\"x\", tile_width / 2)\n",
       "            .attr(\"y\", 16)\n",
       "            .attr(\"text-anchor\", \"middle\")\n",
       "            .text(\"SIR (256 particles)\")\n",
       "            .style(\"font-size\", 16);"
      ],
      "text/plain": [
       "HTML{String}(\"    <div id=\\\"id_5310cd33978846378c50994496dbb75d\\\"></div>\\n    <script>\\n        var d3 = require(\\\"nbextensions/d3/d3.min\\\");\\n    \\n        var svg = d3.select(\\\"#id_5310cd33978846378c50994496dbb75d\\\").append(\\\"svg\\\")\\n            .attr(\\\"width\\\", 900)\\n            .attr(\\\"height\\\", 150);\\n    \\n        // TODO delete me\\n        svg.append(\\\"rect\\\")\\n            .attr(\\\"x\\\", 0)\\n            .attr(\\\"y\\\", 0)\\n            .attr(\\\"width\\\", \\\"100%\\\")\\n            .attr(\\\"height\\\", \\\"100%\\\")\\n            .style(\\\"stroke\\\", \\\"white\\\")\\n            .style(\\\"fill\\\", \\\"white\\\");\\n    \\n        var tile_width = 900 / 6;\\n        var tile_height = 150 / 1;\\n        var i = 1;\\n        for (var row=0; row<1; row++) {\\n            for (var col=0; col<6; col++) {\\n                var sub_svg = svg.append(\\\"svg\\\")\\n                    .classed(\\\"subfigure\\\", true)\\n\\t\\t\\t        .attr(\\\"id\\\", \\\"id_5310cd33978846378c50994496dbb75d_parent\\\" + i)\\n                    .attr(\\\"x\\\", col * tile_width)\\n                    .attr(\\\"y\\\", row * tile_height)\\n                    .attr(\\\"width\\\", tile_width)\\n                    .attr(\\\"height\\\", tile_height);\\n                var inner_svg = sub_svg.append(\\\"svg\\\")\\n                    .attr(\\\"x\\\", 0.0)\\n                    .attr(\\\"y\\\", 20)\\n                    .attr(\\\"width\\\", tile_width - 0.0 - 0.0)\\n                    .attr(\\\"height\\\", tile_height - 20 - 0.0);\\n                var frame = inner_svg.append(\\\"svg\\\")\\n\\t\\t\\t        .attr(\\\"id\\\", \\\"id_5310cd33978846378c50994496dbb75d_frame\\\" + i)\\n                    //.attr(\\\"preserveAspectRatio\\\", \\\"none\\\")\\n                    .attr(\\\"viewBox\\\", \\\"0.0 0.0 100 100\\\");\\n                i += 1;\\n            }\\n        }\\n    \\nvar parent = d3.select(\\\"#id_5310cd33978846378c50994496dbb75d_parent\\\" + 1)\\nparent.append(\\\"text\\\")\\n            .attr(\\\"x\\\", tile_width / 2)\\n            .attr(\\\"y\\\", 16)\\n            .attr(\\\"text-anchor\\\", \\\"middle\\\")\\n            .text(\\\"SIR (1 particles)\\\")\\n            .style(\\\"font-size\\\", 16);\\nvar parent = d3.select(\\\"#id_5310cd33978846378c50994496dbb75d_parent\\\" + 2)\\nparent.append(\\\"text\\\")\\n            .attr(\\\"x\\\", tile_width / 2)\\n            .attr(\\\"y\\\", 16)\\n            .attr(\\\"text-anchor\\\", \\\"middle\\\")\\n            .text(\\\"SIR (4 particles)\\\")\\n            .style(\\\"font-size\\\", 16);\\nvar parent = d3.select(\\\"#id_5310cd33978846378c50994496dbb75d_parent\\\" + 3)\\nparent.append(\\\"text\\\")\\n            .attr(\\\"x\\\", tile_width / 2)\\n            .attr(\\\"y\\\", 16)\\n            .attr(\\\"text-anchor\\\", \\\"middle\\\")\\n            .text(\\\"SIR (16 particles)\\\")\\n            .style(\\\"font-size\\\", 16);\\nvar parent = d3.select(\\\"#id_5310cd33978846378c50994496dbb75d_parent\\\" + 4)\\nparent.append(\\\"text\\\")\\n            .attr(\\\"x\\\", tile_width / 2)\\n            .attr(\\\"y\\\", 16)\\n            .attr(\\\"text-anchor\\\", \\\"middle\\\")\\n            .text(\\\"SIR (64 particles)\\\")\\n            .style(\\\"font-size\\\", 16);\\nvar parent = d3.select(\\\"#id_5310cd33978846378c50994496dbb75d_parent\\\" + 5)\\nparent.append(\\\"text\\\")\\n            .attr(\\\"x\\\", tile_width / 2)\\n            .attr(\\\"y\\\", 16)\\n            .attr(\\\"text-anchor\\\", \\\"middle\\\")\\n            .text(\\\"SIR (256 particles)\\\")\\n            .style(\\\"font-size\\\", 16);\")"
      ]
     },
     "execution_count": 49,
     "metadata": {},
     "output_type": "execute_result"
    }
   ],
   "source": [
    "all_num_simulations = [1, 4, 16, 64, 256]#, 1024]\n",
    "figure = Figure(num_rows=1, num_cols=5, width=900, height=200, trace_width=100, trace_height=100,\n",
    "                margin_top=20, titles=map((n) -> \"SIR ($n particles)\", all_num_simulations))\n",
    "here(figure)"
   ]
  },
  {
   "cell_type": "code",
   "execution_count": 50,
   "metadata": {},
   "outputs": [],
   "source": [
    "\n",
    "\n",
    "trace = Trace()\n",
    "intervene!(trace, \"start\", Point(10, 10))\n",
    "for (i, (x, y)) in enumerate(zip(xs, ys))\n",
    "    constrain!(trace, \"x$i\", x)\n",
    "    constrain!(trace, \"y$i\", y)\n",
    "end\n",
    "renderer = JupyterInlineRenderer(\"agent_model_renderer\", Dict(\"mode\" => \"overlay\",\n",
    "                                                              \"show_path\" => true,\n",
    "                                                              \"show_score\" => false))\n",
    "num_approximate_samples = 10\n",
    "for (i, num_simulations) in enumerate(all_num_simulations)\n",
    "    attach(renderer, figure => i)\n",
    "    for j=1:num_approximate_samples\n",
    "        traces = Vector{Trace}(num_simulations)\n",
    "        scores = Vector{Float64}(num_simulations)\n",
    "        for k=1:num_simulations\n",
    "            t = deepcopy(trace)\n",
    "            @generate(t, agent_waypoint_model())\n",
    "            scores[k] = score(t)\n",
    "            traces[k] = t\n",
    "        end\n",
    "        weights = exp(scores - logsumexp(scores))\n",
    "        weights = weights / sum(weights)\n",
    "        chosen = rand(Categorical(weights))\n",
    "        render(renderer, traces[chosen])\n",
    "    end\n",
    "end"
   ]
  },
  {
   "cell_type": "markdown",
   "metadata": {},
   "source": [
    "Notice that it's possible to get reasonalbe inferences, but it takes a lot longer than with the previous model."
   ]
  },
  {
   "cell_type": "markdown",
   "metadata": {},
   "source": [
    "It looks like the results are not accurate. This is because in the new model, a random forward execution of the imporved model is a lot less likely to match the observations than a random forward exection of the original program. We can try to increase the number of samples to incrase the probability that we get one that matches the data. Note that this will take a few minutes t orun:"
   ]
  },
  {
   "cell_type": "code",
   "execution_count": 41,
   "metadata": {
    "collapsed": true
   },
   "outputs": [],
   "source": [
    "# TODO: Show results with a larger number of particles (256) should look"
   ]
  },
  {
   "cell_type": "markdown",
   "metadata": {},
   "source": [
    "This modification of the model mad einference a lot more computationally challenging, and our importance sampling algorihtm is not able to give us real-time inferneces. This motivates the need for a more sophisicated approach to probabilisitc inference."
   ]
  },
  {
   "cell_type": "markdown",
   "metadata": {},
   "source": [
    "# 5. Compiling inference with neural networks"
   ]
  },
  {
   "cell_type": "markdown",
   "metadata": {},
   "source": [
    "There are a number of approaches for creating more efficient inference algorithms. We will focus on one approach, where we train a neural network to make informed guesses about he locatio nof the waypoint. First, let's understand in a bit more detail why the default inference algorihtm was slow"
   ]
  },
  {
   "cell_type": "markdown",
   "metadata": {},
   "source": [
    "Suppose we knew the right waypoint:"
   ]
  },
  {
   "cell_type": "code",
   "execution_count": 42,
   "metadata": {
    "collapsed": true
   },
   "outputs": [],
   "source": [
    "#trace = Trace()\n",
    "#constrain!(trace, \"use-waypoint\", true)\n",
    "#constrain!(trace, \"waypoint\", Point(0.5, 0.5))"
   ]
  },
  {
   "cell_type": "markdown",
   "metadata": {},
   "source": [
    "Then the baseline importance sapmling algorithm gives reasonable inferences with fewer samples. We use this idea by training a neural network to make informed guesses about the waypoint, given the observed data as its input. We train the neural network on nany simulatoins of the program. Then, the resulting trained neural network can be used to make informed guesses about the waypooint given any observations."
   ]
  },
  {
   "cell_type": "code",
   "execution_count": 43,
   "metadata": {
    "collapsed": true
   },
   "outputs": [],
   "source": [
    "# show the neural network, and show the training."
   ]
  },
  {
   "cell_type": "markdown",
   "metadata": {},
   "source": [
    "Let's visualize the guesses made by the neural network for a few  different datasets:"
   ]
  },
  {
   "cell_type": "code",
   "execution_count": 44,
   "metadata": {
    "collapsed": true
   },
   "outputs": [],
   "source": [
    "# show four renderings left to right of different datasets, with circles denoting the neural network's guess about the waypoint. "
   ]
  },
  {
   "cell_type": "markdown",
   "metadata": {},
   "source": [
    "Now, let's use this trained neural network to speed up inference:"
   ]
  },
  {
   "cell_type": "code",
   "execution_count": 45,
   "metadata": {
    "collapsed": true
   },
   "outputs": [],
   "source": [
    "# show the modififed SIR algorithm, using propose!"
   ]
  },
  {
   "cell_type": "code",
   "execution_count": 46,
   "metadata": {
    "collapsed": true
   },
   "outputs": [],
   "source": [
    "# show results for fewer particles, which should be noticeably faster than without the neural network.\n",
    "# make an explicit comparison."
   ]
  },
  {
   "cell_type": "code",
   "execution_count": null,
   "metadata": {
    "collapsed": true
   },
   "outputs": [],
   "source": []
  }
 ],
 "metadata": {
  "kernelspec": {
   "display_name": "Julia 0.5.1",
   "language": "julia",
   "name": "julia-0.5"
  },
  "language_info": {
   "file_extension": ".jl",
   "mimetype": "application/julia",
   "name": "julia",
   "version": "0.5.1"
  }
 },
 "nbformat": 4,
 "nbformat_minor": 2
}
