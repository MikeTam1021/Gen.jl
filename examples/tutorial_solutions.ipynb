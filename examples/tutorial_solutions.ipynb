{
 "cells": [
  {
   "cell_type": "code",
   "execution_count": 1,
   "metadata": {
    "collapsed": true
   },
   "outputs": [],
   "source": [
    "using Gen\n",
    "using PyPlot"
   ]
  },
  {
   "cell_type": "markdown",
   "metadata": {},
   "source": [
    "Set the seed so the notebook results are reproducible:"
   ]
  },
  {
   "cell_type": "code",
   "execution_count": 2,
   "metadata": {
    "collapsed": true
   },
   "outputs": [],
   "source": [
    "srand(1);"
   ]
  },
  {
   "cell_type": "markdown",
   "metadata": {},
   "source": [
    "# 1. Probabilistic programs in Gen"
   ]
  },
  {
   "cell_type": "markdown",
   "metadata": {},
   "source": [
    "We begin by learning to use Gen to write generative probabilistic models.\n",
    "In Gen, probabilistic models are represented as *probabilistic programs*. \n",
    "The random choices used inside a probabilistic program represent the random variables in the generative probabilistic model.\n",
    "An assignment of values for some or all of the random choices in a program is called a *trace* of the program."
   ]
  },
  {
   "cell_type": "markdown",
   "metadata": {},
   "source": [
    "### Writing a probabilistic program\n",
    "Let's begin by writing a typical Bayesian network model as a Gen probabilistic program."
   ]
  },
  {
   "cell_type": "markdown",
   "metadata": {},
   "source": [
    "A probabilistic program in Gen is a Julia function, in which random choices have been tagged with names using the `~` syntax. The syntax for defining a probabilistic program is slightly different than the standad Julia function definition syntax:"
   ]
  },
  {
   "cell_type": "code",
   "execution_count": 3,
   "metadata": {},
   "outputs": [
    {
     "data": {
      "text/plain": [
       "sprinkler_model (generic function with 1 method)"
      ]
     },
     "execution_count": 3,
     "metadata": {},
     "output_type": "execute_result"
    }
   ],
   "source": [
    "@program sprinkler_model() begin\n",
    "     cloudy = flip(0.5) ~ \"cloudy\"\n",
    "     sprinkler = flip(cloudy ? 0.1 : 0.5) ~ \"sprinkler\"\n",
    "     rain = flip(cloudy ? 0.8 : 0.2) ~ \"rain\"\n",
    "     wetgrass = flip(\n",
    "         if sprinkler\n",
    "             rain ? 0.99 : 0.9\n",
    "         else\n",
    "             rain ? 0.9 : 0.01\n",
    "         end) ~ \"wetgrass\"\n",
    "end"
   ]
  },
  {
   "cell_type": "markdown",
   "metadata": {},
   "source": [
    "The syntax is:\n",
    "\n",
    "```\n",
    "@program <program-name>(arguments..) begin\n",
    "    <body>\n",
    "end\n",
    "```\n",
    "\n",
    "The arguments are same as standard arguments to a Julia `function`, and can have type declarations as usual. The `<body>` is the same as the body of a standard Julia `function`."
   ]
  },
  {
   "cell_type": "markdown",
   "metadata": {},
   "source": [
    "### Running a probabilistic program\n",
    "\n",
    "Running a probabilistic program is just like running a regular Julia function, except that Gen records the value of each named random choice that was made during the program's execution, into a *probabilistic execution trace*.  The probabilistic program represents a probabilistic generative model, where the random choices are random variables. \n",
    "\n",
    "We run a probabilistic program using the `@generate` macro. The first argument to `@generate` is the trace object in which the choices will be recorded, and the second argument is the function call:\n",
    "\n",
    "```\n",
    "@generate(<trace>, <program-name>(program arguments ...))\n",
    "```\n",
    "\n",
    "An empty trace is constructed with `Trace()`:"
   ]
  },
  {
   "cell_type": "code",
   "execution_count": 4,
   "metadata": {
    "collapsed": true,
    "scrolled": true
   },
   "outputs": [],
   "source": [
    "sprinkler_trace = Trace()\n",
    "@generate(sprinkler_trace, sprinkler_model());"
   ]
  },
  {
   "cell_type": "markdown",
   "metadata": {},
   "source": [
    "We can now retrieve the values that were generated, using `value`:"
   ]
  },
  {
   "cell_type": "code",
   "execution_count": 5,
   "metadata": {},
   "outputs": [
    {
     "name": "stdout",
     "output_type": "stream",
     "text": [
      "The value of cloudy is true\n"
     ]
    }
   ],
   "source": [
    "cloudy = value(sprinkler_trace, \"cloudy\")\n",
    "sprinkler = value(sprinkler_trace, \"sprinkler\")\n",
    "rain = value(sprinkler_trace, \"rain\")\n",
    "wetgrass = value(sprinkler_trace, \"wetgrass\")\n",
    "println(\"The value of cloudy is $cloudy\") # NOTE Julia's string interpolation syntax"
   ]
  },
  {
   "cell_type": "markdown",
   "metadata": {},
   "source": [
    "### Problem 1.1\n",
    "List all possible traces for the `sprinker_model` program above, and the probability for each trace. Check that they sum to 1.0. Feel free to generate\n",
    "the list programatically."
   ]
  },
  {
   "cell_type": "code",
   "execution_count": 6,
   "metadata": {},
   "outputs": [
    {
     "name": "stdout",
     "output_type": "stream",
     "text": [
      "\n",
      "sum of probs: 1.0\n",
      "\n",
      "CSRW\n",
      "----\n",
      "TTTT: 0.0396\n",
      "TTTF: 0.0004\n",
      "TTFT: 0.009\n",
      "TTFF: 0.001\n",
      "TFTT: 0.324\n",
      "TFTF: 0.036\n",
      "TFFT: 0.0009\n",
      "TFFF: 0.0891\n",
      "FTTT: 0.0495\n",
      "FTTF: 0.0005\n",
      "FTFT: 0.18\n",
      "FTFF: 0.02\n",
      "FFTT: 0.045\n",
      "FFTF: 0.005\n",
      "FFFT: 0.002\n",
      "FFFF: 0.198\n"
     ]
    }
   ],
   "source": [
    "# ANSWER HERE\n",
    "\n",
    "#C - cloud T/F\n",
    "#S - sprinkler T/F\n",
    "#R - rain T/F\n",
    "#W - wetgrass T/F\n",
    "\n",
    "probs = [.0396, .0004, .009, .001, .324, .036, .0009, .0891,\n",
    ".0495, .0005, .18, .02, .045, .005, .002, .198]\n",
    "\n",
    "println(\"\\nsum of probs: \", sum(probs), \"\\n\")\n",
    "println(\"CSRW\")\n",
    "println(\"----\")\n",
    "iter = 1\n",
    "for i in [\"T\",\"F\"], j in [\"T\",\"F\"], k in [\"T\",\"F\"], l in [\"T\",\"F\"]\n",
    "    println(string(i, j, k, l), \": \", probs[iter])\n",
    "    iter+=1\n",
    "end\n",
    "\n"
   ]
  },
  {
   "cell_type": "markdown",
   "metadata": {},
   "source": [
    "### Problem 1.2\n",
    "Give a directed acyclic graph (DAG) expressing the conditional independencies between random choices in the above `sprinkler_model` program (i.e. the Bayesian network for the probabilistic model). Specify the DAG by its vertices and edges."
   ]
  },
  {
   "cell_type": "code",
   "execution_count": 7,
   "metadata": {},
   "outputs": [
    {
     "ename": "LoadError",
     "evalue": "syntax: invalid operator \"--\"",
     "output_type": "error",
     "traceback": [
      "syntax: invalid operator \"--\"",
      ""
     ]
    }
   ],
   "source": [
    "# ANSWER HERE\n",
    "                    \n",
    "            cloudy --> sprinker ------> wetgrass <--\n",
    "                   \\                               /\n",
    "                    \\--> rain --------------------/\n",
    "        \n",
    "        \n",
    "            "
   ]
  },
  {
   "cell_type": "markdown",
   "metadata": {},
   "source": [
    "### A program with an infinite number of random choices\n",
    "\n",
    "We just saw that probabilistic programs can represent generative models like Bayesian networks. However, probabilistic programs can also represent generative models that cannot be represented as Bayesian networks, including models with an infinite number of possible random choices. Below, `recursion_program` is a simple program with an infinite number of random choices:\n",
    "\n",
    "**Note:** Probabilistic programs are regular Julia functions, and can can be parameterized by adding function parameters. Here, we parameterize the recursion_program by the probability of each flip resulting in heads:"
   ]
  },
  {
   "cell_type": "code",
   "execution_count": 8,
   "metadata": {},
   "outputs": [
    {
     "name": "stdout",
     "output_type": "stream",
     "text": [
      "return values: Any[2,0,1,0,2,5,1,0,1,0,1,1,3,1,3,1,0,2,0,0]\n"
     ]
    }
   ],
   "source": [
    "@program recursion_program(prob_heads::Float64) begin\n",
    "    @generate(foo(0, prob_heads))\n",
    "end\n",
    "\n",
    "@program foo(n::Int, prob_heads::Float64) begin\n",
    "    if (flip(prob_heads) ~ \"flip_$n\")\n",
    "        @generate(foo(n + 1, prob_heads))\n",
    "    else\n",
    "        n\n",
    "    end\n",
    "end\n",
    "\n",
    "return_values = []\n",
    "for i=1:20\n",
    "    push!(return_values, @generate(Trace(), recursion_program(0.5)))\n",
    "end\n",
    "println(\"return values: $return_values\")"
   ]
  },
  {
   "cell_type": "markdown",
   "metadata": {},
   "source": [
    "Note that in the program above we used Julia's string interpolation syntax to form the random choice names. For example:"
   ]
  },
  {
   "cell_type": "code",
   "execution_count": 9,
   "metadata": {},
   "outputs": [
    {
     "name": "stdout",
     "output_type": "stream",
     "text": [
      "flip_10\n",
      "flip_20\n"
     ]
    }
   ],
   "source": [
    "n = 10\n",
    "println(\"flip_$n\")\n",
    "println(\"flip_$(n * 2)\")"
   ]
  },
  {
   "cell_type": "markdown",
   "metadata": {},
   "source": [
    "These strings are evaluated during program execution in the same environment as the rest of the code in the probabilistic program."
   ]
  },
  {
   "cell_type": "markdown",
   "metadata": {},
   "source": [
    "Note that probabilistic programs can use sub-routines. In the example above, each recursive call to `foo()` records its random choice in the same trace object. A probabilistic program is called as a sub-routine using the `@generate` macro."
   ]
  },
  {
   "cell_type": "markdown",
   "metadata": {},
   "source": [
    "Below, we show that two different executions of the same probabilistic program can result in a different number of random choices made:"
   ]
  },
  {
   "cell_type": "code",
   "execution_count": 10,
   "metadata": {},
   "outputs": [
    {
     "name": "stdout",
     "output_type": "stream",
     "text": [
      "\n",
      "First execution\n",
      "The value of flip_0 is true\n",
      "The value of flip_1 is false\n",
      "return-value=1\n",
      "\n",
      "Second execution\n",
      "The value of flip_0 is true\n",
      "The value of flip_1 is true\n",
      "The value of flip_2 is false\n",
      "return-value=2\n"
     ]
    }
   ],
   "source": [
    "# One traced execution of recursion_program\n",
    "println(\"\\nFirst execution\")\n",
    "trace = Trace()\n",
    "return_value = @generate(trace ,recursion_program(0.5))\n",
    "for choice in choices(trace)\n",
    "    println(\"The value of $choice is $(value(trace, choice))\")\n",
    "end\n",
    "println(\"return-value=$return_value\")\n",
    "\n",
    "# Another traced execution\n",
    "println(\"\\nSecond execution\")\n",
    "recursion_trace = Trace() \n",
    "return_value = @generate(trace ,recursion_program(0.5))\n",
    "for choice in choices(trace)\n",
    "    println(\"The value of $choice is $(value(trace, choice))\")\n",
    "end\n",
    "println(\"return-value=$return_value\")\n"
   ]
  },
  {
   "cell_type": "markdown",
   "metadata": {},
   "source": [
    "Note that the number of random choices that were sampled is different between the two executions. Unlike Bayesian networks, probabilistic programs can represent models in which (1) the set of which random choices are sampled is itself a random object, and (2) the set of random choices is potentially countably infinite."
   ]
  },
  {
   "cell_type": "markdown",
   "metadata": {},
   "source": [
    "We next perform 20 independent traced executions of the program. Note that because probabilistic programs are represented as Julia functions, they return values just like normal Julia functions. Below we run the program 20 times and list the return value in each."
   ]
  },
  {
   "cell_type": "code",
   "execution_count": 79,
   "metadata": {},
   "outputs": [
    {
     "data": {
      "image/png": "[encoded data removed]",
      "text/plain": [
       "PyPlot.Figure(PyObject <matplotlib.figure.Figure object at 0x7f07aba47250>)"
      ]
     },
     "metadata": {},
     "output_type": "display_data"
    }
   ],
   "source": [
    "return_values = []\n",
    "for i=1:1000\n",
    "    push!(return_values, recursion_program(Trace(), 0.7))\n",
    "end\n",
    "plt[:figure](figsize=(6, 3))\n",
    "plt[:hist](return_values)\n",
    "plt[:xlabel](\"return value\");"
   ]
  },
  {
   "cell_type": "markdown",
   "metadata": {},
   "source": [
    "We run the program again 20 times with a different parameter. Note that because probabilistic programs are represented as Julia functions, they can take arbitrary parameters."
   ]
  },
  {
   "cell_type": "code",
   "execution_count": 82,
   "metadata": {},
   "outputs": [
    {
     "data": {
      "image/png": "[encoded data removed]",
      "text/plain": [
       "PyPlot.Figure(PyObject <matplotlib.figure.Figure object at 0x7f07ab5e2d90>)"
      ]
     },
     "metadata": {},
     "output_type": "display_data"
    }
   ],
   "source": [
    "return_values = []\n",
    "for i=1:1000\n",
    "    push!(return_values, recursion_program(Trace(), 0.4))\n",
    "end\n",
    "plt[:figure](figsize=(6, 3))\n",
    "plt[:hist](return_values)\n",
    "plt[:xlabel](\"return value\");"
   ]
  },
  {
   "cell_type": "markdown",
   "metadata": {},
   "source": [
    "Unsurprisingly, changing that parameter has a pretty drastic effect on the distribution of return values."
   ]
  },
  {
   "cell_type": "markdown",
   "metadata": {},
   "source": [
    "## Problem 1.3\n",
    "\n",
    "Recall that a trace is the set of random choices and their values.\n",
    "\n",
    "(a) List the set of possible traces for the recursion_example program above, the probability of each possible trace, and the value of output for each trace. Do the probabilities sum to 1?\n",
    "\n",
    "(b) Describe the marginal distribution of output.\n",
    "\n",
    "(c) Can you draw a Bayesian network corresponding to `recursion_program`?"
   ]
  },
  {
   "cell_type": "raw",
   "metadata": {
    "collapsed": true
   },
   "source": [
    " # ANSWER HERE\n",
    "(a) Trace |  Returns |  Prob\n",
    "_______________________________\n",
    "    flip_0=0   0        0.9\n",
    "-------------------------------\n",
    "    flip_0=1   \n",
    "    flip_1=0   1        0.1 * 0.9\n",
    "-------------------------------\n",
    "    flip_0=1\n",
    "    flip_1=1   \n",
    "    flip_2=0   2        (0.1)^2 * 0.9\n",
    "-------------------------------\n",
    "    flip_0=1\n",
    "    flip_1=1\n",
    "    flip_2=1\n",
    "    flip_3=0   3        (0.1)^3 * 0.9\n",
    "-------------------------------\n",
    "    flip_0=1\n",
    "    flip_1=1\n",
    "    flip_2=1\n",
    "    flip_3=1\n",
    "    flip_4=0   4        (0.1)^4 * 0.9\n",
    "-------------------------------\n",
    "        ...etc...\n",
    "\n",
    "Yes. It adds up to 1. \n",
    "\n",
    "(b) As the _return value increases the probability of that \n",
    "    value returning exponentially decreases. The rate it which\n",
    "    it becomes more unlikely to reach higher _return values\n",
    "    depends on the prob_heads variable\n",
    "\n",
    "    Geometric Distribution\n",
    "\n",
    "(c) Not Really\n",
    "\n"
   ]
  },
  {
   "cell_type": "markdown",
   "metadata": {},
   "source": [
    "### Constraining a trace\n",
    "\n",
    "Recall the probablistic programs `sprinkler_model` and `recursion_program`. As seen above, the trace holds random variables and their respective values which were randomly generated by the program.\n",
    "\n"
   ]
  },
  {
   "cell_type": "markdown",
   "metadata": {},
   "source": [
    "### Scoring a Trace\n",
    "\n",
    "Instead of finding the probabilities of a particular Trace of a probablistic program by hand, we can use `trace.log_weight` to automatically find the log probability of that trace. If we sum the `exp(trace.log_weight)` i.e. the exponential of the log probability (to cancel out the log) of each unique Trace, should equal to 1.\n",
    "\n",
    "#### Example of logs and the exponential function"
   ]
  },
  {
   "cell_type": "code",
   "execution_count": 48,
   "metadata": {},
   "outputs": [
    {
     "name": "stdout",
     "output_type": "stream",
     "text": [
      "Log-probability of 0.47 is -0.7550225842780328\n",
      "The exponential of -0.7550225842780328 is 0.47\n"
     ]
    }
   ],
   "source": [
    "#Turning a probability into a log-probability\n",
    "example_prob = .47\n",
    "example_log_prob = log(example_prob)\n",
    "println(\"Log-probability of $example_prob is $example_log_prob\")\n",
    "\n",
    "\n",
    "#Going backwards: Turning a log-probability back into a probability\n",
    "example_exp_log_prob = exp(example_log_prob)\n",
    "println(\"The exponential of $example_log_prob is $example_exp_log_prob\")"
   ]
  },
  {
   "cell_type": "markdown",
   "metadata": {},
   "source": [
    "**Listed below** are the probabilites of two unique traces for the `sprinkler_model`\n",
    "in the following format: **`[trace]:[trace_probability]`**\n",
    "\n",
    "** Note these probabilities are not log probabilities yet\n",
    "\n",
    "1. **cloudy=T, sprinkler=T, rain=T, wetgrass=T : 0.0396**\n",
    "\n",
    "2. **cloudy=T, sprinkler=T, rain=T, wetgrass=F : 0.0004**\n",
    "\n",
    "Let's test if `trace.log_weight` returns the same values we computed manually."
   ]
  },
  {
   "cell_type": "code",
   "execution_count": 66,
   "metadata": {},
   "outputs": [],
   "source": [
    "# 1. cloudy=T, sprinkler=T, rain=T, wetgrass=T : 0.0396 \n",
    "trace = Trace()\n",
    "constrain!(trace, \"cloudy\", true)\n",
    "constrain!(trace, \"sprinkler\", true)\n",
    "constrain!(trace, \"rain\", true)\n",
    "constrain!(trace, \"wetgrass\", true)\n",
    "\n",
    "# Run the model\n",
    "@generate(trace, sprinkler_model())\n",
    "\n",
    "# Check that the score matches our calculation\n",
    "@assert isapprox(score(trace), log(0.0396))\n",
    "\n",
    "# 2. cloudy=T, sprinkler=T, rain=T, wetgrass=F :  0.0004 \n",
    "trace = Trace()\n",
    "constrain!(trace, \"cloudy\", true)\n",
    "constrain!(trace, \"sprinkler\", true)\n",
    "constrain!(trace, \"rain\", true)\n",
    "constrain!(trace, \"wetgrass\", false)\n",
    "\n",
    "# Run the model\n",
    "@generate(trace, sprinkler_model())\n",
    "\n",
    "# Check that the score matches our calculation\n",
    "@assert isapprox(score(trace), log(0.0004))"
   ]
  },
  {
   "cell_type": "markdown",
   "metadata": {},
   "source": [
    "In addition, let's test the probabilites of another 2 traces for the `recursion_program`:\n",
    "\n",
    "1. **flip_0 = 0  : 0.9**\n",
    "\n",
    "2. **flip_0 = 1, flip_1 = 0 : 0.1 * 0.9 **\n",
    "\n"
   ]
  },
  {
   "cell_type": "code",
   "execution_count": 67,
   "metadata": {},
   "outputs": [],
   "source": [
    "# 1. flip_0 = 0 : 0.9\n",
    "trace = Trace()\n",
    "constrain!(trace, \"flip_0\", false)\n",
    "\n",
    "# Run the model\n",
    "@generate(trace, recursion_program(0.1))\n",
    "\n",
    "# Check that the score matches calculation\n",
    "@assert isapprox(score(trace), log(0.9))\n",
    "\n",
    "# 2. flip_0 = 1, flip_1 = 0 : 0.01\n",
    "trace = Trace()\n",
    "constrain!(trace, \"flip_0\", true)\n",
    "constrain!(trace, \"flip_1\", false)\n",
    "\n",
    "# Run the model\n",
    "@generate(trace, recursion_program(0.1))\n",
    "\n",
    "# Check that the score matches calculation\n",
    "@assert isapprox(score(trace), log(0.1 * 0.9))"
   ]
  },
  {
   "cell_type": "markdown",
   "metadata": {},
   "source": [
    "### What happens if you contrain some (not all) of the random variables? \n",
    "\n",
    "In the `sprinkler_model`, let's constrain:\n",
    "* cloud = True\n",
    "* sprinkler = False\n",
    "\n",
    "Let's then say the probablistic program fills the rest of the random variables in the trace as:\n",
    "* rain = False\n",
    "* wetgrass = True\n",
    "\n",
    "**Question 1 (True or False):** Is the score the same as if all of the random values were contrained to: \n",
    "\n",
    "* cloud = True\n",
    "* sprinkler = False\n",
    "* rain = False\n",
    "* wetgrass = True \n",
    "\n",
    "?\n",
    "\n",
    "#### Answer: False\n",
    "\n",
    "### Why is this False? Let's explain the math by an example of Importance Sampling.\n",
    "\n",
    "According to the Chain rule `P(X=x|Y=y) = P(X=x, Y=y) / P(Y=y)`\n",
    "\n",
    "`P(X=x|Y=y)` represents some true distribution that we desire to find and describe. We can do this by trying to estimate it as closely as possible with another distribution. Let's call this estimation distribution `q(X=x)`. In the graph below, we draw an example of what `P(X=x|Y=y)` (green) might look like and what the initial estimate `q(X=x)` (orange) may be.\n",
    "<img src=\"distrib_ex.png\"  style=\"width: 300px; float: center\"/>\n",
    "\n",
    "Let A, B, C, and D represent drawn samples from `q(X=x)`. In importance sampling, we wish to score the sample, or particle that most matches `P(X=x|Y=y)`. We do this by giving each particle (A, B, C, and D) a score, or weight. The higher the score, or the more it weighs, the more it matches `P(X=x|Y=y)`. This score is computed as `weight_i = P(X=x_i|Y=y) / q(X=x_i)` Below, we illustrate the weights of each particle, A, B, C, and D with blue circles. The larger the circle is drawn, the more weight it has. This means that particle B is a more accurate sample of what `P(X=x|Y=y)` actually represents.\n",
    "\n",
    "<img src=\"distrib_2_ex.png\"  style=\"width: 300px; float: center\"/>\n",
    "\n",
    "This weight is synonmous to the log probabilities we were computing earlier. This means that we can find the weight of a particular trace using `trace.log_weight`. \n",
    "\n",
    "\n",
    "\n",
    "<img src=\"b_net_ex.png\"  style=\"width: 250px; float: left\"/>\n",
    "\n",
    "On the left we show an example of a bayes net of the `sprinkler_model`. Where `cloudy` and `sprinkler` are contrained, and `rain` and `wetgrass` are not.\n",
    "\n",
    "If we wanted to find the score, or weight of this particular trace (which represents a particle, or sample of a probablistic program) we would compute the weights as: \n",
    "\n",
    "` P(cloudy) * P(sprinkler|cloudy) * P(rain|cloudy) * P(wetgrass| sprinkler, rain) / P(rain|cloudy) * P(wetgrass| sprinkler, rain)`\n",
    "\n",
    "Since there are no custom proposals, the program defaults to the prior. The non-contrained probabilities, `P(rain|cloudy)` and `P(wetgrass| sprinkler, rain)`, cancel out, and we are left with:\n",
    "\n",
    "\n",
    "` P(cloudy) * P(sprinkler|cloudy)` \n",
    "\n",
    "which is not equal to \n",
    "\n",
    "`P(cloudy) * P(sprinkler|cloudy) * P(rain|cloudy) * P(wetgrass| sprinkler, rain)` \n",
    "\n",
    "If `cloudy=True and sprinkler=False`, we get `0.5 * 0.9` = 0.45.\n",
    "The log probability is `log(0.45) = 798507696217771`. Therefore, this weight is different from the weight of a trace where all the random variables are contrained. \n",
    "\n",
    "**Below we run `sprinkler_model` with the contraints of `cloudy=True and sprinkler=False`.**\n",
    "\n"
   ]
  },
  {
   "cell_type": "code",
   "execution_count": 51,
   "metadata": {},
   "outputs": [
    {
     "ename": "LoadError",
     "evalue": "MethodError: no method matching setindex!(::Gen.Trace, ::Bool, ::String)",
     "output_type": "error",
     "traceback": [
      "MethodError: no method matching setindex!(::Gen.Trace, ::Bool, ::String)",
      ""
     ]
    }
   ],
   "source": [
    "# Set constraints\n",
    "sprinkler_trace = Trace()\n",
    "sprinkler_trace[\"cloudy\"] = true\n",
    "sprinkler_trace[\"sprinkler\"] = false\n",
    "\n",
    "# Run the model\n",
    "sprinkler_model(sprinkler_trace)\n",
    "\n",
    "# Print the trace\n",
    "println(\"cloudy=\", sprinkler_trace[\"cloudy\"]) \n",
    "println(\"sprinkler=\", sprinkler_trace[\"sprinkler\"])\n",
    "println(\"rain=$rain\", sprinkler_trace[\"rain\"]) # This value is assigned by the model\n",
    "println(\"wetgrass=\", sprinkler_trace[\"wetgrass\"]) # This value is assigned by the model\n",
    "println(\"-------------------\")\n",
    "\n",
    "# Show the score of the trace\n",
    "println(\"Our Answer:\", log(0.5 * 0.9))\n",
    "println(\"sprinkler_trace.log_weight=\",sprinkler_trace.log_weight)\n"
   ]
  },
  {
   "cell_type": "markdown",
   "metadata": {},
   "source": [
    "Consider the probabilistic program `shared_or_separate` below. Note that we have parameterized this program by a `num_obs` parameter. Also note that we do not name all of the random choices. In Gen, not all random choices need to be named."
   ]
  },
  {
   "cell_type": "code",
   "execution_count": 52,
   "metadata": {},
   "outputs": [
    {
     "name": "stderr",
     "output_type": "stream",
     "text": [
      "WARNING: Method definition shared_or_separate(Gen.Trace, Int64) in module Main at In[18]:2 overwritten at In[52]:2.\n"
     ]
    },
    {
     "data": {
      "text/plain": [
       "shared_or_separate (generic function with 1 method)"
      ]
     },
     "execution_count": 52,
     "metadata": {},
     "output_type": "execute_result"
    }
   ],
   "source": [
    "function shared_or_separate(T::Trace, num_obs::Int)\n",
    "    mean_shared = normal(0., 10.)\n",
    "    mean_1 = normal(0., 10.)\n",
    "    mean_2 = normal(0., 10.)\n",
    "    variance = Gen.gamma(1., 1.)\n",
    "    shared = flip(0.2) ~ \"shared\"\n",
    "    outputs = []\n",
    "    for i=1:num_obs\n",
    "        if i < num_obs / 2\n",
    "            # cohort 1 (first half of data points)\n",
    "            if shared\n",
    "                mu = mean_shared\n",
    "            else\n",
    "                mu = mean_1\n",
    "            end\n",
    "        else\n",
    "            # cohort 2 (second half of data points)\n",
    "            if shared\n",
    "                mu = mean_shared\n",
    "            else\n",
    "                mu = mean_2\n",
    "            end\n",
    "        end\n",
    "        push!(outputs, normal(mu, sqrt(variance)) ~ \"output-$i\")\n",
    "    end\n",
    "    return outputs\n",
    "end"
   ]
  },
  {
   "cell_type": "markdown",
   "metadata": {},
   "source": [
    "Below, we run this program many times, and plot the histogram of the outputs for each run. We use PyPlot which is a Julia package that wraps Python's matplotlib module."
   ]
  },
  {
   "cell_type": "code",
   "execution_count": 53,
   "metadata": {
    "collapsed": true
   },
   "outputs": [],
   "source": [
    "all_outputs = []\n",
    "all_traces = []\n",
    "for replicate=1:24\n",
    "    trace = Trace()\n",
    "    outputs = shared_or_separate(trace, 50)\n",
    "    push!(all_outputs, outputs)\n",
    "    push!(all_traces, trace)\n",
    "end"
   ]
  },
  {
   "cell_type": "code",
   "execution_count": 54,
   "metadata": {},
   "outputs": [
    {
     "ename": "LoadError",
     "evalue": "MethodError: no method matching getindex(::Gen.Trace, ::String)",
     "output_type": "error",
     "traceback": [
      "MethodError: no method matching getindex(::Gen.Trace, ::String)",
      "",
      " in macro expansion; at ./In[54]:5 [inlined]",
      " in anonymous at ./<missing>:?"
     ]
    }
   ],
   "source": [
    "plt[:figure](figsize=(9, 6))\n",
    "for (i, outputs) in enumerate(all_outputs)\n",
    "    \n",
    "    #Changing color based on behavior of the data\n",
    "    shared = all_traces[i][\"shared\"]\n",
    "    c = \"teal\"\n",
    "    if shared\n",
    "        c = \"orange\"\n",
    "    end\n",
    "    \n",
    "    plt[:subplot](6, 4, i)\n",
    "    plt[:hist](outputs, bins=50, range=(-25, 25), color=(c))\n",
    "    ax = plt[:gca]()\n",
    "    plt[:gca]()[:get_yaxis]()[:set_visible](false)\n",
    "end\n",
    "plt[:tight_layout]()"
   ]
  },
  {
   "cell_type": "markdown",
   "metadata": {},
   "source": [
    "## Problem 1.4\n",
    "\n",
    "(a) Describe what the `shared_or_separate` program above is doing, and a possible use of this program as a probabilistic model of data.\n",
    "\n",
    "(b) Run a new experiment where you extract the value of `shared` for each run of the program, and and use the value of `shared` to improve the histogram, by coloring the runs for which `shared=true` differently fromthe renderings for which `shared=false`."
   ]
  },
  {
   "cell_type": "code",
   "execution_count": 21,
   "metadata": {},
   "outputs": [
    {
     "ename": "LoadError",
     "evalue": "syntax: extra token \"In\" after end of expression",
     "output_type": "error",
     "traceback": [
      "syntax: extra token \"In\" after end of expression",
      ""
     ]
    }
   ],
   "source": [
    "# ANSWER HERE\n",
    "\n",
    "(a) In shared_or_separate, there is a .2 probability that data will be created as a unimodal\n",
    "    distribution, meaning that all of the data/samples will be drawn from a single \n",
    "    normal distrubtion centered at one mean. 80% of the time the program will \n",
    "    be created as a bimodal distribution: half of the data points will be drawn \n",
    "    from one of two normals, and the other half will be drawn \n",
    "    from the latter normal distribution. \n",
    "\n",
    "    The number of data points created is a user determined variable.\n",
    "   \n",
    "    This model can be a simple generative model that describes the test scores \n",
    "    of a particular college class. Most of the time, half of the class scores really well,\n",
    "    and the other half scores badly. Ever so often, the class will be more in sync and\n",
    "    score in a more normal fashion. \n",
    "\n",
    "(b) Done! The graphs colored orange represent unimodal distributions"
   ]
  },
  {
   "cell_type": "markdown",
   "metadata": {},
   "source": [
    "The probabilistic program below defines a Bayesian linear regression model."
   ]
  },
  {
   "cell_type": "code",
   "execution_count": 22,
   "metadata": {},
   "outputs": [
    {
     "data": {
      "text/plain": [
       "linear_regression (generic function with 1 method)"
      ]
     },
     "execution_count": 22,
     "metadata": {},
     "output_type": "execute_result"
    }
   ],
   "source": [
    "function linear_regression(T::Trace, xs::Array{Float64,1})\n",
    "    slope = normal(0., 2.) ~ \"slope\"\n",
    "    intercept = normal(0., 2.) ~ \"intercept\"\n",
    "    variance = 1.0\n",
    "    line = (x::Float64) -> intercept + slope * x\n",
    "    ys = map(\n",
    "            (i) -> normal(line(xs[i]), variance) ~ \"y$i\", \n",
    "            1:length(xs))\n",
    "end"
   ]
  },
  {
   "cell_type": "code",
   "execution_count": 23,
   "metadata": {},
   "outputs": [
    {
     "ename": "LoadError",
     "evalue": "MethodError: no method matching keys(::Gen.Trace)\u001b[0m\nClosest candidates are:\n  keys(\u001b[1m\u001b[31m::PyCall.PyObject\u001b[0m) at /home/marcoct/.julia/v0.5/PyCall/src/PyCall.jl:293\n  keys(\u001b[1m\u001b[31m::PyPlot.ColorMap\u001b[0m) at /home/marcoct/.julia/v0.5/PyPlot/src/colormaps.jl:27\n  keys(\u001b[1m\u001b[31m::PyPlot.Figure\u001b[0m) at /home/marcoct/.julia/v0.5/PyPlot/src/PyPlot.jl:71\n  ...\u001b[0m",
     "output_type": "error",
     "traceback": [
      "MethodError: no method matching keys(::Gen.Trace)\u001b[0m\nClosest candidates are:\n  keys(\u001b[1m\u001b[31m::PyCall.PyObject\u001b[0m) at /home/marcoct/.julia/v0.5/PyCall/src/PyCall.jl:293\n  keys(\u001b[1m\u001b[31m::PyPlot.ColorMap\u001b[0m) at /home/marcoct/.julia/v0.5/PyPlot/src/colormaps.jl:27\n  keys(\u001b[1m\u001b[31m::PyPlot.Figure\u001b[0m) at /home/marcoct/.julia/v0.5/PyPlot/src/PyPlot.jl:71\n  ...\u001b[0m",
      "",
      " in anonymous at ./<missing>:?"
     ]
    }
   ],
   "source": [
    "trace = Trace()\n",
    "linear_regression(trace, [-3., -2., -1., 0., 1., 2., 3.])\n",
    "for key in keys(trace)\n",
    "    println(\"$key=$(trace[key])\")\n",
    "end"
   ]
  },
  {
   "cell_type": "markdown",
   "metadata": {},
   "source": [
    "Let's visualize the traces for many repeated executions. We will visualize the `slope` and `intercept` by plotting the corresponding line, and we will scatterplot the x, y pairs. We visualize a trace by writing a *trace rendering* function, that takes a trace and any other input parameters as arguments and draws a plot onto the current axis."
   ]
  },
  {
   "cell_type": "code",
   "execution_count": 24,
   "metadata": {
    "collapsed": true
   },
   "outputs": [],
   "source": [
    "traces = []\n",
    "xs = collect(linspace(-5.0, 5.0, 20))\n",
    "for replicate=1:36\n",
    "    trace = Trace()\n",
    "    linear_regression(trace, xs)\n",
    "    push!(traces, trace)\n",
    "end"
   ]
  },
  {
   "cell_type": "code",
   "execution_count": 25,
   "metadata": {},
   "outputs": [
    {
     "data": {
      "text/plain": [
       "render_linear_regression_trace (generic function with 1 method)"
      ]
     },
     "execution_count": 25,
     "metadata": {},
     "output_type": "execute_result"
    }
   ],
   "source": [
    "function render_linear_regression_trace(trace::Trace,\n",
    "                                         xs::Array{Float64,1},\n",
    "                                         ax, xlim, ylim)\n",
    "    slope = trace[\"slope\"]\n",
    "    intercept = trace[\"intercept\"]\n",
    "    ys = map((i) -> trace[\"y$i\"], 1:length(xs))\n",
    "    ax[:scatter](xs, ys, lw=0, s=50)\n",
    "    ax[:plot](xlim, slope * xlim + intercept, color=\"green\", lw=4)\n",
    "    ax[:set_xlim](xlim)\n",
    "    ax[:set_ylim](ylim)\n",
    "end"
   ]
  },
  {
   "cell_type": "code",
   "execution_count": 26,
   "metadata": {},
   "outputs": [
    {
     "ename": "LoadError",
     "evalue": "MethodError: no method matching getindex(::Gen.Trace, ::String)",
     "output_type": "error",
     "traceback": [
      "MethodError: no method matching getindex(::Gen.Trace, ::String)",
      "",
      " in render_linear_regression_trace(::Gen.Trace, ::Array{Float64,1}, ::PyCall.PyObject, ::Array{Float64,1}, ::Array{Float64,1}) at ./In[25]:4",
      " in macro expansion; at ./In[26]:7 [inlined]",
      " in anonymous at ./<missing>:?"
     ]
    }
   ],
   "source": [
    "plt[:figure](figsize=(18, 8))\n",
    "for (i, trace) in enumerate(traces)\n",
    "    plt[:subplot](4, 9, i)\n",
    "    ax = plt[:gca]()\n",
    "    xlim = [-4., 4.]\n",
    "    ylim = [-4., 4.]\n",
    "    render_linear_regression_trace(trace, xs, ax, xlim, ylim)\n",
    "end\n",
    "plt[:tight_layout]()"
   ]
  },
  {
   "cell_type": "markdown",
   "metadata": {},
   "source": [
    "## Problem 1.5\n",
    "\n",
    "Run a number of traced executions of `linear_regression` with modified inputs, render the outputs, and describe how your change affects the prior distribution on traces. For example, what happens if you increase the variance of the prior on the slope?"
   ]
  },
  {
   "cell_type": "code",
   "execution_count": 27,
   "metadata": {},
   "outputs": [
    {
     "ename": "LoadError",
     "evalue": "MethodError: no method matching getindex(::Gen.Trace, ::String)",
     "output_type": "error",
     "traceback": [
      "MethodError: no method matching getindex(::Gen.Trace, ::String)",
      "",
      " in render_linear_regression_trace(::Gen.Trace, ::Array{Float64,1}, ::PyCall.PyObject, ::Array{Float64,1}, ::Array{Float64,1}) at ./In[25]:4",
      " in macro expansion; at ./In[27]:29 [inlined]",
      " in anonymous at ./<missing>:?"
     ]
    }
   ],
   "source": [
    "# ANSWER HERE\n",
    "\n",
    "function linear_regression_modified(T::Trace, xs::Array{Float64,1}, \n",
    "        slope_var::Float64, intercept_var::Float64)\n",
    "    slope = normal(0., slope_var) ~ \"slope\"\n",
    "    intercept = normal(0., intercept_var) ~ \"intercept\"\n",
    "    variance = 1.0\n",
    "    line = (x::Float64) -> intercept + slope * x\n",
    "    ys = map(\n",
    "            (i) -> normal(line(xs[i]), variance) ~ \"y$i\", \n",
    "            1:length(xs))\n",
    "end\n",
    "\n",
    "\n",
    "traces = []\n",
    "xs = collect(linspace(-5.0, 5.0, 20))\n",
    "for replicate=1:36\n",
    "    trace = Trace()\n",
    "    linear_regression_modified(trace, xs, 5., 1.)\n",
    "    push!(traces, trace)\n",
    "end\n",
    "\n",
    "plt[:figure](figsize=(18, 8))\n",
    "for (i, trace) in enumerate(traces)\n",
    "    plt[:subplot](4, 9, i)\n",
    "    ax = plt[:gca]()\n",
    "    xlim = [-4., 4.]\n",
    "    ylim = [-4., 4.]\n",
    "    render_linear_regression_trace(trace, xs, ax, xlim, ylim)\n",
    "end\n",
    "plt[:tight_layout]()"
   ]
  },
  {
   "cell_type": "code",
   "execution_count": 28,
   "metadata": {},
   "outputs": [
    {
     "ename": "LoadError",
     "evalue": "syntax: line break in \":\" expression",
     "output_type": "error",
     "traceback": [
      "syntax: line break in \":\" expression",
      ""
     ]
    }
   ],
   "source": [
    "Explaination:\n",
    "\n",
    "\n",
    "In the graphs above, I changed the variance of the sampled slopes to 5, \n",
    "and the variance of the sampled y-intercept to 1. \n",
    "\n",
    "Since the variance of the slope increases, there's more of a chance that the slopes will be\n",
    "large values.. which me ans that the lines will tend to be more verticle.\n",
    "\n",
    "The y-intercept's variance makes sure the that y-intercept is more likely to be 0. \n",
    "All the lines will look like they are trying to cross the 0,0 mark on the plots. \n"
   ]
  },
  {
   "cell_type": "markdown",
   "metadata": {},
   "source": [
    "The program below shows an extended version of the linear regression model, where each data point may be an outlier or an inlier."
   ]
  },
  {
   "cell_type": "code",
   "execution_count": 29,
   "metadata": {},
   "outputs": [
    {
     "data": {
      "text/plain": [
       "linear_regression_outliers (generic function with 1 method)"
      ]
     },
     "execution_count": 29,
     "metadata": {},
     "output_type": "execute_result"
    }
   ],
   "source": [
    "function linear_regression_outliers(T::Trace, xs::Array{Float64,1})\n",
    "    inlier_noise = gamma(1., 1.) ~ \"inlier_noise\"\n",
    "    outlier_noise = 10.0\n",
    "    prob_outlier = 0.1\n",
    "    slope = normal(0.0, 2.0) ~ \"slope\"\n",
    "    intercept = normal(0.0, 2.0) ~ \"intercept\"\n",
    "    ys = Array{Float64, 1}(length(xs))\n",
    "    for i=1:length(xs)\n",
    "        y_mean = intercept + slope * xs[i]\n",
    "        noise = (flip(prob_outlier) ~ \"o$i\") ? outlier_noise : inlier_noise \n",
    "        ys[i] = normal(y_mean, noise) ~ \"y$i\"\n",
    "    end\n",
    "end\n"
   ]
  },
  {
   "cell_type": "markdown",
   "metadata": {},
   "source": [
    "We write a new trace rendering for it that shows the outlier data points in red, and shows the value of `inlier_noise` using error bars above and below the line."
   ]
  },
  {
   "cell_type": "code",
   "execution_count": 30,
   "metadata": {},
   "outputs": [
    {
     "data": {
      "text/plain": [
       "render_linear_regression_outliers_trace (generic function with 1 method)"
      ]
     },
     "execution_count": 30,
     "metadata": {},
     "output_type": "execute_result"
    }
   ],
   "source": [
    "function render_linear_regression_outliers_trace(trace::Trace,\n",
    "                                                 xs::Array{Float64,1},\n",
    "                                                 ax, xlim, ylim)\n",
    "    slope = trace[\"slope\"]\n",
    "    intercept = trace[\"intercept\"]\n",
    "    ys = map((i) -> trace[\"y$i\"], 1:length(xs))\n",
    "    outlier_statuses = map((i) -> trace[\"o$i\"], 1:length(xs))\n",
    "    inlier_noise = trace[\"inlier_noise\"]\n",
    "    colors = map((i) -> outlier_statuses[i] ? \"red\" : \"blue\", 1:length(xs))\n",
    "    ax[:scatter](xs, ys, lw=0, s=50, c=colors)\n",
    "    line = intercept + slope * xlim\n",
    "    ax[:plot](xlim, slope * xlim + intercept, color=\"green\", lw=4)\n",
    "    plt[:fill_between](xlim, line - inlier_noise, line, color=\"black\", alpha=0.3)\n",
    "    plt[:fill_between](xlim, line, line + inlier_noise, color=\"black\", alpha=0.3)\n",
    "    ax[:set_xlim](xlim)\n",
    "    ax[:set_ylim](ylim)\n",
    "end"
   ]
  },
  {
   "cell_type": "code",
   "execution_count": 31,
   "metadata": {
    "collapsed": true
   },
   "outputs": [],
   "source": [
    "traces = []\n",
    "xs = collect(linspace(-5.0, 5.0, 20))\n",
    "for replicate=1:36\n",
    "    trace = Trace()\n",
    "    linear_regression_outliers(trace, xs)\n",
    "    push!(traces, trace)\n",
    "end"
   ]
  },
  {
   "cell_type": "code",
   "execution_count": 32,
   "metadata": {
    "scrolled": true
   },
   "outputs": [
    {
     "ename": "LoadError",
     "evalue": "MethodError: no method matching getindex(::Gen.Trace, ::String)",
     "output_type": "error",
     "traceback": [
      "MethodError: no method matching getindex(::Gen.Trace, ::String)",
      "",
      " in render_linear_regression_outliers_trace(::Gen.Trace, ::Array{Float64,1}, ::PyCall.PyObject, ::Array{Float64,1}, ::Array{Float64,1}) at ./In[30]:4",
      " in macro expansion; at ./In[32]:7 [inlined]",
      " in anonymous at ./<missing>:?"
     ]
    }
   ],
   "source": [
    "plt[:figure](figsize=(18, 8))\n",
    "for (i, trace) in enumerate(traces)\n",
    "    plt[:subplot](4, 9, i)\n",
    "    ax = plt[:gca]()\n",
    "    xlim = [-4., 4.]\n",
    "    ylim = [-4., 4.]\n",
    "    render_linear_regression_outliers_trace(trace, xs, ax, xlim, ylim)\n",
    "end\n",
    "plt[:tight_layout]()"
   ]
  },
  {
   "cell_type": "markdown",
   "metadata": {},
   "source": [
    "Now you understand how to write probabilistic models in Gen, and how to understand their behavior by visualizing simulations from the models. Next, we will show how to perform approximate probabilistic inference in Gen."
   ]
  },
  {
   "cell_type": "markdown",
   "metadata": {},
   "source": [
    "# 2. Approximate probabilistic inference\n",
    "Probabilistic inference in a Gen model involves finding values for latent variables that are compatible with a set of *constraints* placed on the trace of the program. A *constraint* is a value for a random choice made within the program. We express constraints in Gen by setting values in the trace that we pass into a probabilistic program."
   ]
  },
  {
   "cell_type": "markdown",
   "metadata": {},
   "source": [
    "For example, the program below has one latent random choice (`mu`) and three observed random choices (`x1`, `x2`, and `x3`)."
   ]
  },
  {
   "cell_type": "code",
   "execution_count": 33,
   "metadata": {},
   "outputs": [
    {
     "data": {
      "text/plain": [
       "simple_model (generic function with 1 method)"
      ]
     },
     "execution_count": 33,
     "metadata": {},
     "output_type": "execute_result"
    }
   ],
   "source": [
    "function simple_model(T::Trace)\n",
    "    mu = normal(0.0, 10.0) ~ \"mu\"\n",
    "    x1 = normal(mu, 1.0) ~ \"x1\"\n",
    "    x2 = normal(mu, 1.0) ~ \"x2\"\n",
    "    x3 = normal(mu, 1.0) ~ \"x3\"\n",
    "end"
   ]
  },
  {
   "cell_type": "markdown",
   "metadata": {},
   "source": [
    " We wish to infer likely values of `mu` given specific observed values for `x1`, `x2`, and `x3`. First, we create an empty trace, and add constraints to it by setting `x1` through `x3` to their observed values:"
   ]
  },
  {
   "cell_type": "code",
   "execution_count": 34,
   "metadata": {},
   "outputs": [
    {
     "ename": "LoadError",
     "evalue": "MethodError: no method matching setindex!(::Gen.Trace, ::Float64, ::String)",
     "output_type": "error",
     "traceback": [
      "MethodError: no method matching setindex!(::Gen.Trace, ::Float64, ::String)",
      ""
     ]
    }
   ],
   "source": [
    "trace = Trace()\n",
    "trace[\"x1\"] = 3.4\n",
    "trace[\"x2\"] = 4.6\n",
    "trace[\"x3\"] = 4.2;"
   ]
  },
  {
   "cell_type": "markdown",
   "metadata": {},
   "source": [
    "The maximum likelihood estimate for `mu` is the mean of the data, and we expect the Bayesian posterior over `mu` should be concentrated near that point, shifted downwards somewhat due to the prior. For this dataset, we expect a reasonable inference algorithm to give values for `mu` lying in the range 3.5-4.5."
   ]
  },
  {
   "cell_type": "markdown",
   "metadata": {},
   "source": [
    "A key feature of Gen (and most other probabilistic programming languages) is that, given a trace and a program, it automatically computes a score that indicates how probable the trace is. Let's compute the score for a reasonable value of `mu` and an unreasonable value:"
   ]
  },
  {
   "cell_type": "code",
   "execution_count": 35,
   "metadata": {},
   "outputs": [
    {
     "ename": "LoadError",
     "evalue": "MethodError: no method matching setindex!(::Gen.Trace, ::Float64, ::String)",
     "output_type": "error",
     "traceback": [
      "MethodError: no method matching setindex!(::Gen.Trace, ::Float64, ::String)",
      ""
     ]
    }
   ],
   "source": [
    "trace = Trace()\n",
    "trace[\"x1\"] = 3.4\n",
    "trace[\"x2\"] = 4.6\n",
    "trace[\"x3\"] = 4.2;\n",
    "trace[\"mu\"] = 4.0 # reasonable value\n",
    "simple_model(trace);\n",
    "println(\"score for reasonable mu $(trace.log_weight)\")\n",
    "\n",
    "trace = Trace()\n",
    "trace[\"x1\"] = 3.4\n",
    "trace[\"x2\"] = 4.6\n",
    "trace[\"x3\"] = 4.2;\n",
    "trace[\"mu\"] = -10.0 # unreasonable value\n",
    "simple_model(trace)\n",
    "println(\"score for unreasonable mu $(trace.log_weight)\")"
   ]
  },
  {
   "cell_type": "markdown",
   "metadata": {},
   "source": [
    "We can also have the program propose its own values for `mu` from the prior, and return the score for the proposed value:"
   ]
  },
  {
   "cell_type": "code",
   "execution_count": 36,
   "metadata": {},
   "outputs": [
    {
     "ename": "LoadError",
     "evalue": "MethodError: no method matching setindex!(::Gen.Trace, ::Float64, ::String)",
     "output_type": "error",
     "traceback": [
      "MethodError: no method matching setindex!(::Gen.Trace, ::Float64, ::String)",
      "",
      " in macro expansion; at ./In[36]:3 [inlined]",
      " in anonymous at ./<missing>:?"
     ]
    }
   ],
   "source": [
    "for i=1:3\n",
    "    trace = Trace()\n",
    "    trace[\"x1\"] = 3.4\n",
    "    trace[\"x2\"] = 4.6\n",
    "    trace[\"x3\"] = 4.2;\n",
    "    simple_model(trace);\n",
    "    mu = trace[\"mu\"] # get value proposed by the program\n",
    "    println(\"score for mu=$mu:  $(trace.log_weight)\")\n",
    "end"
   ]
  },
  {
   "cell_type": "raw",
   "metadata": {},
   "source": []
  },
  {
   "cell_type": "markdown",
   "metadata": {},
   "source": [
    "Simple inference algorithms are easy to write in Gen using this scoring functionality. Gen also allows the user to write their own algorithms and programs for probabilistic inference that make use of core Gen abstractions. Here we show how to write a simple likelihood-weighting inference algorithm using Gen."
   ]
  },
  {
   "cell_type": "markdown",
   "metadata": {},
   "source": [
    "Likelihood-weighting involves sampling from the prior `num_samples` times (by running the model program forward), weighting each sample by the likelihood of the observed data, and then picking one of the prior samples at random, proportional to its weight. See the following paper for a description of this class of algorithms, called sampling importance resampling (SIR): https://fisher.osu.edu/~schroeder.9/AMIS900/Smith1992.pdf"
   ]
  },
  {
   "cell_type": "markdown",
   "metadata": {},
   "source": [
    "Central to inference in Gen, is the ability to provide *constraints* on a trace. Instead of just getting values back from the program through the trace, we can also set values in the trace before we pass it into the program. These values then serve as *constraints* on the trace. When the Gen program encounters a named random choice during its execution, it will check if a value for that random choices appears in the trace. If it does, it will use that value, and increment a *score* which represents the log-likelihood of the contraints given the sampled trace. If the trace does not contain a value for the random choice, it will simulate the random choice as usual (e.g. from the prior). This basic operation allows us to easily implement likelihood-weighting. The score of the resulting traces (a.k.a. the *log-weight*) is the log likelihood:"
   ]
  },
  {
   "cell_type": "markdown",
   "metadata": {},
   "source": [
    " When the Gen program encounters a named random choice during its execution, it will check if a value for that random choices appears in the trace. If it does, it will use that value, and increment a *score* which represents the log-likelihood of the contraints given the sampled trace. If the trace does not contain a value for the random choice, it will simultae the random choice as usual (e.g. from the prior). This basic operation allows us to easily implement likelihood-weighting. The score of the resulting traces (a.k.a. the *log-weight*) is the log likelihood:"
   ]
  },
  {
   "cell_type": "code",
   "execution_count": 37,
   "metadata": {},
   "outputs": [
    {
     "ename": "LoadError",
     "evalue": "UndefVarError: @in not defined",
     "output_type": "error",
     "traceback": [
      "UndefVarError: @in not defined",
      ""
     ]
    }
   ],
   "source": [
    "function logsumexp(x::Array{Float64,1})\n",
    "    maxx = maximum(x)\n",
    "    maxx + log(sum(exp(x - maxx)))\n",
    "end\n",
    "\n",
    "function linear_regression_likelihood_weighting(num_samples::Int, xs::Array{Float64,1}, \n",
    "                                               ys::Array{Float64,1})\n",
    "    log_weights = Array{Float64,1}(num_samples)\n",
    "    traces = Array{Trace,1}(num_samples)\n",
    "    for sample=1:num_samples\n",
    "        trace = Trace()\n",
    "        @in trace begin\n",
    "            for (i, y) in enumerate(ys)\n",
    "                @constrain(\"y$i\", y) # equivalent to trace[\"y$i\"] = y\n",
    "            end\n",
    "        end\n",
    "        linear_regression_outliers(trace, xs)\n",
    "        traces[sample] = trace\n",
    "        log_weights[sample] = trace.log_weight\n",
    "    end\n",
    "    weights = exp(log_weights - logsumexp(log_weights))\n",
    "    chosen = rand(Distributions.Categorical(weights))\n",
    "    return traces[chosen]\n",
    "end\n"
   ]
  },
  {
   "cell_type": "markdown",
   "metadata": {},
   "source": [
    "We now set up an example dataset that has one clear outlier, and run our inference algorithm, to check that it correctly infers which datapoints are outliers."
   ]
  },
  {
   "cell_type": "code",
   "execution_count": 38,
   "metadata": {},
   "outputs": [
    {
     "data": {
      "image/png": "[encoded data removed]",
      "text/plain": [
       "PyPlot.Figure(PyObject <matplotlib.figure.Figure object at 0x7f07b30a0d50>)"
      ]
     },
     "metadata": {},
     "output_type": "display_data"
    }
   ],
   "source": [
    "xs = collect(linspace(-5., 5., 10))\n",
    "ys = xs + randn(10) * 0.2\n",
    "ys[4] = -ys[4]\n",
    "plt[:figure](figsize=(5, 5))\n",
    "plt[:scatter](xs, ys);"
   ]
  },
  {
   "cell_type": "markdown",
   "metadata": {},
   "source": [
    "We run likelihood-weighting 36 times, where each run uses 10,000 samples from the prior. This might take a several seconds:"
   ]
  },
  {
   "cell_type": "code",
   "execution_count": 39,
   "metadata": {},
   "outputs": [
    {
     "ename": "LoadError",
     "evalue": "UndefVarError: linear_regression_likelihood_weighting not defined",
     "output_type": "error",
     "traceback": [
      "UndefVarError: linear_regression_likelihood_weighting not defined",
      "",
      " in macro expansion; at ./In[39]:5 [inlined]",
      " in anonymous at ./<missing>:?"
     ]
    }
   ],
   "source": [
    "traces = []\n",
    "for replicate=1:36\n",
    "    trace = Trace()\n",
    "    num_samples = 10000\n",
    "    push!(traces, linear_regression_likelihood_weighting(num_samples, xs, ys))\n",
    "end\n",
    "\n",
    "plt[:figure](figsize=(18, 8))\n",
    "for (i, trace) in enumerate(traces)\n",
    "    plt[:subplot](4, 9, i)\n",
    "    ax = plt[:gca]()\n",
    "    xlim = [-4., 4.]\n",
    "    ylim = [-4., 4.]\n",
    "    render_linear_regression_outliers_trace(trace, xs, ax, xlim, ylim)\n",
    "end\n",
    "plt[:tight_layout]()"
   ]
  },
  {
   "cell_type": "markdown",
   "metadata": {},
   "source": [
    "Most of the samples should show the outlier in red."
   ]
  },
  {
   "cell_type": "markdown",
   "metadata": {},
   "source": [
    "That inference algorithm was a little slow, because we had to wait for it. Let's see what happens when we use a less accurate but faster version, that only uses 100 samples from the prior:"
   ]
  },
  {
   "cell_type": "code",
   "execution_count": 40,
   "metadata": {},
   "outputs": [
    {
     "ename": "LoadError",
     "evalue": "UndefVarError: linear_regression_likelihood_weighting not defined",
     "output_type": "error",
     "traceback": [
      "UndefVarError: linear_regression_likelihood_weighting not defined",
      "",
      " in macro expansion; at ./In[40]:5 [inlined]",
      " in anonymous at ./<missing>:?"
     ]
    }
   ],
   "source": [
    "traces = []\n",
    "for replicate=1:36\n",
    "    trace = Trace()\n",
    "    num_samples = 100\n",
    "    push!(traces, linear_regression_likelihood_weighting(num_samples, xs, ys))\n",
    "end\n",
    "\n",
    "plt[:figure](figsize=(18, 8))\n",
    "for (i, trace) in enumerate(traces)\n",
    "    plt[:subplot](4, 9, i)\n",
    "    ax = plt[:gca]()\n",
    "    xlim = [-4., 4.]\n",
    "    ylim = [-4., 4.]\n",
    "    render_linear_regression_outliers_trace(trace, xs, ax, xlim, ylim)\n",
    "end\n",
    "plt[:tight_layout]()"
   ]
  },
  {
   "cell_type": "markdown",
   "metadata": {},
   "source": [
    "## Problem 2.1\n",
    "\n",
    "The distribution on traces produced by the inference algorithm above seems to be mostly 'unimodal' because most of the probability mass is concentrated within one contiguous region in the set of traces, or centered at one trace.\n",
    "\n",
    "Create a new dataset that results in a bimodal posterior distribution on the slope and intercept. Run the likelihoog-weighting inference algorithm on that dataset and visualize the traces to see the bimodality.\n",
    "\n",
    "NOTE: Do not simply create a bimodal prior. The prior on slope and intercept must be unimodal."
   ]
  },
  {
   "cell_type": "code",
   "execution_count": 41,
   "metadata": {},
   "outputs": [
    {
     "data": {
      "image/png": "[encoded data removed]",
      "text/plain": [
       "PyPlot.Figure(PyObject <matplotlib.figure.Figure object at 0x7f07b2d80d90>)"
      ]
     },
     "metadata": {},
     "output_type": "display_data"
    }
   ],
   "source": [
    "## ANSWER HERE\n",
    "\n",
    "# DOWNWARD ARROW --------------\n",
    "# xs_pos = collect(linspace(0., 2.5, 4))\n",
    "# println(\"xs_pos:$xs_pos\")\n",
    "\n",
    "# ys_pos = collect(linspace(0, 2.5, 4))\n",
    "# println(\"ys_pos:$ys_pos\")\n",
    "\n",
    "# xs_neg = collect(linspace(0., -2.5, 4))\n",
    "\n",
    "# ys_neg = collect(linspace(0, 2.5, 4))\n",
    "\n",
    "# println(\"xs_neg:$xs_neg\")\n",
    "# println(\"ys_neg:$ys_neg\")\n",
    "\n",
    "# DOWNWARD ARROW --------------\n",
    "\n",
    "\n",
    "\n",
    "# plt[:figure](figsize=(5, 5))\n",
    "# plt[:scatter](xs_pos, ys_pos);\n",
    "# plt[:scatter](xs_neg, ys_neg);\n",
    "\n",
    "# xs_ = vcat(xs_pos,xs_neg)\n",
    "# ys_ = vcat(ys_pos,ys_neg)\n",
    "\n",
    "# plt[:figure](figsize=(5, 5))\n",
    "# plt[:scatter](xs_, ys_);\n",
    "\n",
    "\n",
    "# 5 points\n",
    "xs_ = [-3.8, 3.6, -3.7, 0, 3.5]\n",
    "ys_ = [3.6, -3.5, -3.6, 0, 3.5]\n",
    "\n",
    "plt[:figure](figsize=(5, 5))\n",
    "plt[:scatter](xs_, ys_);\n"
   ]
  },
  {
   "cell_type": "markdown",
   "metadata": {},
   "source": [
    "### Here we see the likelihoods for proposals from the prior"
   ]
  },
  {
   "cell_type": "code",
   "execution_count": 42,
   "metadata": {
    "scrolled": true
   },
   "outputs": [
    {
     "ename": "LoadError",
     "evalue": "UndefVarError: @in not defined",
     "output_type": "error",
     "traceback": [
      "UndefVarError: @in not defined",
      ""
     ]
    }
   ],
   "source": [
    "function linear_regression_raw_likelihood_weighting(num_samples::Int, xs::Array{Float64,1}, \n",
    "                                               ys::Array{Float64,1})\n",
    "    traces = Array{Trace,1}(num_samples)\n",
    "    log_weights = Array{Float64,1}(num_samples)\n",
    "    for sample=1:num_samples\n",
    "        trace = Trace()\n",
    "        @in trace begin\n",
    "            for (i, y) in enumerate(ys)\n",
    "                @constrain(\"y$i\", y) # equivalent to trace[\"y$i\"] = y\n",
    "            end\n",
    "        end\n",
    "        linear_regression_outliers(trace, xs)\n",
    "        traces[sample] = trace\n",
    "        log_weights[sample] = trace.log_weight\n",
    "    end\n",
    "    return traces, log_weights\n",
    "end\n",
    "    \n",
    "\n",
    "traces = []\n",
    "log_weights = []\n",
    "num_samples = 36\n",
    "\n",
    "traces, log_weights = linear_regression_raw_likelihood_weighting(num_samples, xs_, ys_)\n",
    "\n",
    "\n",
    "plt[:figure](figsize=(18, 8))\n",
    "for (i, trace) in enumerate(traces)\n",
    "    plt[:subplot](4, 9, i)\n",
    "    ax = plt[:gca]()\n",
    "    xlim = [-4., 4.]\n",
    "    ylim = [-4., 4.]\n",
    "    ax[:title][:set_text](log_weights[i])\n",
    "    #print(\"trace: $trace\")\n",
    "    render_linear_regression_outliers_trace(trace, xs_, ax, xlim, ylim)\n",
    "    \n",
    "end\n",
    "plt[:tight_layout]()"
   ]
  },
  {
   "cell_type": "markdown",
   "metadata": {},
   "source": [
    "### Let's Focus on one sample from the prior"
   ]
  },
  {
   "cell_type": "code",
   "execution_count": 43,
   "metadata": {},
   "outputs": [
    {
     "ename": "LoadError",
     "evalue": "UndefVarError: linear_regression_raw_likelihood_weighting not defined",
     "output_type": "error",
     "traceback": [
      "UndefVarError: linear_regression_raw_likelihood_weighting not defined",
      ""
     ]
    }
   ],
   "source": [
    "traces = []\n",
    "log_weights = []\n",
    "num_samples = 1\n",
    "\n",
    "traces, log_weights = linear_regression_raw_likelihood_weighting(num_samples, xs_, ys_)\n",
    "\n",
    "plt[:figure](figsize=(1.7, 1.8))\n",
    "for (i, trace) in enumerate(traces)\n",
    "    plt[:subplot](1, 1, i)\n",
    "    ax = plt[:gca]()\n",
    "    xlim = [-4., 4.]\n",
    "    ylim = [-4., 4.]\n",
    "    ax[:title][:set_text](log_weights[i])\n",
    "    render_linear_regression_outliers_trace(trace, xs_, ax, xlim, ylim)\n",
    "    \n",
    "end\n",
    "plt[:tight_layout]()\n",
    "\n",
    "println(\"log_weights/likelihood: $(log_weights[1])\")"
   ]
  },
  {
   "cell_type": "markdown",
   "metadata": {},
   "source": [
    "### Probabilities by hand\n",
    "\n",
    "\n",
    "\n",
    "To begin finding the weight for this sample by \"hand\", let's \n",
    "\n",
    "**1.write the joint probability of the generative model for `linear_regression_outliers`**\n",
    "\n",
    "**Notation**\n",
    "\n",
    "Let `G` represent Gamma, `N` Normal, `B` Bernoulli, and `PI` as \"`the product of`\" .\n",
    "Also let `prob_in` and `prob_out` represent the proability of a coordinate being an inlier and outlier respectively.\n",
    "\n",
    "`P_G(prob_in; 1,1) * P_N(m; 0,2) * P_N(b; 0,2) * ( i=1 to N PI( P_B(o_i) )) *  ( i=1 to N PI( P_N( y_i; m*x_i+b, o_i(prob_out) + (1-o_i)*prob_in))`\n",
    "\n",
    "**2.write the proposal**\n",
    "\n",
    "`P_G(prob_in; 1,1) * P_N(m; 0,2) * P_N(b; 0,2) * ( i=1 to N PI( P_B(o_i) ))`\n",
    "\n",
    "**3.calculate the weight ( joint probability / proposal )**\n",
    "\n",
    "`P_G(prob_in; 1,1) * P_N(m; 0,2) * P_N(b; 0,2) * ( i=1 to N PI( P_B(o_i) )) *  ( i=1 to N PI( P_N( y_i; m*x_i+b, o_i(prob_out) + (1-o_i)*prob_in))   /  P_G(prob_in; 1,1) * P_N(m; 0,2) * P_N(b; 0,2) * ( i=1 to N PI( P_B(o_i) )`\n",
    "\n",
    "\n",
    "`P_G(prob_in; 1,1) * P_N(m; 0,2) * P_N(b; 0,2) * ( i=1 to N PI( P_B(o_i) )` cancel out\n",
    "\n",
    "and we are left with:\n",
    "\n",
    "`( i=1 to N PI( P_N( y_i; m*x_i+b, o_i(prob_out) + (1-o_i)*prob_in))`\n",
    "\n",
    "\n",
    "**4.Calculate the weight**\n",
    "\n",
    "given the values of the trace above with `ys` constrained\n",
    "\n"
   ]
  },
  {
   "cell_type": "code",
   "execution_count": 44,
   "metadata": {},
   "outputs": [
    {
     "name": "stderr",
     "output_type": "stream",
     "text": [
      "WARNING: using Distributions.probs in module Main conflicts with an existing identifier.\n"
     ]
    },
    {
     "ename": "LoadError",
     "evalue": "MethodError: no method matching getindex(::Gen.Trace, ::String)",
     "output_type": "error",
     "traceback": [
      "MethodError: no method matching getindex(::Gen.Trace, ::String)",
      ""
     ]
    }
   ],
   "source": [
    "using Distributions\n",
    "xs = [-3.8,3.6,-3.7,0.0,3.5]\n",
    "ys = [3.6, -3.5, -3.6, 0, 3.5]\n",
    "os = [trace[\"o1\"],trace[\"o2\"],trace[\"o3\"],trace[\"o4\"],trace[\"o5\"]]\n",
    "\n",
    "m = trace[\"slope\"]\n",
    "b = trace[\"intercept\"]\n",
    "inlier_noise = trace[\"inlier_noise\"]\n",
    "outlier_noise = 10.\n",
    "\n",
    "sum_prob = 0\n",
    "for i in 1:5\n",
    "    val = logpdf( Normal(m*xs[i]+b,  os[i] ? outlier_noise : inlier_noise), ys[i])\n",
    "    sum_prob += val\n",
    "end\n",
    "    \n",
    "println(\"Likelihood: $sum_prob\")\n",
    "println(\"trace.log_weight: $(trace.log_weight)\")"
   ]
  },
  {
   "cell_type": "code",
   "execution_count": 45,
   "metadata": {},
   "outputs": [
    {
     "ename": "LoadError",
     "evalue": "UndefVarError: linear_regression_likelihood_weighting not defined",
     "output_type": "error",
     "traceback": [
      "UndefVarError: linear_regression_likelihood_weighting not defined",
      "",
      " in macro expansion; at ./In[45]:5 [inlined]",
      " in anonymous at ./<missing>:?"
     ]
    }
   ],
   "source": [
    "traces = []\n",
    "for replicate=1:36\n",
    "    trace = Trace()\n",
    "    num_samples = 20000\n",
    "    push!(traces, linear_regression_likelihood_weighting(num_samples, xs_, ys_))\n",
    "end\n",
    "\n",
    "plt[:figure](figsize=(18, 8))\n",
    "for (i, trace) in enumerate(traces)\n",
    "    plt[:subplot](4, 9, i)\n",
    "    ax = plt[:gca]()\n",
    "    xlim = [-4., 4.]\n",
    "    ylim = [-4., 4.]\n",
    "    render_linear_regression_outliers_trace(trace, xs_, ax, xlim, ylim)\n",
    "end\n",
    "plt[:tight_layout]()"
   ]
  },
  {
   "cell_type": "code",
   "execution_count": 46,
   "metadata": {},
   "outputs": [
    {
     "name": "stderr",
     "output_type": "stream",
     "text": [
      "WARNING: Method definition linear_regression_outliers(Gen.Trace, Array{Float64, 1}) in module Main at In[29]:2 overwritten at In[46]:2.\n"
     ]
    },
    {
     "data": {
      "text/plain": [
       "linear_regression_outliers (generic function with 1 method)"
      ]
     },
     "execution_count": 46,
     "metadata": {},
     "output_type": "execute_result"
    }
   ],
   "source": [
    "function linear_regression_outliers(T::Trace, xs::Array{Float64,1})\n",
    "    inlier_noise = gamma(1., 1.) ~ \"inlier_noise\"\n",
    "    outlier_noise = 10.0\n",
    "    prob_outlier = 0.1\n",
    "    slope = normal(0.0, 2.0) ~ \"slope\"\n",
    "    intercept = normal(0.0, 2.0) ~ \"intercept\"\n",
    "    ys = Array{Float64, 1}(length(xs))\n",
    "    for i=1:length(xs)\n",
    "        y_mean = intercept + slope * xs[i]\n",
    "        noise = (flip(prob_outlier) ~ \"o$i\") ? outlier_noise : inlier_noise \n",
    "        ys[i] = normal(y_mean, noise) ~ \"y$i\"\n",
    "    end\n",
    "end"
   ]
  }
 ],
 "metadata": {
  "anaconda-cloud": {},
  "kernelspec": {
   "display_name": "Julia 0.5.1",
   "language": "julia",
   "name": "julia-0.5"
  },
  "language_info": {
   "file_extension": ".jl",
   "mimetype": "application/julia",
   "name": "julia",
   "version": "0.5.1"
  }
 },
 "nbformat": 4,
 "nbformat_minor": 2
}
