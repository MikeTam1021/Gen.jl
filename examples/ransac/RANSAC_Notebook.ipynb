{
 "cells": [
  {
   "cell_type": "markdown",
   "metadata": {},
   "source": [
    "<h1> Using GEN do to Inference </h1>\n",
    "\n",
    "\n",
    "**The goal here is to demonstrate how GEN can be used to do inference. To accomplish this, we use a traditional algorithm, RANSAC, to begin. **\n",
    "\n",
    "\n",
    "<h4>(About Custom Proposals) SIDE NOTE:</h4> <small>\n",
    "Instead of simply guessing proposals from arbitrary functions (i.e. Gaussians), we can \n",
    "improve our inference algorithms by adding custom proposals. They are usually written \n",
    "with as much prior knowledge about the problem as possible. With better guesses, \n",
    "our program has the capability to converge more quickly. </small>\n",
    "\n",
    "\n",
    "### Let's Create Sample Data to Infer Lines from Points\n",
    "\n",
    "In this example we have data that has some linear relationship, except for one point (the outlier). Our goal is to use  GEN to infer a line from the data of points."
   ]
  },
  {
   "cell_type": "code",
   "execution_count": 1,
   "metadata": {},
   "outputs": [
    {
     "ename": "LoadError",
     "evalue": "UndefVarError: plt not defined",
     "output_type": "error",
     "traceback": [
      "UndefVarError: plt not defined",
      ""
     ]
    }
   ],
   "source": [
    "# Create Sample Data\n",
    "srand(40)\n",
    "xs = collect(linspace(-3, 3, 30))\n",
    "ys = -xs + randn(length(xs)) * 0.7\n",
    "ys[end] = 4 # an outlier \n",
    "\n",
    "plt[:figure](figsize=(5, 5))\n",
    "plt[:scatter](xs, ys);\n",
    "plt[:title](\"Sample Dataset\")"
   ]
  },
  {
   "cell_type": "markdown",
   "metadata": {},
   "source": [
    "### First, we use GEN to create our probablistic programs ...\n",
    "\n",
    "* Generative Program for linear_regression\n",
    "* Proposal program as a probablistic program"
   ]
  },
  {
   "cell_type": "code",
   "execution_count": 2,
   "metadata": {},
   "outputs": [
    {
     "ename": "LoadError",
     "evalue": "UndefVarError: RansacParams not defined",
     "output_type": "error",
     "traceback": [
      "UndefVarError: RansacParams not defined",
      ""
     ]
    }
   ],
   "source": [
    "using Gen\n",
    "using Distributions\n",
    "using PyPlot\n",
    "using StatsBase\n",
    "\n",
    "# Linear regression probabilistic model\n",
    "@program linear_regression(xs::Array{Float64,1}) begin\n",
    "    prior_mu = 0.0\n",
    "    prior_std = 2.0\n",
    "    outlier_noise = 10.0\n",
    "    prob_outlier = 0.1\n",
    "    inlier_noise = 0.2\n",
    "    slope = normal(prior_mu, prior_std) ~ \"slope\"\n",
    "    intercept = normal(prior_mu, prior_std) ~ \"intercept\"\n",
    "    ys = Array{Float64, 1}(length(xs))\n",
    "    for i=1:length(xs)\n",
    "        y_mean = intercept + slope * xs[i]\n",
    "        noise = (flip(prob_outlier) ~ \"o$i\") ? outlier_noise : inlier_noise \n",
    "        ys[i] = normal(y_mean, noise) ~ \"y$i\"\n",
    "    end\n",
    "end\n",
    "\n",
    "# A proposal program based on RANSAC\n",
    "@program ransac_proposal(xs::Array{Float64,1},\n",
    "                         ys::Array{Float64,1},\n",
    "                         ransac_params::RansacParams, \n",
    "                         proposal_std::Float64) begin\n",
    "\n",
    "    # use RANSAC to guess the line parameters\n",
    "    slope, intercept, inliers = ransac_core(xs, ys, ransac_params)\n",
    "\n",
    "    # add noise to the line parameters\n",
    "    slope_proposed = normal(slope, proposal_std) ~ \"slope\"\n",
    "    intercept_proposed = normal(intercept, proposal_std) ~ \"intercept\"\n",
    "\n",
    "    # add some noise to the proposed outlier statuses\n",
    "    for i=1:length(xs)\n",
    "        prob_outlier = inliers[i] ? 0.1 : 0.9\n",
    "        flip(prob_outlier) ~ \"o$i\"\n",
    "    end\n",
    "end\n"
   ]
  },
  {
   "cell_type": "markdown",
   "metadata": {},
   "source": [
    "### Second, we write our RANSAC Algorithm"
   ]
  },
  {
   "cell_type": "code",
   "execution_count": 3,
   "metadata": {},
   "outputs": [
    {
     "data": {
      "text/plain": [
       "ransac_core (generic function with 1 method)"
      ]
     },
     "execution_count": 3,
     "metadata": {},
     "output_type": "execute_result"
    }
   ],
   "source": [
    "# A basic RANSAC algorithm \n",
    "\n",
    "immutable RansacParams\n",
    "\n",
    "    # the number of random subsets to try\n",
    "    iters::Int\n",
    "\n",
    "    # the number of points to use to construct a hypothesis\n",
    "    subset_size::Int\n",
    "\n",
    "    # the error threshold below which a datum is considered an inlier\n",
    "    eps::Float64\n",
    "end\n",
    "\n",
    "# The oringal ransac algorithm\n",
    "function ransac_core(xs::Array{Float64,1}, ys::Array{Float64,1},\n",
    "                     params::RansacParams)\n",
    "    best_num_inliers::Int = -1\n",
    "    best_slope::Float64 = NaN\n",
    "    best_intercept::Float64 = NaN\n",
    "    best_inliers = Array{Bool,1}(length(xs))\n",
    "    for i=1:params.iters\n",
    "\n",
    "        # select a random subset of points\n",
    "        ### subset = randperm(length(xs))[1:params.subset_size]\n",
    "        \n",
    "        rand_ind = sample(1:length(xs), params.subset_size, replace = false)\n",
    "        subset_xs = xs[rand_ind]\n",
    "        subset_ys = ys[rand_ind]\n",
    "        \n",
    "        # estimate slope and intercept using least squares\n",
    "    \n",
    "        ### A = hcat(xs, ones(length(xs)))\n",
    "        A = hcat(subset_xs, ones(length(subset_xs)))\n",
    "        \n",
    "        ### slope, intercept = A\\ys\n",
    "        slope, intercept = A\\subset_ys\n",
    "        \n",
    "        ypred = intercept + slope * xs\n",
    "\n",
    "        # count the number of inliers for this (slope, intercept) hypothesis\n",
    "        inliers = abs(ys - ypred) .< params.eps\n",
    "        num_inliers = sum(inliers)\n",
    "\n",
    "        if num_inliers > best_num_inliers\n",
    "            best_slope, best_intercept = slope, intercept\n",
    "            best_inliers = inliers\n",
    "            best_num_inliers = num_inliers\n",
    "        end\n",
    "    end\n",
    "\n",
    "    # return the hypothesis that resulted in the most inliers\n",
    "    (best_slope, best_intercept, best_inliers)\n",
    "end"
   ]
  },
  {
   "cell_type": "markdown",
   "metadata": {},
   "source": [
    "### Third, we write proposal helper function\n",
    "\n",
    "Where we \"propose\" random values and run our proposal probablistic program."
   ]
  },
  {
   "cell_type": "code",
   "execution_count": 4,
   "metadata": {},
   "outputs": [
    {
     "data": {
      "text/plain": [
       "propose_and_compute_score (generic function with 1 method)"
      ]
     },
     "execution_count": 4,
     "metadata": {},
     "output_type": "execute_result"
    }
   ],
   "source": [
    "function propose_and_compute_score(xs::Array{Float64,1}, ys::Array{Float64,1},\n",
    "                                   ransac_params::RansacParams, proposal_std::Float64)\n",
    "\n",
    "    # run the proposal program\n",
    "    proposal_trace = Trace()\n",
    "\n",
    "    rand_vars = vcat([\"slope\", \"intercept\"], [\"o$i\" for i=1:length(xs)])\n",
    "    \n",
    "     for (i,v) in enumerate(rand_vars)\n",
    "        propose!(proposal_trace, v)\n",
    "    end\n",
    "    \n",
    "    @generate(proposal_trace, ransac_proposal(xs, ys, ransac_params, proposal_std))\n",
    "\n",
    "    # set constraints in the model trace\n",
    "    model_trace = Trace()\n",
    "    \n",
    "    for(i, y) in enumerate(ys)\n",
    "        constrain!(model_trace, \"y$i\", y)\n",
    "    end\n",
    "    \n",
    "    for (i,v) in enumerate(rand_vars)\n",
    "        constrain!(model_trace, v, value(proposal_trace, v))\n",
    "    end\n",
    "    \n",
    "    # run the model program to compute the model score\n",
    "    @generate(model_trace, linear_regression(xs))\n",
    "\n",
    "    # return model trace and score\n",
    "    proposal_score = score(model_trace) - score(proposal_trace)\n",
    "    (model_trace, proposal_score)\n",
    "end"
   ]
  },
  {
   "cell_type": "markdown",
   "metadata": {},
   "source": [
    "### Next, we write our inference algorithms as regular functions\n",
    "\n",
    "We implement both \n",
    " * Metropolis-Hastings\n",
    " * Sampling Importance Resampling"
   ]
  },
  {
   "cell_type": "code",
   "execution_count": 5,
   "metadata": {},
   "outputs": [
    {
     "data": {
      "text/plain": [
       "linreg_infer_sir (generic function with 1 method)"
      ]
     },
     "execution_count": 5,
     "metadata": {},
     "output_type": "execute_result"
    }
   ],
   "source": [
    "function linreg_infer_mh(num_iters::Int, xs::Array{Float64,1}, \n",
    "                      ys::Array{Float64,1},proposal_std::Float64)\n",
    "    # parameters of proposal\n",
    "    ransac_params = RansacParams(10, 2, 1.)\n",
    "    \n",
    "\n",
    "    # initial trace and score\n",
    "    trace, score = propose_and_compute_score(xs, ys, ransac_params, \n",
    "                                             proposal_std)\n",
    "\n",
    "    # MH iterations\n",
    "    for iter=1:num_iters\n",
    "        proposed_trace, proposed_score = propose_and_compute_score(xs, ys, ransac_params, \n",
    "                                                                   proposal_std)\n",
    "        if log(rand()) <= proposed_score - score\n",
    "            # accept\n",
    "            score = proposed_score\n",
    "            trace = proposed_trace\n",
    "        else\n",
    "            # reject\n",
    "            nothing\n",
    "        end\n",
    "    end\n",
    "\n",
    "    # return the final iterate of the Markov chain\n",
    "    trace\n",
    "end\n",
    "\n",
    "function logsumexp(x::Array{Float64,1})\n",
    "    maxx = maximum(x)\n",
    "    maxx + log(sum(exp(x - maxx)))\n",
    "end\n",
    "\n",
    "function linreg_infer_sir(num_samples::Int, xs::Array{Float64,1}, \n",
    "                          ys::Array{Float64,1}, proposal_std::Float64)\n",
    "    # parameters of proposal\n",
    "    ransac_params = RansacParams(10, 2, 1.)\n",
    "    log_weights = Array{Float64,1}(num_samples)\n",
    "    traces = Array{Trace,1}(num_samples)\n",
    "    for sample=1:num_samples\n",
    "        trace, score = propose_and_compute_score(xs, ys, ransac_params, proposal_std)\n",
    "        traces[sample] = trace\n",
    "        log_weights[sample] = score\n",
    "    end\n",
    "    weights = exp(log_weights - logsumexp(log_weights))\n",
    "    chosen = rand(Distributions.Categorical(weights))\n",
    "    return traces[chosen]\n",
    "end"
   ]
  },
  {
   "cell_type": "markdown",
   "metadata": {},
   "source": [
    "### Finally, we write code to run inference!"
   ]
  },
  {
   "cell_type": "code",
   "execution_count": 6,
   "metadata": {},
   "outputs": [
    {
     "data": {
      "text/plain": [
       "demo (generic function with 1 method)"
      ]
     },
     "execution_count": 6,
     "metadata": {},
     "output_type": "execute_result"
    }
   ],
   "source": [
    "# Plotting helper function\n",
    "function render_linreg_trace(trace::Trace, xs::Array{Float64,1})\n",
    "    ax = plt[:gca]()\n",
    "    n = length(xs)\n",
    "    ys = map((i) -> value(trace,\"y$i\"), 1:n)\n",
    "    outlier_statuses = map((i) -> value(trace,\"o$i\"), 1:n)\n",
    "    slope = value(trace, \"slope\")\n",
    "    intercept = value(trace, \"intercept\")\n",
    "    xmin, xmax = minimum(xs), maximum(xs)\n",
    "    xspan = xmax - xmin\n",
    "    ymin, ymax = minimum(ys), maximum(ys)\n",
    "    yspan = ymax - ymin\n",
    "    xlim = [xmin - 0.1 * xspan, xmax + 0.1 * xspan]\n",
    "    ylim = [ymin - 0.1 * yspan, ymax + 0.1 * yspan]\n",
    "    colors = map((i) -> outlier_statuses[i] ? \"orange\" : \"blue\", 1:n)\n",
    "    plt[:scatter](xs, ys, c=colors)\n",
    "    xs_line = [xmin, xmax]\n",
    "    ys_line = intercept + slope * [xmin, xmax]\n",
    "    plt[:plot](xs_line, ys_line, color=\"black\")\n",
    "    ax[:set_xlim](xlim)\n",
    "    ax[:set_ylim](ylim)\n",
    "end\n",
    "\n",
    "# Runs any of the inference algorithms with the number of samples as a parameter\n",
    "function demo(xs::Array{Float64,1}, ys::Array{Float64,1}, proposal_std::Float64, num_samples::Float64, infer::Function)\n",
    "    plt[:figure](figsize=(10, 10))\n",
    "    for i=1:num_samples\n",
    "        #trace = linreg_infer_mh(100, xs, ys, proposal_std)\n",
    "        trace = infer(100, xs, ys, proposal_std)\n",
    "        plt[:subplot](5, 5, i)\n",
    "        render_linreg_trace(trace, xs)\n",
    "    end\n",
    "    plt[:savefig](\"samples.pdf\")\n",
    "\n",
    "end"
   ]
  },
  {
   "cell_type": "markdown",
   "metadata": {},
   "source": [
    "### Testing GEN's implementation of Metroplis Hastings\n",
    "\n",
    "Let's run 5 samples."
   ]
  },
  {
   "cell_type": "code",
   "execution_count": 7,
   "metadata": {},
   "outputs": [
    {
     "ename": "LoadError",
     "evalue": "MethodError: no method matching ransac_proposal(::Gen.Trace, ::Array{Float64,1}, ::Array{Float64,1}, ::RansacParams, ::Float64)",
     "output_type": "error",
     "traceback": [
      "MethodError: no method matching ransac_proposal(::Gen.Trace, ::Array{Float64,1}, ::Array{Float64,1}, ::RansacParams, ::Float64)",
      "",
      " in macro expansion at /Users/Iris/Documents/MIT/Gen.jl/src/trace.jl:325 [inlined]",
      " in propose_and_compute_score(::Array{Float64,1}, ::Array{Float64,1}, ::RansacParams, ::Float64) at ./In[4]:13",
      " in linreg_infer_mh(::Int64, ::Array{Float64,1}, ::Array{Float64,1}, ::Float64) at ./In[5]:8",
      " in demo(::Array{Float64,1}, ::Array{Float64,1}, ::Float64, ::Float64, ::#linreg_infer_mh) at ./In[6]:29"
     ]
    }
   ],
   "source": [
    "num_samples = 5.\n",
    "proposal_noise = .2\n",
    "\n",
    "demo(xs, ys, proposal_noise, num_samples, linreg_infer_mh)"
   ]
  },
  {
   "cell_type": "markdown",
   "metadata": {},
   "source": [
    "### Next, Let's Test GEN's implementation of Sampling Importance Resampling"
   ]
  },
  {
   "cell_type": "code",
   "execution_count": 8,
   "metadata": {},
   "outputs": [
    {
     "ename": "LoadError",
     "evalue": "MethodError: no method matching ransac_proposal(::Gen.Trace, ::Array{Float64,1}, ::Array{Float64,1}, ::RansacParams, ::Float64)",
     "output_type": "error",
     "traceback": [
      "MethodError: no method matching ransac_proposal(::Gen.Trace, ::Array{Float64,1}, ::Array{Float64,1}, ::RansacParams, ::Float64)",
      "",
      " in macro expansion at /Users/Iris/Documents/MIT/Gen.jl/src/trace.jl:325 [inlined]",
      " in propose_and_compute_score(::Array{Float64,1}, ::Array{Float64,1}, ::RansacParams, ::Float64) at ./In[4]:13",
      " in linreg_infer_sir(::Int64, ::Array{Float64,1}, ::Array{Float64,1}, ::Float64) at ./In[5]:41",
      " in demo(::Array{Float64,1}, ::Array{Float64,1}, ::Float64, ::Float64, ::#linreg_infer_sir) at ./In[6]:29"
     ]
    }
   ],
   "source": [
    "demo(xs, ys, proposal_noise, num_samples, linreg_infer_sir)"
   ]
  },
  {
   "cell_type": "markdown",
   "metadata": {},
   "source": [
    "### Testing Noise in a Proposal with GEN\n",
    "\n",
    "In order for a custom proposal to work with inference, we must add some noise. This is added to take into account `uncertainity` in the model. \n",
    "\n",
    "The noise added to the proposal is important. It makes the difference of how fast and well the program converges. \n",
    "\n",
    "Let's use GEN to test different proposal weights, \n",
    "\n",
    "but first... let's write some **helper functions to run inference and RANSAC several times for us**\n"
   ]
  },
  {
   "cell_type": "code",
   "execution_count": 9,
   "metadata": {},
   "outputs": [
    {
     "data": {
      "text/plain": [
       "run_ransac (generic function with 1 method)"
      ]
     },
     "execution_count": 9,
     "metadata": {},
     "output_type": "execute_result"
    }
   ],
   "source": [
    "# Run inference an unbounded number of times and collects the traces\n",
    "function run_inference(xs::Array{Float64,1}, ys::Array{Float64,1}, proposal_std::Float64, num_samples::Float64)\n",
    "    traces = []\n",
    "    for i=1:num_samples\n",
    "        trace = linreg_infer_mh(100, xs, ys, proposal_std)\n",
    "        push!(traces, trace)\n",
    "    end\n",
    "    traces\n",
    "end\n",
    "\n",
    "# Run RANSAC with an unbounded number of iterations. Store as traces and return them\n",
    "function run_ransac(xs::Array{Float64,1}, ys::Array{Float64,1}, num_samples::Float64, ransac::Function)\n",
    "    traces = []\n",
    "    for i=1:num_samples\n",
    "        ransac_params = RansacParams(1000, 2, 1)\n",
    "        slope, intercept, inliers = ransac(xs, ys, ransac_params)\n",
    "        \n",
    "        trace = Trace()\n",
    "        constrain!(trace, \"slope\", slope)\n",
    "        constrain!(trace, \"intercept\", intercept)\n",
    "        push!(traces, trace)\n",
    "    end\n",
    "    traces\n",
    "end"
   ]
  },
  {
   "cell_type": "code",
   "execution_count": 10,
   "metadata": {},
   "outputs": [
    {
     "data": {
      "text/plain": [
       "plot_many (generic function with 1 method)"
      ]
     },
     "execution_count": 10,
     "metadata": {},
     "output_type": "execute_result"
    }
   ],
   "source": [
    "# Plots data from a list of traces into a single plot\n",
    "function plot_many(xs::Array{Float64,1}, ys::Array{Float64,1}, traces::Array{Any, 1}, i::Int)\n",
    "    plt[:subplot](5, 5, i)\n",
    "    ax = plt[:gca]()\n",
    "    n = length(xs)\n",
    "    xmin, xmax = minimum(xs), maximum(xs)\n",
    "    xspan = xmax - xmin\n",
    "    ymin, ymax = minimum(ys), maximum(ys)\n",
    "    yspan = ymax - ymin\n",
    "    xlim = [xmin - 0.1 * xspan, xmax + 0.1 * xspan]\n",
    "    ylim = [ymin - 0.1 * yspan, ymax + 0.1 * yspan]\n",
    "    \n",
    "    plt[:scatter](xs, ys, c=\"black\")\n",
    "    for (i, trace) in enumerate(traces)\n",
    "        intercept = value(trace, \"intercept\")\n",
    "        slope = value(trace, \"slope\")\n",
    "        xs_line = [xmin, xmax]\n",
    "        ys_line = intercept + slope * [xmin, xmax]\n",
    "        plt[:plot](xs_line, ys_line, color=\"orange\", alpha=0.7)\n",
    "    end\n",
    "    \n",
    "    \n",
    "    ax[:set_xlim](xlim)\n",
    "    ax[:set_ylim](ylim)\n",
    "    #ax[:fill_between](xs_line, 2, 0)\n",
    "end"
   ]
  },
  {
   "cell_type": "markdown",
   "metadata": {},
   "source": [
    "## Testing proposal weights with GEN\n",
    "\n",
    "Now, we show inference results with 3 different proposal weights: \n",
    "\n",
    "* small proposal noise\n",
    "* large proposal noise\n",
    "* normal proposal noise\n",
    "\n",
    "we'll add the test case where we run RANSAC alone\n",
    "* RANSAC (no inference)"
   ]
  },
  {
   "cell_type": "code",
   "execution_count": 11,
   "metadata": {},
   "outputs": [
    {
     "ename": "LoadError",
     "evalue": "MethodError: no method matching ransac_proposal(::Gen.Trace, ::Array{Float64,1}, ::Array{Float64,1}, ::RansacParams, ::Float64)",
     "output_type": "error",
     "traceback": [
      "MethodError: no method matching ransac_proposal(::Gen.Trace, ::Array{Float64,1}, ::Array{Float64,1}, ::RansacParams, ::Float64)",
      "",
      " in macro expansion at /Users/Iris/Documents/MIT/Gen.jl/src/trace.jl:325 [inlined]",
      " in propose_and_compute_score(::Array{Float64,1}, ::Array{Float64,1}, ::RansacParams, ::Float64) at ./In[4]:13",
      " in linreg_infer_mh(::Int64, ::Array{Float64,1}, ::Array{Float64,1}, ::Float64) at ./In[5]:8",
      " in run_inference(::Array{Float64,1}, ::Array{Float64,1}, ::Float64, ::Float64) at ./In[9]:5"
     ]
    }
   ],
   "source": [
    "num_samples = 10.\n",
    "\n",
    "#----- INFERENCE WITH DIFFERENT NOISE--\n",
    "proposal_noise = .00002\n",
    "traces_sm = run_inference(xs, ys, proposal_noise, num_samples)\n",
    "proposal_noise = 10.\n",
    "traces_lg = run_inference(xs, ys, proposal_noise, num_samples)\n",
    "proposal_noise = 1.\n",
    "traces_reg = run_inference(xs, ys, proposal_noise, num_samples)\n",
    "\n",
    "#----- RANSAC BY ITSELF ----------\n",
    "traces_ransac = run_ransac(xs, ys, num_samples, ransac_core)\n",
    "\n",
    "#----------------------------------\n",
    "\n",
    "# PLOT THE DIFFERENCES\n",
    "titles = [\"Small Noise\", \"Large Noise\", \"~Good Noise\", \"RANSAC\"]\n",
    "trace_list = [traces_sm, traces_lg, traces_reg, traces_ransac]\n",
    "plt[:figure](figsize=(20, 20))\n",
    "for i=1:4\n",
    "    plot_many(xs, ys, trace_list[i], i)\n",
    "    plt[:title](titles[i])\n",
    "end"
   ]
  },
  {
   "cell_type": "markdown",
   "metadata": {},
   "source": [
    "GEN lets you implement inference easily, as seen by the example. \n",
    "\n",
    "SIDE NOTE: Observing the data, we see that the weight in the proposal function makes a differece. RANSAC by itself has little variance, while a large proposal noise has a large variance of possible line estimates for the data. If the noise is too small it will look more like the RANSAC samples, with little variance. Therefore, it's important we choose our noise wisely!"
   ]
  },
  {
   "cell_type": "markdown",
   "metadata": {},
   "source": [
    "## (Just for Fun) What if your proposal isn't perfect?\n",
    "\n",
    "There are some benefits of using inference rather than just an algorithm like RANSAC alone. Let's say that our proposal algorithm has a bug in it (it doesn't work as expected), but it does give a proposal\n",
    "\n",
    "Below we show a ransac algorithm with a bug. Can you find it? On lines 34 - 40, we entered a comment showing the bug. We removed the line of code that sets `best_num_inliers` to the largest value. Instead it always remains as `-1`. This means that every sample becomes the new line. **We never find the parameter with the most inliers!** It's as if we asked ransac to run only once instead of 10 times!\n",
    "\n"
   ]
  },
  {
   "cell_type": "code",
   "execution_count": 12,
   "metadata": {},
   "outputs": [
    {
     "data": {
      "text/plain": [
       "imperfect_ransac_core (generic function with 1 method)"
      ]
     },
     "execution_count": 12,
     "metadata": {},
     "output_type": "execute_result"
    }
   ],
   "source": [
    "function imperfect_ransac_core(xs::Array{Float64,1}, ys::Array{Float64,1},\n",
    "                     params::RansacParams)\n",
    "    best_num_inliers::Int = -1\n",
    "    best_slope::Float64 = NaN\n",
    "    best_intercept::Float64 = NaN\n",
    "    best_inliers = Array{Bool,1}(length(xs))\n",
    "    for i=1:params.iters\n",
    "\n",
    "        # select a random subset of points\n",
    "        ### subset = randperm(length(xs))[1:params.subset_size]\n",
    "        \n",
    "        rand_ind = sample(1:length(xs), params.subset_size, replace = false)\n",
    "        subset_xs = xs[rand_ind]\n",
    "        subset_ys = ys[rand_ind]\n",
    "        \n",
    "        # estimate slope and intercept using least squares\n",
    "    \n",
    "        ### A = hcat(xs, ones(length(xs)))\n",
    "        A = hcat(subset_xs, ones(length(subset_xs)))\n",
    "        \n",
    "        ### slope, intercept = A\\ys\n",
    "        slope, intercept = A\\subset_ys\n",
    "        \n",
    "        ypred = intercept + slope * xs\n",
    "\n",
    "        # count the number of inliers for this (slope, intercept) hypothesis\n",
    "        inliers = abs(ys - ypred) .< params.eps\n",
    "        num_inliers = sum(inliers)\n",
    "\n",
    "        if num_inliers > best_num_inliers\n",
    "            best_slope, best_intercept = slope, intercept\n",
    "            best_inliers = inliers\n",
    "            \n",
    "            # --------BUG--------------\n",
    "            # HERE we never actually reset \n",
    "            # best_num_inliers... \n",
    "            # therefore it's always -1.\n",
    "            #---------------------------\n",
    "            \n",
    "            #best_num_inliers = num_inliers <----- BUG\n",
    "        end\n",
    "    end\n",
    "\n",
    "    # return the hypothesis that resulted in the most inliers\n",
    "    (best_slope, best_intercept, best_inliers)\n",
    "end"
   ]
  },
  {
   "cell_type": "markdown",
   "metadata": {},
   "source": [
    "**Let's override the original ransac_propsal to call our imperfect RANSAC algorithm**"
   ]
  },
  {
   "cell_type": "code",
   "execution_count": 13,
   "metadata": {},
   "outputs": [
    {
     "data": {
      "text/plain": [
       "ransac_proposal (generic function with 1 method)"
      ]
     },
     "execution_count": 13,
     "metadata": {},
     "output_type": "execute_result"
    }
   ],
   "source": [
    "@program ransac_proposal(xs::Array{Float64,1},\n",
    "                         ys::Array{Float64,1},\n",
    "                         ransac_params::RansacParams, \n",
    "                         proposal_std::Float64) begin\n",
    "\n",
    "    # use IMPERFECT RANSAC to guess the line parameters\n",
    "    slope, intercept, inliers = imperfect_ransac_core(xs, ys, ransac_params)\n",
    "\n",
    "    # add noise to the line parameters\n",
    "    slope_proposed = normal(slope, proposal_std) ~ \"slope\"\n",
    "    intercept_proposed = normal(intercept, proposal_std) ~ \"intercept\"\n",
    "\n",
    "    # add some noise to the proposed outlier statuses\n",
    "    for i=1:length(xs)\n",
    "        prob_outlier = inliers[i] ? 0.1 : 0.9\n",
    "        flip(prob_outlier) ~ \"o$i\"\n",
    "    end\n",
    "end"
   ]
  },
  {
   "cell_type": "markdown",
   "metadata": {},
   "source": [
    "## Comparing Results\n",
    "Now let's run inference on using the new, yet imperfect, proposal, and compare it against running the imprefect RASAC by itself."
   ]
  },
  {
   "cell_type": "code",
   "execution_count": 15,
   "metadata": {},
   "outputs": [
    {
     "data": {
      "image/png": "[encoded data removed]",
      "text/plain": [
       "PyPlot.Figure(PyObject <matplotlib.figure.Figure object at 0x326a35490>)"
      ]
     },
     "metadata": {},
     "output_type": "display_data"
    }
   ],
   "source": [
    "num_samples = 10.\n",
    "\n",
    "#----- INFERENCE WITH DIFF NOISE--\n",
    "proposal_noise = 1.\n",
    "traces_reg = run_inference(xs, ys, proposal_noise, num_samples)\n",
    "\n",
    "#----- RANSAC BY ITSELF ----------\n",
    "traces_ransac = run_ransac(xs, ys, num_samples, imperfect_ransac_core)\n",
    "#----------------------------------\n",
    "\n",
    "# PLOT THE DIFFERENCES\n",
    "titles = [\"Inference Results w/Imperfect Proposal\", \"Imperfect RANSAC Results\"]\n",
    "trace_list = [traces_reg, traces_ransac]\n",
    "plt[:figure](figsize=(20, 20))\n",
    "for i=1:2\n",
    "    plot_many(xs, ys, trace_list[i], i)\n",
    "    plt[:title](titles[i])\n",
    "end"
   ]
  },
  {
   "cell_type": "markdown",
   "metadata": {},
   "source": [
    "## Conclusion\n",
    "\n",
    "Our inference have the ability to reject proposals, therefore if the data being proposed doesn't match the data well, it won't accept it. Although this is interesting, it's important to note that custom proposals are suppose to help inference converge faster. So if that's not happening, then perhaps we don't have the right custom proposal!\n",
    "\n",
    "### GEN and Inference\n",
    "\n",
    "Gen is a simple language used to solve many kinds of problems, especially ones more complex than this. With the ability to do internal calculations of likelihoods and so much more, Gen gives many people the opportunity to solve a variety of problems without having to know the detailed math behind it.  "
   ]
  }
 ],
 "metadata": {
  "kernelspec": {
   "display_name": "Julia 0.5.2",
   "language": "julia",
   "name": "julia-0.5"
  },
  "language_info": {
   "file_extension": ".jl",
   "mimetype": "application/julia",
   "name": "julia",
   "version": "0.5.2"
  }
 },
 "nbformat": 4,
 "nbformat_minor": 2
}
